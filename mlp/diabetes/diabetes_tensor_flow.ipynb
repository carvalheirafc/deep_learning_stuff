{
  "nbformat": 4,
  "nbformat_minor": 0,
  "metadata": {
    "colab": {
      "name": "diabetes_tensor_flow.ipynb",
      "version": "0.3.2",
      "provenance": [],
      "include_colab_link": true
    },
    "kernelspec": {
      "name": "python3",
      "display_name": "Python 3"
    }
  },
  "cells": [
    {
      "cell_type": "markdown",
      "metadata": {
        "id": "view-in-github",
        "colab_type": "text"
      },
      "source": [
        "<a href=\"https://colab.research.google.com/github/carvalheirafc/deep_learning_stuff/blob/master/mlp/diabetes/diabetes_tensor_flow.ipynb\" target=\"_parent\"><img src=\"https://colab.research.google.com/assets/colab-badge.svg\" alt=\"Open In Colab\"/></a>"
      ]
    },
    {
      "metadata": {
        "id": "Z9387aZudT5q",
        "colab_type": "code",
        "colab": {}
      },
      "cell_type": "code",
      "source": [
        "# Import Section\n",
        "\n",
        "import pandas as pd\n",
        "import numpy as np\n",
        "\n",
        "import matplotlib.pyplot as plt\n",
        "\n",
        "import tensorflow as tf\n",
        "from tensorflow import keras"
      ],
      "execution_count": 0,
      "outputs": []
    },
    {
      "metadata": {
        "id": "boHWUeCudz_i",
        "colab_type": "code",
        "colab": {
          "base_uri": "https://localhost:8080/",
          "height": 204
        },
        "outputId": "a6cd774c-8e74-4c8b-bc54-e12781ac1c11"
      },
      "cell_type": "code",
      "source": [
        "file_url = 'https://raw.githubusercontent.com/carvalheirafc/deep_learning_stuff/master/mlp/diabetes/diabetes_pca_result.csv'\n",
        "\n",
        "diabetes = pd.read_csv(file_url)\n",
        "diabetes.describe().transpose()\n"
      ],
      "execution_count": 8,
      "outputs": [
        {
          "output_type": "execute_result",
          "data": {
            "text/html": [
              "<div>\n",
              "<style scoped>\n",
              "    .dataframe tbody tr th:only-of-type {\n",
              "        vertical-align: middle;\n",
              "    }\n",
              "\n",
              "    .dataframe tbody tr th {\n",
              "        vertical-align: top;\n",
              "    }\n",
              "\n",
              "    .dataframe thead th {\n",
              "        text-align: right;\n",
              "    }\n",
              "</style>\n",
              "<table border=\"1\" class=\"dataframe\">\n",
              "  <thead>\n",
              "    <tr style=\"text-align: right;\">\n",
              "      <th></th>\n",
              "      <th>count</th>\n",
              "      <th>mean</th>\n",
              "      <th>std</th>\n",
              "      <th>min</th>\n",
              "      <th>25%</th>\n",
              "      <th>50%</th>\n",
              "      <th>75%</th>\n",
              "      <th>max</th>\n",
              "    </tr>\n",
              "  </thead>\n",
              "  <tbody>\n",
              "    <tr>\n",
              "      <th>Component 1</th>\n",
              "      <td>768.0</td>\n",
              "      <td>1.951564e-17</td>\n",
              "      <td>1.719288</td>\n",
              "      <td>-5.513497</td>\n",
              "      <td>-1.009000</td>\n",
              "      <td>0.137762</td>\n",
              "      <td>1.049629</td>\n",
              "      <td>5.860283</td>\n",
              "    </tr>\n",
              "    <tr>\n",
              "      <th>Component 2</th>\n",
              "      <td>768.0</td>\n",
              "      <td>2.544261e-17</td>\n",
              "      <td>1.319609</td>\n",
              "      <td>-2.947376</td>\n",
              "      <td>-1.017257</td>\n",
              "      <td>-0.224882</td>\n",
              "      <td>0.881478</td>\n",
              "      <td>3.670846</td>\n",
              "    </tr>\n",
              "    <tr>\n",
              "      <th>Component 3</th>\n",
              "      <td>768.0</td>\n",
              "      <td>-1.098658e-17</td>\n",
              "      <td>1.017798</td>\n",
              "      <td>-3.315035</td>\n",
              "      <td>-0.655408</td>\n",
              "      <td>-0.107513</td>\n",
              "      <td>0.585059</td>\n",
              "      <td>5.187448</td>\n",
              "    </tr>\n",
              "    <tr>\n",
              "      <th>Component 4</th>\n",
              "      <td>768.0</td>\n",
              "      <td>-1.604619e-17</td>\n",
              "      <td>1.003366</td>\n",
              "      <td>-2.719110</td>\n",
              "      <td>-0.817696</td>\n",
              "      <td>-0.087080</td>\n",
              "      <td>0.742808</td>\n",
              "      <td>3.080459</td>\n",
              "    </tr>\n",
              "    <tr>\n",
              "      <th>Diagnóstico</th>\n",
              "      <td>768.0</td>\n",
              "      <td>1.348958e+00</td>\n",
              "      <td>0.476951</td>\n",
              "      <td>1.000000</td>\n",
              "      <td>1.000000</td>\n",
              "      <td>1.000000</td>\n",
              "      <td>2.000000</td>\n",
              "      <td>2.000000</td>\n",
              "    </tr>\n",
              "  </tbody>\n",
              "</table>\n",
              "</div>"
            ],
            "text/plain": [
              "             count          mean       std       min       25%       50%  \\\n",
              "Component 1  768.0  1.951564e-17  1.719288 -5.513497 -1.009000  0.137762   \n",
              "Component 2  768.0  2.544261e-17  1.319609 -2.947376 -1.017257 -0.224882   \n",
              "Component 3  768.0 -1.098658e-17  1.017798 -3.315035 -0.655408 -0.107513   \n",
              "Component 4  768.0 -1.604619e-17  1.003366 -2.719110 -0.817696 -0.087080   \n",
              "Diagnóstico  768.0  1.348958e+00  0.476951  1.000000  1.000000  1.000000   \n",
              "\n",
              "                  75%       max  \n",
              "Component 1  1.049629  5.860283  \n",
              "Component 2  0.881478  3.670846  \n",
              "Component 3  0.585059  5.187448  \n",
              "Component 4  0.742808  3.080459  \n",
              "Diagnóstico  2.000000  2.000000  "
            ]
          },
          "metadata": {
            "tags": []
          },
          "execution_count": 8
        }
      ]
    },
    {
      "metadata": {
        "id": "M-j_3UBbeBlj",
        "colab_type": "code",
        "colab": {
          "base_uri": "https://localhost:8080/",
          "height": 34
        },
        "outputId": "7e85ee9f-4f30-4b84-b157-1f83e3ebdbc3"
      },
      "cell_type": "code",
      "source": [
        "print(diabetes.shape)"
      ],
      "execution_count": 7,
      "outputs": [
        {
          "output_type": "stream",
          "text": [
            "(768, 5)\n"
          ],
          "name": "stdout"
        }
      ]
    }
  ]
}