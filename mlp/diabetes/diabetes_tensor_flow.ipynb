{
  "nbformat": 4,
  "nbformat_minor": 0,
  "metadata": {
    "colab": {
      "name": "diabetes_tensor_flow.ipynb",
      "version": "0.3.2",
      "provenance": [],
      "include_colab_link": true
    },
    "kernelspec": {
      "name": "python3",
      "display_name": "Python 3"
    }
  },
  "cells": [
    {
      "cell_type": "markdown",
      "metadata": {
        "id": "view-in-github",
        "colab_type": "text"
      },
      "source": [
        "<a href=\"https://colab.research.google.com/github/carvalheirafc/deep_learning_stuff/blob/master/mlp/diabetes/diabetes_tensor_flow.ipynb\" target=\"_parent\"><img src=\"https://colab.research.google.com/assets/colab-badge.svg\" alt=\"Open In Colab\"/></a>"
      ]
    },
    {
      "metadata": {
        "id": "Z9387aZudT5q",
        "colab_type": "code",
        "colab": {}
      },
      "cell_type": "code",
      "source": [
        "# Import Section\n",
        "\n",
        "import pandas as pd\n",
        "import numpy as np\n",
        "\n",
        "import matplotlib.pyplot as plt\n",
        "from sklearn.model_selection import KFold, cross_val_score\n",
        "\n",
        "\n",
        "import tensorflow as tf\n",
        "from tensorflow import keras"
      ],
      "execution_count": 0,
      "outputs": []
    },
    {
      "metadata": {
        "id": "boHWUeCudz_i",
        "colab_type": "code",
        "outputId": "e505a8fb-018d-43be-e315-ff5ced29e1df",
        "colab": {
          "base_uri": "https://localhost:8080/",
          "height": 204
        }
      },
      "cell_type": "code",
      "source": [
        "file_url = 'https://raw.githubusercontent.com/carvalheirafc/deep_learning_stuff/master/mlp/diabetes/diabetes_pca_result.csv'\n",
        "\n",
        "diabetes = pd.read_csv(file_url)\n",
        "diabetes.describe().transpose()\n"
      ],
      "execution_count": 2,
      "outputs": [
        {
          "output_type": "execute_result",
          "data": {
            "text/html": [
              "<div>\n",
              "<style scoped>\n",
              "    .dataframe tbody tr th:only-of-type {\n",
              "        vertical-align: middle;\n",
              "    }\n",
              "\n",
              "    .dataframe tbody tr th {\n",
              "        vertical-align: top;\n",
              "    }\n",
              "\n",
              "    .dataframe thead th {\n",
              "        text-align: right;\n",
              "    }\n",
              "</style>\n",
              "<table border=\"1\" class=\"dataframe\">\n",
              "  <thead>\n",
              "    <tr style=\"text-align: right;\">\n",
              "      <th></th>\n",
              "      <th>count</th>\n",
              "      <th>mean</th>\n",
              "      <th>std</th>\n",
              "      <th>min</th>\n",
              "      <th>25%</th>\n",
              "      <th>50%</th>\n",
              "      <th>75%</th>\n",
              "      <th>max</th>\n",
              "    </tr>\n",
              "  </thead>\n",
              "  <tbody>\n",
              "    <tr>\n",
              "      <th>Component 1</th>\n",
              "      <td>768.0</td>\n",
              "      <td>-6.693141e-17</td>\n",
              "      <td>1.711960</td>\n",
              "      <td>-5.587340</td>\n",
              "      <td>-1.027072</td>\n",
              "      <td>0.152931</td>\n",
              "      <td>1.095689</td>\n",
              "      <td>5.963579</td>\n",
              "    </tr>\n",
              "    <tr>\n",
              "      <th>Component 2</th>\n",
              "      <td>768.0</td>\n",
              "      <td>-6.071532e-17</td>\n",
              "      <td>1.318184</td>\n",
              "      <td>-2.955806</td>\n",
              "      <td>-1.007096</td>\n",
              "      <td>-0.225966</td>\n",
              "      <td>0.959128</td>\n",
              "      <td>3.606582</td>\n",
              "    </tr>\n",
              "    <tr>\n",
              "      <th>Component 3</th>\n",
              "      <td>768.0</td>\n",
              "      <td>-3.324887e-17</td>\n",
              "      <td>1.015629</td>\n",
              "      <td>-3.203088</td>\n",
              "      <td>-0.646496</td>\n",
              "      <td>-0.103940</td>\n",
              "      <td>0.549774</td>\n",
              "      <td>4.754503</td>\n",
              "    </tr>\n",
              "    <tr>\n",
              "      <th>Component 4</th>\n",
              "      <td>768.0</td>\n",
              "      <td>2.349105e-18</td>\n",
              "      <td>0.966941</td>\n",
              "      <td>-2.192185</td>\n",
              "      <td>-0.664677</td>\n",
              "      <td>-0.115829</td>\n",
              "      <td>0.543242</td>\n",
              "      <td>4.125987</td>\n",
              "    </tr>\n",
              "    <tr>\n",
              "      <th>Diagnóstico</th>\n",
              "      <td>768.0</td>\n",
              "      <td>3.489583e-01</td>\n",
              "      <td>0.476951</td>\n",
              "      <td>0.000000</td>\n",
              "      <td>0.000000</td>\n",
              "      <td>0.000000</td>\n",
              "      <td>1.000000</td>\n",
              "      <td>1.000000</td>\n",
              "    </tr>\n",
              "  </tbody>\n",
              "</table>\n",
              "</div>"
            ],
            "text/plain": [
              "             count          mean       std       min       25%       50%  \\\n",
              "Component 1  768.0 -6.693141e-17  1.711960 -5.587340 -1.027072  0.152931   \n",
              "Component 2  768.0 -6.071532e-17  1.318184 -2.955806 -1.007096 -0.225966   \n",
              "Component 3  768.0 -3.324887e-17  1.015629 -3.203088 -0.646496 -0.103940   \n",
              "Component 4  768.0  2.349105e-18  0.966941 -2.192185 -0.664677 -0.115829   \n",
              "Diagnóstico  768.0  3.489583e-01  0.476951  0.000000  0.000000  0.000000   \n",
              "\n",
              "                  75%       max  \n",
              "Component 1  1.095689  5.963579  \n",
              "Component 2  0.959128  3.606582  \n",
              "Component 3  0.549774  4.754503  \n",
              "Component 4  0.543242  4.125987  \n",
              "Diagnóstico  1.000000  1.000000  "
            ]
          },
          "metadata": {
            "tags": []
          },
          "execution_count": 2
        }
      ]
    },
    {
      "metadata": {
        "id": "M-j_3UBbeBlj",
        "colab_type": "code",
        "outputId": "2bebfec8-eafe-424b-ba16-dda7e76eda79",
        "colab": {
          "base_uri": "https://localhost:8080/",
          "height": 34
        }
      },
      "cell_type": "code",
      "source": [
        "print(diabetes.shape)"
      ],
      "execution_count": 3,
      "outputs": [
        {
          "output_type": "stream",
          "text": [
            "(768, 5)\n"
          ],
          "name": "stdout"
        }
      ]
    },
    {
      "metadata": {
        "id": "ODkoG6NvgjNh",
        "colab_type": "code",
        "colab": {}
      },
      "cell_type": "code",
      "source": [
        "X = diabetes.drop('Diagnóstico', axis=1)\n",
        "y = pd.to_numeric(diabetes['Diagnóstico'], downcast='integer')\n"
      ],
      "execution_count": 0,
      "outputs": []
    },
    {
      "metadata": {
        "id": "RlOTeM9HgTqT",
        "colab_type": "code",
        "colab": {}
      },
      "cell_type": "code",
      "source": [
        "k_fold = KFold(n_splits=5, shuffle=True, random_state=24723451)\n",
        "\n",
        "\n",
        "try:\n",
        "  for train_index, test_index in k_fold.split(X):\n",
        "    X_train, X_test = X.iloc[train_index].values, X.iloc[test_index].values\n",
        "    y_train, y_test = y[train_index].values, y[test_index].values\n",
        "\n",
        "except InvalidData:\n",
        "   print('Dataset not properly readed !')\n",
        "    "
      ],
      "execution_count": 0,
      "outputs": []
    },
    {
      "metadata": {
        "id": "Piq0D89qkIi1",
        "colab_type": "code",
        "colab": {}
      },
      "cell_type": "code",
      "source": [
        "model = keras.Sequential([\n",
        "    keras.layers.Dense(128, activation=tf.nn.relu),\n",
        "    keras.layers.Dense(128, activation=tf.nn.relu),\n",
        "    keras.layers.Dense(2, activation='sigmoid')\n",
        "])"
      ],
      "execution_count": 0,
      "outputs": []
    },
    {
      "metadata": {
        "id": "hSnp4RDZkUXQ",
        "colab_type": "code",
        "colab": {}
      },
      "cell_type": "code",
      "source": [
        "model.compile(optimizer='adam', \n",
        "              loss='binary_crossentropy',\n",
        "              metrics=['accuracy'])"
      ],
      "execution_count": 0,
      "outputs": []
    },
    {
      "metadata": {
        "id": "Evhp2Le_kW_Y",
        "colab_type": "code",
        "outputId": "16cdde4f-454b-444e-aefa-65f9733bbb5c",
        "colab": {
          "base_uri": "https://localhost:8080/",
          "height": 204
        }
      },
      "cell_type": "code",
      "source": [
        "model.fit(np.array(X_train), y_train, epochs=5)"
      ],
      "execution_count": 94,
      "outputs": [
        {
          "output_type": "stream",
          "text": [
            "Epoch 1/5\n",
            "615/615 [==============================] - 0s 524us/sample - loss: 0.6024 - acc: 0.7000\n",
            "Epoch 2/5\n",
            "615/615 [==============================] - 0s 69us/sample - loss: 0.5253 - acc: 0.7455\n",
            "Epoch 3/5\n",
            "615/615 [==============================] - 0s 67us/sample - loss: 0.5057 - acc: 0.7585\n",
            "Epoch 4/5\n",
            "615/615 [==============================] - 0s 68us/sample - loss: 0.5002 - acc: 0.7577\n",
            "Epoch 5/5\n",
            "615/615 [==============================] - 0s 67us/sample - loss: 0.4979 - acc: 0.7512\n"
          ],
          "name": "stdout"
        },
        {
          "output_type": "execute_result",
          "data": {
            "text/plain": [
              "<tensorflow.python.keras.callbacks.History at 0x7fa53f7c5b00>"
            ]
          },
          "metadata": {
            "tags": []
          },
          "execution_count": 94
        }
      ]
    },
    {
      "metadata": {
        "id": "Koa_drSEkhlo",
        "colab_type": "code",
        "outputId": "985915fa-33a4-4af1-8e48-afa0794e811e",
        "colab": {
          "base_uri": "https://localhost:8080/",
          "height": 51
        }
      },
      "cell_type": "code",
      "source": [
        "test_loss, test_acc = model.evaluate(X_test, y_test)\n",
        "\n",
        "print('Test accuracy:', test_acc)"
      ],
      "execution_count": 95,
      "outputs": [
        {
          "output_type": "stream",
          "text": [
            "153/153 [==============================] - 0s 1ms/sample - loss: 0.5443 - acc: 0.7320\n",
            "Test accuracy: 0.73202616\n"
          ],
          "name": "stdout"
        }
      ]
    }
  ]
}