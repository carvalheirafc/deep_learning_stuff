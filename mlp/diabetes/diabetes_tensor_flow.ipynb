{
  "nbformat": 4,
  "nbformat_minor": 0,
  "metadata": {
    "colab": {
      "name": "diabetes_tensor_flow.ipynb",
      "version": "0.3.2",
      "provenance": [],
      "include_colab_link": true
    },
    "kernelspec": {
      "name": "python3",
      "display_name": "Python 3"
    }
  },
  "cells": [
    {
      "cell_type": "markdown",
      "metadata": {
        "id": "view-in-github",
        "colab_type": "text"
      },
      "source": [
        "<a href=\"https://colab.research.google.com/github/carvalheirafc/deep_learning_stuff/blob/master/mlp/diabetes/diabetes_tensor_flow.ipynb\" target=\"_parent\"><img src=\"https://colab.research.google.com/assets/colab-badge.svg\" alt=\"Open In Colab\"/></a>"
      ]
    },
    {
      "metadata": {
        "id": "Z9387aZudT5q",
        "colab_type": "code",
        "colab": {}
      },
      "cell_type": "code",
      "source": [
        "# Import Section\n",
        "\n",
        "import pandas as pd\n",
        "import numpy as np\n",
        "\n",
        "import matplotlib.pyplot as plt\n",
        "from sklearn.model_selection import KFold, cross_val_score\n",
        "from sklearn.preprocessing import MinMaxScaler\n",
        "\n",
        "import tensorflow as tf\n",
        "from tensorflow import keras"
      ],
      "execution_count": 0,
      "outputs": []
    },
    {
      "metadata": {
        "id": "boHWUeCudz_i",
        "colab_type": "code",
        "outputId": "dc94ac43-28b5-4e80-c4ef-324f99452b61",
        "colab": {
          "base_uri": "https://localhost:8080/",
          "height": 204
        }
      },
      "cell_type": "code",
      "source": [
        "file_url = 'https://raw.githubusercontent.com/carvalheirafc/deep_learning_stuff/master/mlp/diabetes/diabetes_pca_result.csv'\n",
        "\n",
        "diabetes = pd.read_csv(file_url)\n",
        "diabetes.describe().transpose()\n"
      ],
      "execution_count": 3,
      "outputs": [
        {
          "output_type": "execute_result",
          "data": {
            "text/html": [
              "<div>\n",
              "<style scoped>\n",
              "    .dataframe tbody tr th:only-of-type {\n",
              "        vertical-align: middle;\n",
              "    }\n",
              "\n",
              "    .dataframe tbody tr th {\n",
              "        vertical-align: top;\n",
              "    }\n",
              "\n",
              "    .dataframe thead th {\n",
              "        text-align: right;\n",
              "    }\n",
              "</style>\n",
              "<table border=\"1\" class=\"dataframe\">\n",
              "  <thead>\n",
              "    <tr style=\"text-align: right;\">\n",
              "      <th></th>\n",
              "      <th>count</th>\n",
              "      <th>mean</th>\n",
              "      <th>std</th>\n",
              "      <th>min</th>\n",
              "      <th>25%</th>\n",
              "      <th>50%</th>\n",
              "      <th>75%</th>\n",
              "      <th>max</th>\n",
              "    </tr>\n",
              "  </thead>\n",
              "  <tbody>\n",
              "    <tr>\n",
              "      <th>Component 1</th>\n",
              "      <td>768.0</td>\n",
              "      <td>1.951564e-17</td>\n",
              "      <td>1.719288</td>\n",
              "      <td>-5.513497</td>\n",
              "      <td>-1.009000</td>\n",
              "      <td>0.137762</td>\n",
              "      <td>1.049629</td>\n",
              "      <td>5.860283</td>\n",
              "    </tr>\n",
              "    <tr>\n",
              "      <th>Component 2</th>\n",
              "      <td>768.0</td>\n",
              "      <td>2.544261e-17</td>\n",
              "      <td>1.319609</td>\n",
              "      <td>-2.947376</td>\n",
              "      <td>-1.017257</td>\n",
              "      <td>-0.224882</td>\n",
              "      <td>0.881478</td>\n",
              "      <td>3.670846</td>\n",
              "    </tr>\n",
              "    <tr>\n",
              "      <th>Component 3</th>\n",
              "      <td>768.0</td>\n",
              "      <td>-1.098658e-17</td>\n",
              "      <td>1.017798</td>\n",
              "      <td>-3.315035</td>\n",
              "      <td>-0.655408</td>\n",
              "      <td>-0.107513</td>\n",
              "      <td>0.585059</td>\n",
              "      <td>5.187448</td>\n",
              "    </tr>\n",
              "    <tr>\n",
              "      <th>Component 4</th>\n",
              "      <td>768.0</td>\n",
              "      <td>-1.604619e-17</td>\n",
              "      <td>1.003366</td>\n",
              "      <td>-2.719110</td>\n",
              "      <td>-0.817696</td>\n",
              "      <td>-0.087080</td>\n",
              "      <td>0.742808</td>\n",
              "      <td>3.080459</td>\n",
              "    </tr>\n",
              "    <tr>\n",
              "      <th>Diagnóstico</th>\n",
              "      <td>768.0</td>\n",
              "      <td>1.348958e+00</td>\n",
              "      <td>0.476951</td>\n",
              "      <td>1.000000</td>\n",
              "      <td>1.000000</td>\n",
              "      <td>1.000000</td>\n",
              "      <td>2.000000</td>\n",
              "      <td>2.000000</td>\n",
              "    </tr>\n",
              "  </tbody>\n",
              "</table>\n",
              "</div>"
            ],
            "text/plain": [
              "             count          mean       std       min       25%       50%  \\\n",
              "Component 1  768.0  1.951564e-17  1.719288 -5.513497 -1.009000  0.137762   \n",
              "Component 2  768.0  2.544261e-17  1.319609 -2.947376 -1.017257 -0.224882   \n",
              "Component 3  768.0 -1.098658e-17  1.017798 -3.315035 -0.655408 -0.107513   \n",
              "Component 4  768.0 -1.604619e-17  1.003366 -2.719110 -0.817696 -0.087080   \n",
              "Diagnóstico  768.0  1.348958e+00  0.476951  1.000000  1.000000  1.000000   \n",
              "\n",
              "                  75%       max  \n",
              "Component 1  1.049629  5.860283  \n",
              "Component 2  0.881478  3.670846  \n",
              "Component 3  0.585059  5.187448  \n",
              "Component 4  0.742808  3.080459  \n",
              "Diagnóstico  2.000000  2.000000  "
            ]
          },
          "metadata": {
            "tags": []
          },
          "execution_count": 3
        }
      ]
    },
    {
      "metadata": {
        "id": "M-j_3UBbeBlj",
        "colab_type": "code",
        "outputId": "760ebff7-f31d-4433-ae2a-6a885f7d1798",
        "colab": {
          "base_uri": "https://localhost:8080/",
          "height": 34
        }
      },
      "cell_type": "code",
      "source": [
        "print(diabetes.shape)"
      ],
      "execution_count": 4,
      "outputs": [
        {
          "output_type": "stream",
          "text": [
            "(768, 5)\n"
          ],
          "name": "stdout"
        }
      ]
    },
    {
      "metadata": {
        "id": "ODkoG6NvgjNh",
        "colab_type": "code",
        "colab": {}
      },
      "cell_type": "code",
      "source": [
        "X = diabetes.drop('Diagnóstico', axis=1)\n",
        "y = diabetes['Diagnóstico']\n"
      ],
      "execution_count": 0,
      "outputs": []
    },
    {
      "metadata": {
        "id": "RlOTeM9HgTqT",
        "colab_type": "code",
        "colab": {}
      },
      "cell_type": "code",
      "source": [
        "k_fold = KFold(n_splits=5, shuffle=True, random_state=24723451)\n",
        "\n",
        "\n",
        "try:\n",
        "  for train_index, test_index in k_fold.split(X):\n",
        "    X_train, X_test = X.iloc[train_index].values, X.iloc[test_index].values\n",
        "    y_train, y_test = y[train_index].values, y[test_index].values\n",
        "\n",
        "except InvalidData:\n",
        "   print('Dataset not properly readed !')\n",
        "    "
      ],
      "execution_count": 0,
      "outputs": []
    },
    {
      "metadata": {
        "id": "Piq0D89qkIi1",
        "colab_type": "code",
        "colab": {}
      },
      "cell_type": "code",
      "source": [
        "model = keras.Sequential([\n",
        "    keras.layers.Dense(128, activation=tf.nn.relu),\n",
        "    keras.layers.Dense(2, activation=tf.nn.softmax)\n",
        "])"
      ],
      "execution_count": 0,
      "outputs": []
    },
    {
      "metadata": {
        "id": "hSnp4RDZkUXQ",
        "colab_type": "code",
        "colab": {}
      },
      "cell_type": "code",
      "source": [
        "model.compile(optimizer='adam', \n",
        "              loss='sparse_categorical_crossentropy',\n",
        "              metrics=['accuracy'])"
      ],
      "execution_count": 0,
      "outputs": []
    },
    {
      "metadata": {
        "id": "Evhp2Le_kW_Y",
        "colab_type": "code",
        "colab": {
          "base_uri": "https://localhost:8080/",
          "height": 204
        },
        "outputId": "43d0c236-58a1-4933-851f-714df8ef3353"
      },
      "cell_type": "code",
      "source": [
        "model.fit(np.array(X_train), y_train, epochs=5)"
      ],
      "execution_count": 43,
      "outputs": [
        {
          "output_type": "stream",
          "text": [
            "Epoch 1/5\n",
            "615/615 [==============================] - 0s 293us/sample - loss: 0.8877 - acc: 0.6911\n",
            "Epoch 2/5\n",
            "615/615 [==============================] - 0s 45us/sample - loss: 0.6926 - acc: 0.7480\n",
            "Epoch 3/5\n",
            "615/615 [==============================] - 0s 48us/sample - loss: 0.6138 - acc: 0.7528\n",
            "Epoch 4/5\n",
            "615/615 [==============================] - 0s 51us/sample - loss: 0.5742 - acc: 0.7528\n",
            "Epoch 5/5\n",
            "615/615 [==============================] - 0s 54us/sample - loss: 0.5509 - acc: 0.7545\n"
          ],
          "name": "stdout"
        },
        {
          "output_type": "execute_result",
          "data": {
            "text/plain": [
              "<tensorflow.python.keras.callbacks.History at 0x7f5650be1f60>"
            ]
          },
          "metadata": {
            "tags": []
          },
          "execution_count": 43
        }
      ]
    },
    {
      "metadata": {
        "id": "Koa_drSEkhlo",
        "colab_type": "code",
        "colab": {
          "base_uri": "https://localhost:8080/",
          "height": 51
        },
        "outputId": "89ee53f2-c0ce-4796-e9d9-00d5bf0bfd62"
      },
      "cell_type": "code",
      "source": [
        "test_loss, test_acc = model.evaluate(X_test, y_test)\n",
        "\n",
        "print('Test accuracy:', test_acc)"
      ],
      "execution_count": 49,
      "outputs": [
        {
          "output_type": "stream",
          "text": [
            "153/153 [==============================] - 0s 482us/sample - loss: 0.5895 - acc: 0.7059\n",
            "Test accuracy: 0.7058824\n"
          ],
          "name": "stdout"
        }
      ]
    }
  ]
}