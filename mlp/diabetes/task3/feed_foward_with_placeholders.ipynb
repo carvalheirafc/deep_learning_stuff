{
  "nbformat": 4,
  "nbformat_minor": 0,
  "metadata": {
    "colab": {
      "name": "feed_foward.ipynb",
      "version": "0.3.2",
      "provenance": [],
      "include_colab_link": true
    },
    "kernelspec": {
      "name": "python3",
      "display_name": "Python 3"
    }
  },
  "cells": [
    {
      "cell_type": "markdown",
      "metadata": {
        "id": "view-in-github",
        "colab_type": "text"
      },
      "source": [
        "<a href=\"https://colab.research.google.com/github/carvalheirafc/deep_learning_stuff/blob/master/mlp/diabetes/task3/feed_foward_with_placeholders.ipynb\" target=\"_parent\"><img src=\"https://colab.research.google.com/assets/colab-badge.svg\" alt=\"Open In Colab\"/></a>"
      ]
    },
    {
      "metadata": {
        "id": "Uy8Y_KozVbBR",
        "colab_type": "code",
        "colab": {}
      },
      "cell_type": "code",
      "source": [
        "import pandas as pd\n",
        "import numpy as np\n",
        "from sklearn.model_selection import train_test_split\n",
        "\n",
        "import tensorflow as tf"
      ],
      "execution_count": 0,
      "outputs": []
    },
    {
      "metadata": {
        "id": "ml3-tcb4VprL",
        "colab_type": "code",
        "outputId": "f3ba2a1e-b510-4af5-d003-6d2412985123",
        "colab": {
          "base_uri": "https://localhost:8080/",
          "height": 204
        }
      },
      "cell_type": "code",
      "source": [
        "csv_file = 'https://raw.githubusercontent.com/carvalheirafc/deep_learning_stuff/master/mlp/diabetes/diabetes_pca_result.csv'\n",
        "df = pd.read_csv(csv_file)\n",
        "df.describe().transpose()"
      ],
      "execution_count": 4,
      "outputs": [
        {
          "output_type": "execute_result",
          "data": {
            "text/html": [
              "<div>\n",
              "<style scoped>\n",
              "    .dataframe tbody tr th:only-of-type {\n",
              "        vertical-align: middle;\n",
              "    }\n",
              "\n",
              "    .dataframe tbody tr th {\n",
              "        vertical-align: top;\n",
              "    }\n",
              "\n",
              "    .dataframe thead th {\n",
              "        text-align: right;\n",
              "    }\n",
              "</style>\n",
              "<table border=\"1\" class=\"dataframe\">\n",
              "  <thead>\n",
              "    <tr style=\"text-align: right;\">\n",
              "      <th></th>\n",
              "      <th>count</th>\n",
              "      <th>mean</th>\n",
              "      <th>std</th>\n",
              "      <th>min</th>\n",
              "      <th>25%</th>\n",
              "      <th>50%</th>\n",
              "      <th>75%</th>\n",
              "      <th>max</th>\n",
              "    </tr>\n",
              "  </thead>\n",
              "  <tbody>\n",
              "    <tr>\n",
              "      <th>Component 1</th>\n",
              "      <td>768.0</td>\n",
              "      <td>-6.693141e-17</td>\n",
              "      <td>1.711960</td>\n",
              "      <td>-5.587340</td>\n",
              "      <td>-1.027072</td>\n",
              "      <td>0.152931</td>\n",
              "      <td>1.095689</td>\n",
              "      <td>5.963579</td>\n",
              "    </tr>\n",
              "    <tr>\n",
              "      <th>Component 2</th>\n",
              "      <td>768.0</td>\n",
              "      <td>-6.071532e-17</td>\n",
              "      <td>1.318184</td>\n",
              "      <td>-2.955806</td>\n",
              "      <td>-1.007096</td>\n",
              "      <td>-0.225966</td>\n",
              "      <td>0.959128</td>\n",
              "      <td>3.606582</td>\n",
              "    </tr>\n",
              "    <tr>\n",
              "      <th>Component 3</th>\n",
              "      <td>768.0</td>\n",
              "      <td>-3.324887e-17</td>\n",
              "      <td>1.015629</td>\n",
              "      <td>-3.203088</td>\n",
              "      <td>-0.646496</td>\n",
              "      <td>-0.103940</td>\n",
              "      <td>0.549774</td>\n",
              "      <td>4.754503</td>\n",
              "    </tr>\n",
              "    <tr>\n",
              "      <th>Component 4</th>\n",
              "      <td>768.0</td>\n",
              "      <td>2.349105e-18</td>\n",
              "      <td>0.966941</td>\n",
              "      <td>-2.192185</td>\n",
              "      <td>-0.664677</td>\n",
              "      <td>-0.115829</td>\n",
              "      <td>0.543242</td>\n",
              "      <td>4.125987</td>\n",
              "    </tr>\n",
              "    <tr>\n",
              "      <th>Diagnóstico</th>\n",
              "      <td>768.0</td>\n",
              "      <td>3.489583e-01</td>\n",
              "      <td>0.476951</td>\n",
              "      <td>0.000000</td>\n",
              "      <td>0.000000</td>\n",
              "      <td>0.000000</td>\n",
              "      <td>1.000000</td>\n",
              "      <td>1.000000</td>\n",
              "    </tr>\n",
              "  </tbody>\n",
              "</table>\n",
              "</div>"
            ],
            "text/plain": [
              "             count          mean       std       min       25%       50%  \\\n",
              "Component 1  768.0 -6.693141e-17  1.711960 -5.587340 -1.027072  0.152931   \n",
              "Component 2  768.0 -6.071532e-17  1.318184 -2.955806 -1.007096 -0.225966   \n",
              "Component 3  768.0 -3.324887e-17  1.015629 -3.203088 -0.646496 -0.103940   \n",
              "Component 4  768.0  2.349105e-18  0.966941 -2.192185 -0.664677 -0.115829   \n",
              "Diagnóstico  768.0  3.489583e-01  0.476951  0.000000  0.000000  0.000000   \n",
              "\n",
              "                  75%       max  \n",
              "Component 1  1.095689  5.963579  \n",
              "Component 2  0.959128  3.606582  \n",
              "Component 3  0.549774  4.754503  \n",
              "Component 4  0.543242  4.125987  \n",
              "Diagnóstico  1.000000  1.000000  "
            ]
          },
          "metadata": {
            "tags": []
          },
          "execution_count": 4
        }
      ]
    },
    {
      "metadata": {
        "id": "7cLu6f5_V6-O",
        "colab_type": "code",
        "outputId": "dafc2dbd-507a-4254-f9fb-3a81fe78e5ca",
        "colab": {
          "base_uri": "https://localhost:8080/",
          "height": 51
        }
      },
      "cell_type": "code",
      "source": [
        "features = df.drop('Diagnóstico', axis=1).values\n",
        "labels = df['Diagnóstico'].values\n",
        "\n",
        "print(features.shape)\n",
        "print(labels.shape)"
      ],
      "execution_count": 5,
      "outputs": [
        {
          "output_type": "stream",
          "text": [
            "(768, 4)\n",
            "(768,)\n"
          ],
          "name": "stdout"
        }
      ]
    },
    {
      "metadata": {
        "id": "pq8yFXo_WNLh",
        "colab_type": "code",
        "outputId": "93d0353d-285b-41a1-b0ed-46e5718ed593",
        "colab": {
          "base_uri": "https://localhost:8080/",
          "height": 85
        }
      },
      "cell_type": "code",
      "source": [
        "X_train, X_test, y_train, y_test = train_test_split(features, \n",
        "                                                    labels, \n",
        "                                                    test_size=0.33, \n",
        "                                                    random_state=666)\n",
        "\n",
        "print(X_train.shape)\n",
        "print(X_test.shape)\n",
        "print(y_train.shape)\n",
        "print(y_test.shape)\n"
      ],
      "execution_count": 41,
      "outputs": [
        {
          "output_type": "stream",
          "text": [
            "(514, 4)\n",
            "(254, 4)\n",
            "(514,)\n",
            "(254,)\n"
          ],
          "name": "stdout"
        }
      ]
    },
    {
      "metadata": {
        "id": "I2glfLyvwiIO",
        "colab_type": "code",
        "colab": {}
      },
      "cell_type": "code",
      "source": [
        "def init_weights(shape):\n",
        "    \"\"\" Weight initialization \"\"\"\n",
        "    weights = tf.random_normal(shape, stddev=0.1)\n",
        "    return tf.Variable(weights)\n",
        "\n",
        "def forwardprop(X, w_1, w_2):\n",
        "    \"\"\"\n",
        "    Forward-propagation.\n",
        "    IMPORTANT: yhat is not softmax since TensorFlow's softmax_cross_entropy_with_logits() does that internally.\n",
        "    \"\"\"\n",
        "    h    = tf.nn.sigmoid(tf.matmul(X, w_1))  # The \\sigma function\n",
        "    yhat = tf.matmul(h, w_2)  # The \\varphi function\n",
        "    return yhat"
      ],
      "execution_count": 0,
      "outputs": []
    },
    {
      "metadata": {
        "id": "_hYas-ynvJyq",
        "colab_type": "code",
        "colab": {}
      },
      "cell_type": "code",
      "source": [
        "# Layer's sizes\n",
        "x_size = X_train.shape[1]   # Number of input nodes: 4 features and 1 bias\n",
        "h_size = 256                # Number of hidden nodes\n",
        "y_size = y_train.shape[0]   "
      ],
      "execution_count": 0,
      "outputs": []
    },
    {
      "metadata": {
        "id": "AAU6i4iDwHRj",
        "colab_type": "code",
        "colab": {
          "base_uri": "https://localhost:8080/",
          "height": 34
        },
        "outputId": "fb7b0d97-8926-405a-b63d-e6d0bdd38225"
      },
      "cell_type": "code",
      "source": [
        " # Symbols\n",
        "X = tf.placeholder(\"float\", shape=[None, x_size])\n",
        "y = tf.placeholder(\"float\", shape=[y_size,])\n",
        "\n",
        "# Weight initializations\n",
        "w_1 = init_weights((x_size, h_size))\n",
        "w_2 = init_weights((h_size, y_size))\n",
        "\n",
        "y"
      ],
      "execution_count": 55,
      "outputs": [
        {
          "output_type": "execute_result",
          "data": {
            "text/plain": [
              "<tf.Tensor 'Placeholder_31:0' shape=(514,) dtype=float32>"
            ]
          },
          "metadata": {
            "tags": []
          },
          "execution_count": 55
        }
      ]
    },
    {
      "metadata": {
        "id": "anU_kRRrzHLq",
        "colab_type": "code",
        "colab": {}
      },
      "cell_type": "code",
      "source": [
        "labels_train = (np.arange(2) == y_train[:,None]).astype(np.float32)\n",
        "labels_test = (np.arange(2) == y_test[:,None]).astype(np.float32)"
      ],
      "execution_count": 0,
      "outputs": []
    },
    {
      "metadata": {
        "id": "o2OrjfhC05o2",
        "colab_type": "code",
        "colab": {
          "base_uri": "https://localhost:8080/",
          "height": 88
        },
        "outputId": "27fc1f38-749b-4853-8a6d-4f8a17583209"
      },
      "cell_type": "code",
      "source": [
        "inputs = tf.placeholder(tf.float32, shape=(None, X_train.shape[1]), name='inputs')\n",
        "label = tf.placeholder(tf.float32, shape=(None, 2), name='labels')\n",
        "\n",
        "# First layer\n",
        "hid1_size = 128\n",
        "w1 = tf.Variable(tf.random_normal([hid1_size, X_train.shape[1]], stddev=0.01), name='w1')\n",
        "b1 = tf.Variable(tf.constant(0.1, shape=(hid1_size, 1)), name='b1')\n",
        "y1 = tf.nn.dropout(tf.nn.relu(tf.add(tf.matmul(w1, tf.transpose(inputs)), b1)), keep_prob=0.5)\n",
        "\n",
        "# Second layer\n",
        "hid2_size = 256\n",
        "w2 = tf.Variable(tf.random_normal([hid2_size, hid1_size], stddev=0.01), name='w2')\n",
        "b2 = tf.Variable(tf.constant(0.1, shape=(hid2_size, 1)), name='b2')\n",
        "y2 = tf.nn.dropout(tf.nn.relu(tf.add(tf.matmul(w2, y1), b2)), keep_prob=0.5)\n",
        "\n",
        "# Output layer\n",
        "wo = tf.Variable(tf.random_normal([2, hid2_size], stddev=0.01), name='wo')\n",
        "bo = tf.Variable(tf.random_normal([2, 1]), name='bo')\n",
        "yo = tf.transpose(tf.add(tf.matmul(wo, y2), bo))"
      ],
      "execution_count": 58,
      "outputs": [
        {
          "output_type": "stream",
          "text": [
            "WARNING:tensorflow:From <ipython-input-58-548c344b6561>:8: calling dropout (from tensorflow.python.ops.nn_ops) with keep_prob is deprecated and will be removed in a future version.\n",
            "Instructions for updating:\n",
            "Please use `rate` instead of `keep_prob`. Rate should be set to `rate = 1 - keep_prob`.\n"
          ],
          "name": "stdout"
        }
      ]
    },
    {
      "metadata": {
        "id": "OkGn9T8o1ABw",
        "colab_type": "code",
        "colab": {}
      },
      "cell_type": "code",
      "source": [
        "# Loss function and optimizer\n",
        "lr = tf.placeholder(tf.float32, shape=(), name='learning_rate')\n",
        "loss = tf.reduce_mean(tf.nn.softmax_cross_entropy_with_logits(logits=yo, labels=label))\n",
        "optimizer = tf.train.GradientDescentOptimizer(lr).minimize(loss)\n",
        "\n",
        "# Prediction\n",
        "pred = tf.nn.softmax(yo)\n",
        "pred_label = tf.argmax(pred, 1)\n",
        "correct_prediction = tf.equal(tf.argmax(pred, 1), tf.argmax(label, 1))\n",
        "accuracy = tf.reduce_mean(tf.cast(correct_prediction, \"float\"))"
      ],
      "execution_count": 0,
      "outputs": []
    },
    {
      "metadata": {
        "id": "-62OeJY61EQU",
        "colab_type": "code",
        "colab": {
          "base_uri": "https://localhost:8080/",
          "height": 187
        },
        "outputId": "975e6652-afff-48eb-9d98-bbad9ffa8efa"
      },
      "cell_type": "code",
      "source": [
        "# Create operation which will initialize all variables\n",
        "init = tf.global_variables_initializer()\n",
        "\n",
        "# Configure GPU not to use all memory\n",
        "config = tf.ConfigProto()\n",
        "config.gpu_options.allow_growth = True\n",
        "\n",
        "# Start a new tensorflow session and initialize variables\n",
        "sess = tf.InteractiveSession(config=config)\n",
        "sess.run(init)\n",
        "\n",
        "\n",
        "# This is the main training loop: we train for 50 epochs with a learning rate of 0.05 and another \n",
        "# 50 epochs with a smaller learning rate of 0.01\n",
        "for learning_rate in [0.05, 0.01]:\n",
        "    for epoch in range(50):\n",
        "        avg_cost = 0.0\n",
        "\n",
        "        # For each epoch, we go through all the samples we have.\n",
        "        for i in range(X_train.shape[0]):\n",
        "            # Finally, this is where the magic happens: run our optimizer, feed the current example into X and the current target into Y\n",
        "            _, c = sess.run([optimizer, loss], feed_dict={lr:learning_rate, \n",
        "                                                          inputs: X_train[i, None],\n",
        "                                                          label: labels_train[i, None]})\n",
        "            avg_cost += c\n",
        "        avg_cost /= X_train.shape[0]    \n",
        "\n",
        "        # Print the cost in this epcho to the console.\n",
        "        if epoch % 10 == 0:\n",
        "            print(\"Epoch: {:3d}    Train Cost: {:.4f}\".format(epoch, avg_cost))"
      ],
      "execution_count": 60,
      "outputs": [
        {
          "output_type": "stream",
          "text": [
            "Epoch:   0    Train Cost: 0.6230\n",
            "Epoch:  10    Train Cost: 0.5793\n",
            "Epoch:  20    Train Cost: 0.6017\n",
            "Epoch:  30    Train Cost: 0.5902\n",
            "Epoch:  40    Train Cost: 0.5596\n",
            "Epoch:   0    Train Cost: 0.5423\n",
            "Epoch:  10    Train Cost: 0.5204\n",
            "Epoch:  20    Train Cost: 0.5152\n",
            "Epoch:  30    Train Cost: 0.4987\n",
            "Epoch:  40    Train Cost: 0.5010\n"
          ],
          "name": "stdout"
        }
      ]
    },
    {
      "metadata": {
        "id": "BLEYzGk41Wr2",
        "colab_type": "code",
        "colab": {
          "base_uri": "https://localhost:8080/",
          "height": 51
        },
        "outputId": "5842286c-fe65-494a-82e6-2205b503cd99"
      },
      "cell_type": "code",
      "source": [
        "acc_train = accuracy.eval(feed_dict={inputs: X_train, label: labels_train})\n",
        "print(\"Train accuracy: {:3.2f}%\".format(acc_train*100.0))\n",
        "\n",
        "acc_test = accuracy.eval(feed_dict={inputs: X_test, label: labels_test})\n",
        "print(\"Test accuracy:  {:3.2f}%\".format(acc_test*100.0))"
      ],
      "execution_count": 61,
      "outputs": [
        {
          "output_type": "stream",
          "text": [
            "Train accuracy: 78.02%\n",
            "Test accuracy:  72.44%\n"
          ],
          "name": "stdout"
        }
      ]
    }
  ]
}