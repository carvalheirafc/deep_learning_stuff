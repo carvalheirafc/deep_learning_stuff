{
  "nbformat": 4,
  "nbformat_minor": 0,
  "metadata": {
    "colab": {
      "name": "feed_foward.ipynb",
      "version": "0.3.2",
      "provenance": [],
      "include_colab_link": true
    },
    "kernelspec": {
      "name": "python3",
      "display_name": "Python 3"
    }
  },
  "cells": [
    {
      "cell_type": "markdown",
      "metadata": {
        "id": "view-in-github",
        "colab_type": "text"
      },
      "source": [
        "<a href=\"https://colab.research.google.com/github/carvalheirafc/deep_learning_stuff/blob/master/mlp/diabetes/task3/feed_foward_with_placeholders.ipynb\" target=\"_parent\"><img src=\"https://colab.research.google.com/assets/colab-badge.svg\" alt=\"Open In Colab\"/></a>"
      ]
    },
    {
      "metadata": {
        "id": "Uy8Y_KozVbBR",
        "colab_type": "code",
        "colab": {}
      },
      "cell_type": "code",
      "source": [
        "import pandas as pd\n",
        "import numpy as np\n",
        "from sklearn.model_selection import train_test_split\n",
        "\n",
        "import tensorflow as tf"
      ],
      "execution_count": 0,
      "outputs": []
    },
    {
      "metadata": {
        "id": "ml3-tcb4VprL",
        "colab_type": "code",
        "outputId": "5a18d0aa-34df-4b4d-a190-a891a94de0b1",
        "colab": {
          "base_uri": "https://localhost:8080/",
          "height": 204
        }
      },
      "cell_type": "code",
      "source": [
        "csv_file = 'https://raw.githubusercontent.com/carvalheirafc/deep_learning_stuff/master/mlp/diabetes/diabetes_pca_result.csv'\n",
        "df = pd.read_csv(csv_file)\n",
        "df.describe().transpose()"
      ],
      "execution_count": 0,
      "outputs": [
        {
          "output_type": "execute_result",
          "data": {
            "text/html": [
              "<div>\n",
              "<style scoped>\n",
              "    .dataframe tbody tr th:only-of-type {\n",
              "        vertical-align: middle;\n",
              "    }\n",
              "\n",
              "    .dataframe tbody tr th {\n",
              "        vertical-align: top;\n",
              "    }\n",
              "\n",
              "    .dataframe thead th {\n",
              "        text-align: right;\n",
              "    }\n",
              "</style>\n",
              "<table border=\"1\" class=\"dataframe\">\n",
              "  <thead>\n",
              "    <tr style=\"text-align: right;\">\n",
              "      <th></th>\n",
              "      <th>count</th>\n",
              "      <th>mean</th>\n",
              "      <th>std</th>\n",
              "      <th>min</th>\n",
              "      <th>25%</th>\n",
              "      <th>50%</th>\n",
              "      <th>75%</th>\n",
              "      <th>max</th>\n",
              "    </tr>\n",
              "  </thead>\n",
              "  <tbody>\n",
              "    <tr>\n",
              "      <th>Component 1</th>\n",
              "      <td>768.0</td>\n",
              "      <td>-6.693141e-17</td>\n",
              "      <td>1.711960</td>\n",
              "      <td>-5.587340</td>\n",
              "      <td>-1.027072</td>\n",
              "      <td>0.152931</td>\n",
              "      <td>1.095689</td>\n",
              "      <td>5.963579</td>\n",
              "    </tr>\n",
              "    <tr>\n",
              "      <th>Component 2</th>\n",
              "      <td>768.0</td>\n",
              "      <td>-6.071532e-17</td>\n",
              "      <td>1.318184</td>\n",
              "      <td>-2.955806</td>\n",
              "      <td>-1.007096</td>\n",
              "      <td>-0.225966</td>\n",
              "      <td>0.959128</td>\n",
              "      <td>3.606582</td>\n",
              "    </tr>\n",
              "    <tr>\n",
              "      <th>Component 3</th>\n",
              "      <td>768.0</td>\n",
              "      <td>-3.324887e-17</td>\n",
              "      <td>1.015629</td>\n",
              "      <td>-3.203088</td>\n",
              "      <td>-0.646496</td>\n",
              "      <td>-0.103940</td>\n",
              "      <td>0.549774</td>\n",
              "      <td>4.754503</td>\n",
              "    </tr>\n",
              "    <tr>\n",
              "      <th>Component 4</th>\n",
              "      <td>768.0</td>\n",
              "      <td>2.349105e-18</td>\n",
              "      <td>0.966941</td>\n",
              "      <td>-2.192185</td>\n",
              "      <td>-0.664677</td>\n",
              "      <td>-0.115829</td>\n",
              "      <td>0.543242</td>\n",
              "      <td>4.125987</td>\n",
              "    </tr>\n",
              "    <tr>\n",
              "      <th>Diagnóstico</th>\n",
              "      <td>768.0</td>\n",
              "      <td>3.489583e-01</td>\n",
              "      <td>0.476951</td>\n",
              "      <td>0.000000</td>\n",
              "      <td>0.000000</td>\n",
              "      <td>0.000000</td>\n",
              "      <td>1.000000</td>\n",
              "      <td>1.000000</td>\n",
              "    </tr>\n",
              "  </tbody>\n",
              "</table>\n",
              "</div>"
            ],
            "text/plain": [
              "             count          mean       std       min       25%       50%  \\\n",
              "Component 1  768.0 -6.693141e-17  1.711960 -5.587340 -1.027072  0.152931   \n",
              "Component 2  768.0 -6.071532e-17  1.318184 -2.955806 -1.007096 -0.225966   \n",
              "Component 3  768.0 -3.324887e-17  1.015629 -3.203088 -0.646496 -0.103940   \n",
              "Component 4  768.0  2.349105e-18  0.966941 -2.192185 -0.664677 -0.115829   \n",
              "Diagnóstico  768.0  3.489583e-01  0.476951  0.000000  0.000000  0.000000   \n",
              "\n",
              "                  75%       max  \n",
              "Component 1  1.095689  5.963579  \n",
              "Component 2  0.959128  3.606582  \n",
              "Component 3  0.549774  4.754503  \n",
              "Component 4  0.543242  4.125987  \n",
              "Diagnóstico  1.000000  1.000000  "
            ]
          },
          "metadata": {
            "tags": []
          },
          "execution_count": 2
        }
      ]
    },
    {
      "metadata": {
        "id": "7cLu6f5_V6-O",
        "colab_type": "code",
        "outputId": "2cd72076-c4e9-4af5-8953-e1c2e2831c59",
        "colab": {
          "base_uri": "https://localhost:8080/",
          "height": 51
        }
      },
      "cell_type": "code",
      "source": [
        "features = df.drop('Diagnóstico', axis=1).values\n",
        "labels = df['Diagnóstico'].values\n",
        "\n",
        "print(features.shape)\n",
        "print(labels.shape)"
      ],
      "execution_count": 0,
      "outputs": [
        {
          "output_type": "stream",
          "text": [
            "(768, 4)\n",
            "(768,)\n"
          ],
          "name": "stdout"
        }
      ]
    },
    {
      "metadata": {
        "id": "pq8yFXo_WNLh",
        "colab_type": "code",
        "outputId": "e702d47c-c6e8-4c78-fcfd-3294086b27f0",
        "colab": {
          "base_uri": "https://localhost:8080/",
          "height": 85
        }
      },
      "cell_type": "code",
      "source": [
        "X_train, X_test, y_train, y_test = train_test_split(features, \n",
        "                                                    labels, \n",
        "                                                    test_size=0.33, \n",
        "                                                    random_state=666)\n",
        "\n",
        "print(X_train.shape)\n",
        "print(X_test.shape)\n",
        "print(y_train.shape)\n",
        "print(y_test.shape)\n"
      ],
      "execution_count": 0,
      "outputs": [
        {
          "output_type": "stream",
          "text": [
            "(514, 4)\n",
            "(254, 4)\n",
            "(514,)\n",
            "(254,)\n"
          ],
          "name": "stdout"
        }
      ]
    },
    {
      "metadata": {
        "id": "anU_kRRrzHLq",
        "colab_type": "code",
        "colab": {}
      },
      "cell_type": "code",
      "source": [
        "labels_train = (np.arange(2) == y_train[:,None]).astype(np.float32)\n",
        "labels_test = (np.arange(2) == y_test[:,None]).astype(np.float32)"
      ],
      "execution_count": 0,
      "outputs": []
    },
    {
      "metadata": {
        "id": "o2OrjfhC05o2",
        "colab_type": "code",
        "outputId": "455c0298-e5c1-462f-b34c-083297f1a1d7",
        "colab": {
          "base_uri": "https://localhost:8080/",
          "height": 139
        }
      },
      "cell_type": "code",
      "source": [
        "inputs = tf.placeholder(tf.float32, shape=(None, X_train.shape[1]), name='inputs')\n",
        "label = tf.placeholder(tf.float32, shape=(None, 2), name='labels')"
      ],
      "execution_count": 0,
      "outputs": [
        {
          "output_type": "stream",
          "text": [
            "WARNING:tensorflow:From /usr/local/lib/python3.6/dist-packages/tensorflow/python/framework/op_def_library.py:263: colocate_with (from tensorflow.python.framework.ops) is deprecated and will be removed in a future version.\n",
            "Instructions for updating:\n",
            "Colocations handled automatically by placer.\n",
            "WARNING:tensorflow:From <ipython-input-6-4d736705f61c>:16: calling dropout (from tensorflow.python.ops.nn_ops) with keep_prob is deprecated and will be removed in a future version.\n",
            "Instructions for updating:\n",
            "Please use `rate` instead of `keep_prob`. Rate should be set to `rate = 1 - keep_prob`.\n"
          ],
          "name": "stdout"
        }
      ]
    },
    {
      "metadata": {
        "id": "UQm6nVjgocF6",
        "colab_type": "code",
        "colab": {}
      },
      "cell_type": "code",
      "source": [
        "# First layer\n",
        "hidden_size_one = 128\n",
        "\n",
        "weight_one = tf.Variable(tf.random_normal([hidden_size_one, \n",
        "                                           X_train.shape[1]], stddev=0.01), \n",
        "                         name='weight_one')\n",
        "\n",
        "bias_one = tf.Variable(tf.constant(0.1, shape=(hidden_size_one, 1)), \n",
        "                       name='bias_one')\n",
        "\n",
        "y_one = tf.nn.dropout(tf.nn.relu(tf.add(tf.matmul(weight_one, \n",
        "                                                  tf.transpose(inputs)), \n",
        "                                        bias_one)), keep_prob=0.5)"
      ],
      "execution_count": 0,
      "outputs": []
    },
    {
      "metadata": {
        "id": "xFn4RC91odPm",
        "colab_type": "code",
        "colab": {}
      },
      "cell_type": "code",
      "source": [
        "# Second layer\n",
        "\n",
        "hidden_size_two = 256\n",
        "weight_two = tf.Variable(tf.random_normal([hidden_size_two, \n",
        "                                           hidden_size_one], \n",
        "                                          stddev=0.01), \n",
        "                         name='weight_two')\n",
        "\n",
        "bias_two = tf.Variable(tf.constant(0.1, shape=(hidden_size_two, 1)),\n",
        "                       name='bias_two')\n",
        "\n",
        "y_two = tf.nn.dropout(tf.nn.relu(tf.add(tf.matmul(weight_two, \n",
        "                                                  y_one), \n",
        "                                        bias_two)), keep_prob=0.5)"
      ],
      "execution_count": 0,
      "outputs": []
    },
    {
      "metadata": {
        "id": "efpbfyFForCM",
        "colab_type": "code",
        "colab": {}
      },
      "cell_type": "code",
      "source": [
        "# Output layer\n",
        "weight_out = tf.Variable(tf.random_normal([2, \n",
        "                                           hidden_size_two], stddev=0.01), \n",
        "                         name='weight_out')\n",
        "\n",
        "bias_out = tf.Variable(tf.random_normal([2, 1]), name='bias_out')\n",
        "y_out = tf.transpose(tf.add(tf.matmul(weight_out, y_two), bias_out))"
      ],
      "execution_count": 0,
      "outputs": []
    },
    {
      "metadata": {
        "id": "OkGn9T8o1ABw",
        "colab_type": "code",
        "outputId": "2c8ed74c-88ea-46c3-94e3-d964895122e6",
        "colab": {
          "base_uri": "https://localhost:8080/",
          "height": 173
        }
      },
      "cell_type": "code",
      "source": [
        "# Loss function and optimizer\n",
        "lr = tf.placeholder(tf.float32, shape=(), name='learning_rate')\n",
        "loss = tf.reduce_mean(tf.nn.softmax_cross_entropy_with_logits(logits=y_out, labels=label))\n",
        "optimizer = tf.train.GradientDescentOptimizer(lr).minimize(loss)\n",
        "\n",
        "# Prediction\n",
        "pred = tf.nn.softmax(y_out)\n",
        "pred_label = tf.argmax(pred, 1)\n",
        "correct_prediction = tf.equal(tf.argmax(pred, 1), tf.argmax(label, 1))\n",
        "accuracy = tf.reduce_mean(tf.cast(correct_prediction, \"float\"))"
      ],
      "execution_count": 0,
      "outputs": [
        {
          "output_type": "stream",
          "text": [
            "WARNING:tensorflow:From <ipython-input-9-d68f07d02ac2>:2: softmax_cross_entropy_with_logits (from tensorflow.python.ops.nn_ops) is deprecated and will be removed in a future version.\n",
            "Instructions for updating:\n",
            "\n",
            "Future major versions of TensorFlow will allow gradients to flow\n",
            "into the labels input on backprop by default.\n",
            "\n",
            "See `tf.nn.softmax_cross_entropy_with_logits_v2`.\n",
            "\n"
          ],
          "name": "stdout"
        }
      ]
    },
    {
      "metadata": {
        "id": "-62OeJY61EQU",
        "colab_type": "code",
        "outputId": "9a27cdb5-4261-48b7-9330-e2e8c3a364cd",
        "colab": {
          "base_uri": "https://localhost:8080/",
          "height": 187
        }
      },
      "cell_type": "code",
      "source": [
        "# Create operation which will initialize all variables\n",
        "init = tf.global_variables_initializer()\n",
        "\n",
        "# Configure GPU not to use all memory\n",
        "config = tf.ConfigProto()\n",
        "config.gpu_options.allow_growth = True\n",
        "\n",
        "# Start a new tensorflow session and initialize variables\n",
        "sess = tf.InteractiveSession(config=config)\n",
        "sess.run(init)\n",
        "\n",
        "\n",
        "# This is the main training loop: we train for 50 epochs with a learning rate of 0.05 and another \n",
        "# 50 epochs with a smaller learning rate of 0.01\n",
        "for learning_rate in [0.05, 0.01]:\n",
        "    for epoch in range(50):\n",
        "        avg_cost = 0.0\n",
        "\n",
        "        # For each epoch, we go through all the samples we have.\n",
        "        for i in range(X_train.shape[0]):\n",
        "            # Finally, this is where the magic happens: run our optimizer, feed the current example into X and the current target into Y\n",
        "            _, c = sess.run([optimizer, loss], feed_dict={lr:learning_rate, \n",
        "                                                          inputs: X_train[i, None],\n",
        "                                                          label: labels_train[i, None]})\n",
        "            avg_cost += c\n",
        "        avg_cost /= X_train.shape[0]    \n",
        "\n",
        "        # Print the cost in this epcho to the console.\n",
        "        if epoch % 10 == 0:\n",
        "            print(\"Epoch: {:3d}    Train Cost: {:.4f}\".format(epoch, avg_cost))"
      ],
      "execution_count": 0,
      "outputs": [
        {
          "output_type": "stream",
          "text": [
            "Epoch:   0    Train Cost: 0.6253\n",
            "Epoch:  10    Train Cost: 0.5919\n",
            "Epoch:  20    Train Cost: 0.5669\n",
            "Epoch:  30    Train Cost: 0.5720\n",
            "Epoch:  40    Train Cost: 0.5867\n",
            "Epoch:   0    Train Cost: 0.5435\n",
            "Epoch:  10    Train Cost: 0.5172\n",
            "Epoch:  20    Train Cost: 0.5100\n",
            "Epoch:  30    Train Cost: 0.5117\n",
            "Epoch:  40    Train Cost: 0.4987\n"
          ],
          "name": "stdout"
        }
      ]
    },
    {
      "metadata": {
        "id": "BLEYzGk41Wr2",
        "colab_type": "code",
        "outputId": "d25d3438-9475-4e73-affa-27d05f9002bf",
        "colab": {
          "base_uri": "https://localhost:8080/",
          "height": 51
        }
      },
      "cell_type": "code",
      "source": [
        "acc_train = accuracy.eval(feed_dict={inputs: X_train, label: labels_train})\n",
        "print(\"Train accuracy: {:3.2f}%\".format(acc_train*100.0))\n",
        "\n",
        "acc_test = accuracy.eval(feed_dict={inputs: X_test, label: labels_test})\n",
        "print(\"Test accuracy:  {:3.2f}%\".format(acc_test*100.0))"
      ],
      "execution_count": 0,
      "outputs": [
        {
          "output_type": "stream",
          "text": [
            "Train accuracy: 76.46%\n",
            "Test accuracy:  72.05%\n"
          ],
          "name": "stdout"
        }
      ]
    }
  ]
}