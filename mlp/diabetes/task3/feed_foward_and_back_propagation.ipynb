{
  "nbformat": 4,
  "nbformat_minor": 0,
  "metadata": {
    "colab": {
      "name": "feed_foward_and_back_propagation.ipynb",
      "version": "0.3.2",
      "provenance": [],
      "include_colab_link": true
    },
    "kernelspec": {
      "name": "python3",
      "display_name": "Python 3"
    }
  },
  "cells": [
    {
      "cell_type": "markdown",
      "metadata": {
        "id": "view-in-github",
        "colab_type": "text"
      },
      "source": [
        "<a href=\"https://colab.research.google.com/github/carvalheirafc/deep_learning_stuff/blob/master/mlp/diabetes/task3/feed_foward_and_back_propagation.ipynb\" target=\"_parent\"><img src=\"https://colab.research.google.com/assets/colab-badge.svg\" alt=\"Open In Colab\"/></a>"
      ]
    },
    {
      "metadata": {
        "id": "Uy8Y_KozVbBR",
        "colab_type": "code",
        "colab": {}
      },
      "cell_type": "code",
      "source": [
        "import pandas as pd\n",
        "import numpy as np\n",
        "from sklearn.model_selection import train_test_split\n",
        "from sklearn.model_selection import KFold, cross_val_score\n",
        "from sklearn import metrics\n",
        "\n",
        "import matplotlib.pyplot as plt\n",
        "\n",
        "import tensorflow as tf"
      ],
      "execution_count": 0,
      "outputs": []
    },
    {
      "metadata": {
        "id": "ml3-tcb4VprL",
        "colab_type": "code",
        "outputId": "24a53917-dd32-4094-a928-2be01b1d31d0",
        "colab": {
          "base_uri": "https://localhost:8080/",
          "height": 204
        }
      },
      "cell_type": "code",
      "source": [
        "csv_file = 'https://raw.githubusercontent.com/carvalheirafc/deep_learning_stuff/master/mlp/diabetes/diabetes_pca_result.csv'\n",
        "df = pd.read_csv(csv_file)\n",
        "df.describe().transpose()"
      ],
      "execution_count": 18,
      "outputs": [
        {
          "output_type": "execute_result",
          "data": {
            "text/html": [
              "<div>\n",
              "<style scoped>\n",
              "    .dataframe tbody tr th:only-of-type {\n",
              "        vertical-align: middle;\n",
              "    }\n",
              "\n",
              "    .dataframe tbody tr th {\n",
              "        vertical-align: top;\n",
              "    }\n",
              "\n",
              "    .dataframe thead th {\n",
              "        text-align: right;\n",
              "    }\n",
              "</style>\n",
              "<table border=\"1\" class=\"dataframe\">\n",
              "  <thead>\n",
              "    <tr style=\"text-align: right;\">\n",
              "      <th></th>\n",
              "      <th>count</th>\n",
              "      <th>mean</th>\n",
              "      <th>std</th>\n",
              "      <th>min</th>\n",
              "      <th>25%</th>\n",
              "      <th>50%</th>\n",
              "      <th>75%</th>\n",
              "      <th>max</th>\n",
              "    </tr>\n",
              "  </thead>\n",
              "  <tbody>\n",
              "    <tr>\n",
              "      <th>Component 1</th>\n",
              "      <td>768.0</td>\n",
              "      <td>-6.693141e-17</td>\n",
              "      <td>1.711960</td>\n",
              "      <td>-5.587340</td>\n",
              "      <td>-1.027072</td>\n",
              "      <td>0.152931</td>\n",
              "      <td>1.095689</td>\n",
              "      <td>5.963579</td>\n",
              "    </tr>\n",
              "    <tr>\n",
              "      <th>Component 2</th>\n",
              "      <td>768.0</td>\n",
              "      <td>-6.071532e-17</td>\n",
              "      <td>1.318184</td>\n",
              "      <td>-2.955806</td>\n",
              "      <td>-1.007096</td>\n",
              "      <td>-0.225966</td>\n",
              "      <td>0.959128</td>\n",
              "      <td>3.606582</td>\n",
              "    </tr>\n",
              "    <tr>\n",
              "      <th>Component 3</th>\n",
              "      <td>768.0</td>\n",
              "      <td>-3.324887e-17</td>\n",
              "      <td>1.015629</td>\n",
              "      <td>-3.203088</td>\n",
              "      <td>-0.646496</td>\n",
              "      <td>-0.103940</td>\n",
              "      <td>0.549774</td>\n",
              "      <td>4.754503</td>\n",
              "    </tr>\n",
              "    <tr>\n",
              "      <th>Component 4</th>\n",
              "      <td>768.0</td>\n",
              "      <td>2.349105e-18</td>\n",
              "      <td>0.966941</td>\n",
              "      <td>-2.192185</td>\n",
              "      <td>-0.664677</td>\n",
              "      <td>-0.115829</td>\n",
              "      <td>0.543242</td>\n",
              "      <td>4.125987</td>\n",
              "    </tr>\n",
              "    <tr>\n",
              "      <th>Diagnóstico</th>\n",
              "      <td>768.0</td>\n",
              "      <td>3.489583e-01</td>\n",
              "      <td>0.476951</td>\n",
              "      <td>0.000000</td>\n",
              "      <td>0.000000</td>\n",
              "      <td>0.000000</td>\n",
              "      <td>1.000000</td>\n",
              "      <td>1.000000</td>\n",
              "    </tr>\n",
              "  </tbody>\n",
              "</table>\n",
              "</div>"
            ],
            "text/plain": [
              "             count          mean       std       min       25%       50%  \\\n",
              "Component 1  768.0 -6.693141e-17  1.711960 -5.587340 -1.027072  0.152931   \n",
              "Component 2  768.0 -6.071532e-17  1.318184 -2.955806 -1.007096 -0.225966   \n",
              "Component 3  768.0 -3.324887e-17  1.015629 -3.203088 -0.646496 -0.103940   \n",
              "Component 4  768.0  2.349105e-18  0.966941 -2.192185 -0.664677 -0.115829   \n",
              "Diagnóstico  768.0  3.489583e-01  0.476951  0.000000  0.000000  0.000000   \n",
              "\n",
              "                  75%       max  \n",
              "Component 1  1.095689  5.963579  \n",
              "Component 2  0.959128  3.606582  \n",
              "Component 3  0.549774  4.754503  \n",
              "Component 4  0.543242  4.125987  \n",
              "Diagnóstico  1.000000  1.000000  "
            ]
          },
          "metadata": {
            "tags": []
          },
          "execution_count": 18
        }
      ]
    },
    {
      "metadata": {
        "id": "7cLu6f5_V6-O",
        "colab_type": "code",
        "outputId": "f85ac2eb-2e4f-4f51-97f9-2887f39aa66a",
        "colab": {
          "base_uri": "https://localhost:8080/",
          "height": 51
        }
      },
      "cell_type": "code",
      "source": [
        "features = df.drop('Diagnóstico', axis=1).values\n",
        "target = df['Diagnóstico'].values\n",
        "\n",
        "print(features.shape)\n",
        "print(target.shape)"
      ],
      "execution_count": 19,
      "outputs": [
        {
          "output_type": "stream",
          "text": [
            "(768, 4)\n",
            "(768,)\n"
          ],
          "name": "stdout"
        }
      ]
    },
    {
      "metadata": {
        "id": "pq8yFXo_WNLh",
        "colab_type": "code",
        "outputId": "3e7847cb-ac37-498e-f45d-b808f1dfcdaf",
        "colab": {
          "base_uri": "https://localhost:8080/",
          "height": 85
        }
      },
      "cell_type": "code",
      "source": [
        "k_fold = KFold(n_splits=20)\n",
        "\n",
        "X_train = []\n",
        "X_test = []\n",
        "y_train = []\n",
        "y_test = []\n",
        "for train_indices, test_indices in k_fold.split(features, target):\n",
        "  for ii in train_indices:\n",
        "    X_train.append( features[ii] )\n",
        "    y_train.append( target[ii] )\n",
        "  for jj in test_indices:\n",
        "    X_test.append( features[jj] )\n",
        "    y_test.append( target[jj] )\n",
        "\n",
        "#X_train, X_test, y_train, y_test = train_test_split(features, \n",
        "#                                                    target, \n",
        "#                                                    test_size=0.2, \n",
        "#                                                    random_state=666)\n",
        "\n",
        "X_train = np.array(X_train)\n",
        "X_test = np.array(X_test)\n",
        "y_train = np.array(y_train)\n",
        "y_test = np.array(y_test)\n",
        "\n",
        "print(X_train.shape)\n",
        "print(X_test.shape)\n",
        "print(y_train.shape)\n",
        "print(y_test.shape)\n"
      ],
      "execution_count": 20,
      "outputs": [
        {
          "output_type": "stream",
          "text": [
            "(14592, 4)\n",
            "(768, 4)\n",
            "(14592,)\n",
            "(768,)\n"
          ],
          "name": "stdout"
        }
      ]
    },
    {
      "metadata": {
        "id": "anU_kRRrzHLq",
        "colab_type": "code",
        "colab": {}
      },
      "cell_type": "code",
      "source": [
        "labels_train = (np.arange(2) == y_train[:,None]).astype(np.float64)\n",
        "labels_test = (np.arange(2) == y_test[:,None]).astype(np.float64)\n"
      ],
      "execution_count": 0,
      "outputs": []
    },
    {
      "metadata": {
        "id": "o2OrjfhC05o2",
        "colab_type": "code",
        "colab": {}
      },
      "cell_type": "code",
      "source": [
        "inputs = tf.placeholder(tf.float32, shape=(None, X_train.shape[1]), name='inputs')\n",
        "label = tf.placeholder(tf.float32, shape=(None, 2), name='labels')"
      ],
      "execution_count": 0,
      "outputs": []
    },
    {
      "metadata": {
        "id": "MgYnnQqkzlry",
        "colab_type": "code",
        "colab": {}
      },
      "cell_type": "code",
      "source": [
        "# Feed batch data\n",
        "def get_batch(inputX, inputY, batch_size):\n",
        "   duration = len(inputX)\n",
        "   for i in range(0,duration//batch_size):\n",
        "     idx = i*batch_size\n",
        "     yield inputX[idx:idx+batch_size], inputY[idx:idx+batch_size]"
      ],
      "execution_count": 0,
      "outputs": []
    },
    {
      "metadata": {
        "id": "ugxCHsW97OPJ",
        "colab_type": "code",
        "colab": {}
      },
      "cell_type": "code",
      "source": [
        "def feed_foward_network(data):\n",
        "  \n",
        "  hidden_size_one = 128\n",
        "  hidden_size_two = 256\n",
        "  \n",
        "  # First layer\n",
        "  weight_one = tf.Variable(tf.random_normal([hidden_size_one, X_train.shape[1]], stddev=0.01), name='weight_one')\n",
        "  bias_one = tf.Variable(tf.constant(0.1, shape=(hidden_size_one, 1)), name='bias_one')\n",
        "  y_one = tf.nn.dropout(tf.nn.relu(tf.add(tf.matmul(weight_one, tf.transpose(inputs)), bias_one)), keep_prob=0.5)\n",
        "  \n",
        "  # Second layer\n",
        "  weight_two = tf.Variable(tf.random_normal([hidden_size_two, hidden_size_one], stddev=0.01), name='weight_two')\n",
        "  bias_two = tf.Variable(tf.constant(0.1, shape=(hidden_size_two, 1)), name='bias_two')\n",
        "  y_two = tf.nn.dropout(tf.nn.relu(tf.add(tf.matmul(weight_two, y_one), bias_two)), keep_prob=0.5)\n",
        "  \n",
        "  # Output layer\n",
        "  weight_out = tf.Variable(tf.random_normal([2, hidden_size_two], stddev=0.01), name='weight_out')\n",
        "  bias_out = tf.Variable(tf.random_normal([2, 1]), name='bias_out')\n",
        "  y_out = tf.transpose(tf.add(tf.matmul(weight_out, y_two), bias_out))\n",
        "  \n",
        "  return (y_out)"
      ],
      "execution_count": 0,
      "outputs": []
    },
    {
      "metadata": {
        "id": "JBCmCNrCvWbr",
        "colab_type": "code",
        "colab": {}
      },
      "cell_type": "code",
      "source": [
        "batch_size = len(X_train) // 100\n"
      ],
      "execution_count": 0,
      "outputs": []
    },
    {
      "metadata": {
        "id": "gcCKd7yAeXy2",
        "colab_type": "code",
        "colab": {}
      },
      "cell_type": "code",
      "source": [
        "y = feed_foward_network(inputs)\n",
        "\n",
        "# Loss function and optimizer\n",
        "lr = tf.placeholder(tf.float32, shape=(), name='learning_rate')\n",
        "loss = tf.reduce_mean(tf.nn.softmax_cross_entropy_with_logits(logits=y, labels=label))\n",
        "optimizer = tf.train.GradientDescentOptimizer(lr).minimize(loss)\n",
        "#optimizer = tf.train.AdagradOptimizer(lr).minimize(loss)\n",
        "\n",
        "# Prediction\n",
        "pred_label = tf.argmax(y, 1)\n",
        "correct_prediction = tf.equal(tf.argmax(y, 1), tf.argmax(label, 1))\n",
        "accuracy = tf.reduce_mean(tf.cast(correct_prediction, \"float\"))\n",
        "  \n",
        "def train():\n",
        "  \n",
        "  for learning_rate in [0.05, 0.01]:\n",
        "    for epoch in range(50):\n",
        "      avg_cost = 0.0\n",
        "\n",
        "      \n",
        "      for x_batch, y_batch in get_batch(X_train, labels_train, batch_size):\n",
        "        for i in range(x_batch.shape[0]):\n",
        "          _, c = sess.run([optimizer, loss], feed_dict={lr:learning_rate, inputs:x_batch[i, None], label:y_batch[i, None]})\n",
        "          avg_cost += c\n",
        "      avg_cost /= X_train.shape[0]\n",
        "      if epoch % 10 == 0:\n",
        "        print(\"Epoch: {:3d}    Train Cost: {:.4f}\".format(epoch, avg_cost))\n",
        "  \n",
        "  return(c)"
      ],
      "execution_count": 0,
      "outputs": []
    },
    {
      "metadata": {
        "id": "BLEYzGk41Wr2",
        "colab_type": "code",
        "outputId": "1fb11769-c7af-4348-ec3f-2b0aa9dfbf22",
        "colab": {
          "base_uri": "https://localhost:8080/",
          "height": 258
        }
      },
      "cell_type": "code",
      "source": [
        "init = tf.global_variables_initializer()\n",
        "config = tf.ConfigProto()\n",
        "config.gpu_options.allow_growth = True\n",
        "sess = tf.InteractiveSession(config=config)\n",
        "sess.run(init)\n",
        "\n",
        "train()"
      ],
      "execution_count": 27,
      "outputs": [
        {
          "output_type": "stream",
          "text": [
            "/usr/local/lib/python3.6/dist-packages/tensorflow/python/client/session.py:1702: UserWarning: An interactive session is already active. This can cause out-of-memory errors in some cases. You must explicitly call `InteractiveSession.close()` to release resources held by the other session(s).\n",
            "  warnings.warn('An interactive session is already active. This can '\n"
          ],
          "name": "stderr"
        },
        {
          "output_type": "stream",
          "text": [
            "Epoch:   0    Train Cost: 0.5778\n",
            "Epoch:  10    Train Cost: 0.5476\n",
            "Epoch:  20    Train Cost: 0.5412\n",
            "Epoch:  30    Train Cost: 0.5393\n",
            "Epoch:  40    Train Cost: 0.5396\n",
            "Epoch:   0    Train Cost: 0.5255\n",
            "Epoch:  10    Train Cost: 0.5152\n",
            "Epoch:  20    Train Cost: 0.5047\n",
            "Epoch:  30    Train Cost: 0.5041\n",
            "Epoch:  40    Train Cost: 0.5024\n"
          ],
          "name": "stdout"
        },
        {
          "output_type": "execute_result",
          "data": {
            "text/plain": [
              "0.12738952"
            ]
          },
          "metadata": {
            "tags": []
          },
          "execution_count": 27
        }
      ]
    },
    {
      "metadata": {
        "id": "3_NZrYCJ8vTS",
        "colab_type": "code",
        "outputId": "e12325b8-75c1-4492-9ad6-1e6b61ff2e5c",
        "colab": {
          "base_uri": "https://localhost:8080/",
          "height": 51
        }
      },
      "cell_type": "code",
      "source": [
        "acc_train = accuracy.eval(feed_dict={inputs: X_train, label: labels_train})\n",
        "print(\"Train accuracy: {:3.2f}%\".format(acc_train*100.0))\n",
        "\n",
        "acc_test = accuracy.eval(feed_dict={inputs: X_test, label: labels_test})\n",
        "print(\"Test accuracy:  {:3.2f}%\".format(acc_test*100.0))"
      ],
      "execution_count": 28,
      "outputs": [
        {
          "output_type": "stream",
          "text": [
            "Train accuracy: 75.05%\n",
            "Test accuracy:  74.61%\n"
          ],
          "name": "stdout"
        }
      ]
    },
    {
      "metadata": {
        "id": "RFUiR5KTYN7d",
        "colab_type": "code",
        "colab": {}
      },
      "cell_type": "code",
      "source": [
        "df_test = pd.DataFrame()\n",
        "df_test['targets'] = y_test\n",
        "\n",
        "for i in range(X_test.shape[0]):\n",
        "  df_test.loc[i, 'pred'] = sess.run(pred_label, feed_dict={inputs: X_test[i, None]}).squeeze()"
      ],
      "execution_count": 0,
      "outputs": []
    },
    {
      "metadata": {
        "id": "3438Ekh7YUCh",
        "colab_type": "code",
        "colab": {}
      },
      "cell_type": "code",
      "source": [
        "fpr, tpr, thresholds = metrics.roc_curve(df_test['targets'], df_test['pred'], pos_label=1)\n",
        "roc = metrics.auc(fpr, tpr)\n"
      ],
      "execution_count": 0,
      "outputs": []
    },
    {
      "metadata": {
        "id": "zVRtVywLaFyn",
        "colab_type": "code",
        "outputId": "6af2d224-a958-4792-8a11-fec37de7c4e3",
        "colab": {
          "base_uri": "https://localhost:8080/",
          "height": 295
        }
      },
      "cell_type": "code",
      "source": [
        "plt.title('Receiver Operating Characteristic Curve')\n",
        "plt.plot(fpr, tpr, 'b', label = 'AUC = %0.2f' % roc)\n",
        "plt.legend(loc = 'lower right')\n",
        "\n",
        "plt.plot([0, 1], [0, 1],'r--')\n",
        "plt.xlim([0, 1])\n",
        "plt.ylim([0, 1])\n",
        "plt.ylabel('True Positive Rate')\n",
        "plt.xlabel('False Positive Rate')\n",
        "plt.show()"
      ],
      "execution_count": 31,
      "outputs": [
        {
          "output_type": "display_data",
          "data": {
            "image/png": "[encoded data removed]",
            "text/plain": [
              "<Figure size 432x288 with 1 Axes>"
            ]
          },
          "metadata": {
            "tags": []
          }
        }
      ]
    }
  ]
}