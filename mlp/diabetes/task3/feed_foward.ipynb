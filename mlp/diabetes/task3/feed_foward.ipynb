{
  "nbformat": 4,
  "nbformat_minor": 0,
  "metadata": {
    "colab": {
      "name": "feed_foward.ipynb",
      "version": "0.3.2",
      "provenance": [],
      "include_colab_link": true
    },
    "kernelspec": {
      "name": "python3",
      "display_name": "Python 3"
    }
  },
  "cells": [
    {
      "cell_type": "markdown",
      "metadata": {
        "id": "view-in-github",
        "colab_type": "text"
      },
      "source": [
        "<a href=\"https://colab.research.google.com/github/carvalheirafc/deep_learning_stuff/blob/master/mlp/diabetes/task3/feed_foward.ipynb\" target=\"_parent\"><img src=\"https://colab.research.google.com/assets/colab-badge.svg\" alt=\"Open In Colab\"/></a>"
      ]
    },
    {
      "metadata": {
        "id": "Uy8Y_KozVbBR",
        "colab_type": "code",
        "colab": {}
      },
      "cell_type": "code",
      "source": [
        "import pandas as pd\n",
        "import numpy as np\n",
        "from sklearn.model_selection import train_test_split\n",
        "\n",
        "import tensorflow as tf"
      ],
      "execution_count": 0,
      "outputs": []
    },
    {
      "metadata": {
        "id": "ml3-tcb4VprL",
        "colab_type": "code",
        "colab": {
          "base_uri": "https://localhost:8080/",
          "height": 204
        },
        "outputId": "f5ea595f-c324-4a54-e1d5-eebfdf318de1"
      },
      "cell_type": "code",
      "source": [
        "csv_file = 'https://raw.githubusercontent.com/carvalheirafc/deep_learning_stuff/master/mlp/diabetes/diabetes_pca_result.csv'\n",
        "df = pd.read_csv(csv_file)\n",
        "df.describe().transpose()"
      ],
      "execution_count": 3,
      "outputs": [
        {
          "output_type": "execute_result",
          "data": {
            "text/html": [
              "<div>\n",
              "<style scoped>\n",
              "    .dataframe tbody tr th:only-of-type {\n",
              "        vertical-align: middle;\n",
              "    }\n",
              "\n",
              "    .dataframe tbody tr th {\n",
              "        vertical-align: top;\n",
              "    }\n",
              "\n",
              "    .dataframe thead th {\n",
              "        text-align: right;\n",
              "    }\n",
              "</style>\n",
              "<table border=\"1\" class=\"dataframe\">\n",
              "  <thead>\n",
              "    <tr style=\"text-align: right;\">\n",
              "      <th></th>\n",
              "      <th>count</th>\n",
              "      <th>mean</th>\n",
              "      <th>std</th>\n",
              "      <th>min</th>\n",
              "      <th>25%</th>\n",
              "      <th>50%</th>\n",
              "      <th>75%</th>\n",
              "      <th>max</th>\n",
              "    </tr>\n",
              "  </thead>\n",
              "  <tbody>\n",
              "    <tr>\n",
              "      <th>Component 1</th>\n",
              "      <td>768.0</td>\n",
              "      <td>-6.693141e-17</td>\n",
              "      <td>1.711960</td>\n",
              "      <td>-5.587340</td>\n",
              "      <td>-1.027072</td>\n",
              "      <td>0.152931</td>\n",
              "      <td>1.095689</td>\n",
              "      <td>5.963579</td>\n",
              "    </tr>\n",
              "    <tr>\n",
              "      <th>Component 2</th>\n",
              "      <td>768.0</td>\n",
              "      <td>-6.071532e-17</td>\n",
              "      <td>1.318184</td>\n",
              "      <td>-2.955806</td>\n",
              "      <td>-1.007096</td>\n",
              "      <td>-0.225966</td>\n",
              "      <td>0.959128</td>\n",
              "      <td>3.606582</td>\n",
              "    </tr>\n",
              "    <tr>\n",
              "      <th>Component 3</th>\n",
              "      <td>768.0</td>\n",
              "      <td>-3.324887e-17</td>\n",
              "      <td>1.015629</td>\n",
              "      <td>-3.203088</td>\n",
              "      <td>-0.646496</td>\n",
              "      <td>-0.103940</td>\n",
              "      <td>0.549774</td>\n",
              "      <td>4.754503</td>\n",
              "    </tr>\n",
              "    <tr>\n",
              "      <th>Component 4</th>\n",
              "      <td>768.0</td>\n",
              "      <td>2.349105e-18</td>\n",
              "      <td>0.966941</td>\n",
              "      <td>-2.192185</td>\n",
              "      <td>-0.664677</td>\n",
              "      <td>-0.115829</td>\n",
              "      <td>0.543242</td>\n",
              "      <td>4.125987</td>\n",
              "    </tr>\n",
              "    <tr>\n",
              "      <th>Diagnóstico</th>\n",
              "      <td>768.0</td>\n",
              "      <td>3.489583e-01</td>\n",
              "      <td>0.476951</td>\n",
              "      <td>0.000000</td>\n",
              "      <td>0.000000</td>\n",
              "      <td>0.000000</td>\n",
              "      <td>1.000000</td>\n",
              "      <td>1.000000</td>\n",
              "    </tr>\n",
              "  </tbody>\n",
              "</table>\n",
              "</div>"
            ],
            "text/plain": [
              "             count          mean       std       min       25%       50%  \\\n",
              "Component 1  768.0 -6.693141e-17  1.711960 -5.587340 -1.027072  0.152931   \n",
              "Component 2  768.0 -6.071532e-17  1.318184 -2.955806 -1.007096 -0.225966   \n",
              "Component 3  768.0 -3.324887e-17  1.015629 -3.203088 -0.646496 -0.103940   \n",
              "Component 4  768.0  2.349105e-18  0.966941 -2.192185 -0.664677 -0.115829   \n",
              "Diagnóstico  768.0  3.489583e-01  0.476951  0.000000  0.000000  0.000000   \n",
              "\n",
              "                  75%       max  \n",
              "Component 1  1.095689  5.963579  \n",
              "Component 2  0.959128  3.606582  \n",
              "Component 3  0.549774  4.754503  \n",
              "Component 4  0.543242  4.125987  \n",
              "Diagnóstico  1.000000  1.000000  "
            ]
          },
          "metadata": {
            "tags": []
          },
          "execution_count": 3
        }
      ]
    },
    {
      "metadata": {
        "id": "7cLu6f5_V6-O",
        "colab_type": "code",
        "colab": {
          "base_uri": "https://localhost:8080/",
          "height": 51
        },
        "outputId": "ff9c0d6f-98c1-4a6e-dbc2-ecc1262f176e"
      },
      "cell_type": "code",
      "source": [
        "features = df.drop('Diagnóstico', axis=1).values\n",
        "labels = df['Diagnóstico'].values\n",
        "\n",
        "print(features.shape)\n",
        "print(labels.shape)"
      ],
      "execution_count": 48,
      "outputs": [
        {
          "output_type": "stream",
          "text": [
            "(768, 4)\n",
            "(768,)\n"
          ],
          "name": "stdout"
        }
      ]
    },
    {
      "metadata": {
        "id": "pq8yFXo_WNLh",
        "colab_type": "code",
        "colab": {
          "base_uri": "https://localhost:8080/",
          "height": 85
        },
        "outputId": "96676db2-04b9-428a-f8fc-c4cb24bbceb0"
      },
      "cell_type": "code",
      "source": [
        "X_train, X_test, y_train, y_test = train_test_split(features, \n",
        "                                                    labels, \n",
        "                                                    test_size=0.33, \n",
        "                                                    random_state=666)\n",
        "\n",
        "print(X_train.shape)\n",
        "print(X_test.shape)\n",
        "print(y_train.shape)\n",
        "print(y_test.shape)"
      ],
      "execution_count": 49,
      "outputs": [
        {
          "output_type": "stream",
          "text": [
            "(514, 4)\n",
            "(254, 4)\n",
            "(514,)\n",
            "(254,)\n"
          ],
          "name": "stdout"
        }
      ]
    },
    {
      "metadata": {
        "id": "2sMCUmgjhrkY",
        "colab_type": "code",
        "colab": {
          "base_uri": "https://localhost:8080/",
          "height": 731
        },
        "outputId": "07113cad-b031-44c0-f08f-a5d6b45c519a"
      },
      "cell_type": "code",
      "source": [
        "model = tf.keras.Sequential()\n",
        "\n",
        "model.add(tf.keras.layers.Dense(128, activation='relu', input_dim=4))\n",
        "model.add(tf.keras.layers.Dropout(0.5))\n",
        "model.add(tf.keras.layers.Dense(128, activation='relu'))\n",
        "model.add(tf.keras.layers.Dropout(0.5))\n",
        "model.add(tf.keras.layers.Dense(1, activation='sigmoid'))\n",
        "\n",
        "model.compile(optimizer='rmsprop',\n",
        "              loss='binary_crossentropy',\n",
        "              metrics=['accuracy'])\n",
        "\n",
        "\n",
        "history = model.fit(X_train, y_train,\n",
        "          epochs=20,\n",
        "          batch_size=128)\n",
        "\n",
        "score = model.evaluate(X_test, y_test, batch_size=128)\n",
        "score"
      ],
      "execution_count": 99,
      "outputs": [
        {
          "output_type": "stream",
          "text": [
            "Epoch 1/20\n",
            "514/514 [==============================] - 0s 236us/sample - loss: 0.6701 - acc: 0.6109\n",
            "Epoch 2/20\n",
            "514/514 [==============================] - 0s 36us/sample - loss: 0.6044 - acc: 0.6984\n",
            "Epoch 3/20\n",
            "514/514 [==============================] - 0s 34us/sample - loss: 0.5808 - acc: 0.6965\n",
            "Epoch 4/20\n",
            "514/514 [==============================] - 0s 35us/sample - loss: 0.5762 - acc: 0.7043\n",
            "Epoch 5/20\n",
            "514/514 [==============================] - 0s 32us/sample - loss: 0.5445 - acc: 0.7276\n",
            "Epoch 6/20\n",
            "514/514 [==============================] - 0s 38us/sample - loss: 0.5608 - acc: 0.7160\n",
            "Epoch 7/20\n",
            "514/514 [==============================] - 0s 37us/sample - loss: 0.5672 - acc: 0.6926\n",
            "Epoch 8/20\n",
            "514/514 [==============================] - 0s 37us/sample - loss: 0.5558 - acc: 0.7218\n",
            "Epoch 9/20\n",
            "514/514 [==============================] - 0s 38us/sample - loss: 0.5453 - acc: 0.7082\n",
            "Epoch 10/20\n",
            "514/514 [==============================] - 0s 38us/sample - loss: 0.5500 - acc: 0.7374\n",
            "Epoch 11/20\n",
            "514/514 [==============================] - 0s 37us/sample - loss: 0.5331 - acc: 0.7160\n",
            "Epoch 12/20\n",
            "514/514 [==============================] - 0s 38us/sample - loss: 0.5394 - acc: 0.7335\n",
            "Epoch 13/20\n",
            "514/514 [==============================] - 0s 35us/sample - loss: 0.5377 - acc: 0.7237\n",
            "Epoch 14/20\n",
            "514/514 [==============================] - 0s 35us/sample - loss: 0.5280 - acc: 0.7374\n",
            "Epoch 15/20\n",
            "514/514 [==============================] - 0s 35us/sample - loss: 0.5520 - acc: 0.7354\n",
            "Epoch 16/20\n",
            "514/514 [==============================] - 0s 42us/sample - loss: 0.5087 - acc: 0.7393\n",
            "Epoch 17/20\n",
            "514/514 [==============================] - 0s 35us/sample - loss: 0.5473 - acc: 0.7257\n",
            "Epoch 18/20\n",
            "514/514 [==============================] - 0s 34us/sample - loss: 0.5426 - acc: 0.7490\n",
            "Epoch 19/20\n",
            "514/514 [==============================] - 0s 37us/sample - loss: 0.5339 - acc: 0.7140\n",
            "Epoch 20/20\n",
            "514/514 [==============================] - 0s 41us/sample - loss: 0.5474 - acc: 0.7374\n",
            "254/254 [==============================] - 0s 323us/sample - loss: 0.5048 - acc: 0.7402\n"
          ],
          "name": "stdout"
        },
        {
          "output_type": "execute_result",
          "data": {
            "text/plain": [
              "[0.5048009049235367, 0.7401575]"
            ]
          },
          "metadata": {
            "tags": []
          },
          "execution_count": 99
        }
      ]
    },
    {
      "metadata": {
        "id": "UJoZ-yiS2kxL",
        "colab_type": "code",
        "colab": {
          "base_uri": "https://localhost:8080/",
          "height": 34
        },
        "outputId": "1b570fa1-8d8e-4269-f43c-3f22b53fc131"
      },
      "cell_type": "code",
      "source": [
        "print(history.history.keys())"
      ],
      "execution_count": 101,
      "outputs": [
        {
          "output_type": "stream",
          "text": [
            "dict_keys(['loss', 'acc'])\n"
          ],
          "name": "stdout"
        }
      ]
    },
    {
      "metadata": {
        "id": "AdP8GCrCxAuv",
        "colab_type": "code",
        "colab": {
          "base_uri": "https://localhost:8080/",
          "height": 295
        },
        "outputId": "17317b83-650b-4c6a-bc56-10c3d9436e2e"
      },
      "cell_type": "code",
      "source": [
        "import matplotlib.pyplot as plt\n",
        "plt.plot(history.history['acc'])\n",
        "#plt.plot(history.history['val_acc'])\n",
        "plt.title('model accuracy')\n",
        "plt.ylabel('accuracy')\n",
        "plt.xlabel('epoch')\n",
        "plt.legend(['train', 'test'], loc='upper left')\n",
        "plt.show()"
      ],
      "execution_count": 102,
      "outputs": [
        {
          "output_type": "display_data",
          "data": {
            "image/png": "[encoded data removed]",
            "text/plain": [
              "<Figure size 432x288 with 1 Axes>"
            ]
          },
          "metadata": {
            "tags": []
          }
        }
      ]
    }
  ]
}