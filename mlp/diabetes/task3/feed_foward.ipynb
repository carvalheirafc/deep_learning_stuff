{
  "nbformat": 4,
  "nbformat_minor": 0,
  "metadata": {
    "colab": {
      "name": "feed_foward.ipynb",
      "version": "0.3.2",
      "provenance": [],
      "include_colab_link": true
    },
    "kernelspec": {
      "name": "python3",
      "display_name": "Python 3"
    }
  },
  "cells": [
    {
      "cell_type": "markdown",
      "metadata": {
        "id": "view-in-github",
        "colab_type": "text"
      },
      "source": [
        "<a href=\"https://colab.research.google.com/github/carvalheirafc/deep_learning_stuff/blob/master/mlp/diabetes/task3/feed_foward.ipynb\" target=\"_parent\"><img src=\"https://colab.research.google.com/assets/colab-badge.svg\" alt=\"Open In Colab\"/></a>"
      ]
    },
    {
      "metadata": {
        "id": "Uy8Y_KozVbBR",
        "colab_type": "code",
        "colab": {}
      },
      "cell_type": "code",
      "source": [
        "import pandas as pd\n",
        "import numpy as np\n",
        "from sklearn.model_selection import train_test_split\n",
        "\n",
        "import tensorflow as tf"
      ],
      "execution_count": 0,
      "outputs": []
    },
    {
      "metadata": {
        "id": "ml3-tcb4VprL",
        "colab_type": "code",
        "colab": {
          "base_uri": "https://localhost:8080/",
          "height": 204
        },
        "outputId": "f5ea595f-c324-4a54-e1d5-eebfdf318de1"
      },
      "cell_type": "code",
      "source": [
        "csv_file = 'https://raw.githubusercontent.com/carvalheirafc/deep_learning_stuff/master/mlp/diabetes/diabetes_pca_result.csv'\n",
        "df = pd.read_csv(csv_file)\n",
        "df.describe().transpose()"
      ],
      "execution_count": 3,
      "outputs": [
        {
          "output_type": "execute_result",
          "data": {
            "text/html": [
              "<div>\n",
              "<style scoped>\n",
              "    .dataframe tbody tr th:only-of-type {\n",
              "        vertical-align: middle;\n",
              "    }\n",
              "\n",
              "    .dataframe tbody tr th {\n",
              "        vertical-align: top;\n",
              "    }\n",
              "\n",
              "    .dataframe thead th {\n",
              "        text-align: right;\n",
              "    }\n",
              "</style>\n",
              "<table border=\"1\" class=\"dataframe\">\n",
              "  <thead>\n",
              "    <tr style=\"text-align: right;\">\n",
              "      <th></th>\n",
              "      <th>count</th>\n",
              "      <th>mean</th>\n",
              "      <th>std</th>\n",
              "      <th>min</th>\n",
              "      <th>25%</th>\n",
              "      <th>50%</th>\n",
              "      <th>75%</th>\n",
              "      <th>max</th>\n",
              "    </tr>\n",
              "  </thead>\n",
              "  <tbody>\n",
              "    <tr>\n",
              "      <th>Component 1</th>\n",
              "      <td>768.0</td>\n",
              "      <td>-6.693141e-17</td>\n",
              "      <td>1.711960</td>\n",
              "      <td>-5.587340</td>\n",
              "      <td>-1.027072</td>\n",
              "      <td>0.152931</td>\n",
              "      <td>1.095689</td>\n",
              "      <td>5.963579</td>\n",
              "    </tr>\n",
              "    <tr>\n",
              "      <th>Component 2</th>\n",
              "      <td>768.0</td>\n",
              "      <td>-6.071532e-17</td>\n",
              "      <td>1.318184</td>\n",
              "      <td>-2.955806</td>\n",
              "      <td>-1.007096</td>\n",
              "      <td>-0.225966</td>\n",
              "      <td>0.959128</td>\n",
              "      <td>3.606582</td>\n",
              "    </tr>\n",
              "    <tr>\n",
              "      <th>Component 3</th>\n",
              "      <td>768.0</td>\n",
              "      <td>-3.324887e-17</td>\n",
              "      <td>1.015629</td>\n",
              "      <td>-3.203088</td>\n",
              "      <td>-0.646496</td>\n",
              "      <td>-0.103940</td>\n",
              "      <td>0.549774</td>\n",
              "      <td>4.754503</td>\n",
              "    </tr>\n",
              "    <tr>\n",
              "      <th>Component 4</th>\n",
              "      <td>768.0</td>\n",
              "      <td>2.349105e-18</td>\n",
              "      <td>0.966941</td>\n",
              "      <td>-2.192185</td>\n",
              "      <td>-0.664677</td>\n",
              "      <td>-0.115829</td>\n",
              "      <td>0.543242</td>\n",
              "      <td>4.125987</td>\n",
              "    </tr>\n",
              "    <tr>\n",
              "      <th>Diagnóstico</th>\n",
              "      <td>768.0</td>\n",
              "      <td>3.489583e-01</td>\n",
              "      <td>0.476951</td>\n",
              "      <td>0.000000</td>\n",
              "      <td>0.000000</td>\n",
              "      <td>0.000000</td>\n",
              "      <td>1.000000</td>\n",
              "      <td>1.000000</td>\n",
              "    </tr>\n",
              "  </tbody>\n",
              "</table>\n",
              "</div>"
            ],
            "text/plain": [
              "             count          mean       std       min       25%       50%  \\\n",
              "Component 1  768.0 -6.693141e-17  1.711960 -5.587340 -1.027072  0.152931   \n",
              "Component 2  768.0 -6.071532e-17  1.318184 -2.955806 -1.007096 -0.225966   \n",
              "Component 3  768.0 -3.324887e-17  1.015629 -3.203088 -0.646496 -0.103940   \n",
              "Component 4  768.0  2.349105e-18  0.966941 -2.192185 -0.664677 -0.115829   \n",
              "Diagnóstico  768.0  3.489583e-01  0.476951  0.000000  0.000000  0.000000   \n",
              "\n",
              "                  75%       max  \n",
              "Component 1  1.095689  5.963579  \n",
              "Component 2  0.959128  3.606582  \n",
              "Component 3  0.549774  4.754503  \n",
              "Component 4  0.543242  4.125987  \n",
              "Diagnóstico  1.000000  1.000000  "
            ]
          },
          "metadata": {
            "tags": []
          },
          "execution_count": 3
        }
      ]
    },
    {
      "metadata": {
        "id": "7cLu6f5_V6-O",
        "colab_type": "code",
        "colab": {
          "base_uri": "https://localhost:8080/",
          "height": 51
        },
        "outputId": "55c801ea-13d0-46d3-b9f8-64ab759e9126"
      },
      "cell_type": "code",
      "source": [
        "features = df.drop('Diagnóstico', axis=1)\n",
        "labels = df['Diagnóstico']\n",
        "\n",
        "print(features.shape)\n",
        "print(labels.shape)"
      ],
      "execution_count": 6,
      "outputs": [
        {
          "output_type": "stream",
          "text": [
            "(768, 4)\n",
            "(768,)\n"
          ],
          "name": "stdout"
        }
      ]
    },
    {
      "metadata": {
        "id": "pq8yFXo_WNLh",
        "colab_type": "code",
        "colab": {
          "base_uri": "https://localhost:8080/",
          "height": 85
        },
        "outputId": "8a4cc4e3-4ee5-4c51-9027-1f5eebc2766b"
      },
      "cell_type": "code",
      "source": [
        "X_train, X_test, y_train, y_test = train_test_split(features, \n",
        "                                                    labels, \n",
        "                                                    test_size=0.33, \n",
        "                                                    random_state=666)\n",
        "\n",
        "print(X_train.shape)\n",
        "print(X_test.shape)\n",
        "print(y_train.shape)\n",
        "print(y_test.shape)"
      ],
      "execution_count": 15,
      "outputs": [
        {
          "output_type": "stream",
          "text": [
            "(514, 4)\n",
            "(254, 4)\n",
            "(514,)\n",
            "(254,)\n"
          ],
          "name": "stdout"
        }
      ]
    },
    {
      "metadata": {
        "id": "AR82B9CEXn-x",
        "colab_type": "code",
        "colab": {
          "base_uri": "https://localhost:8080/",
          "height": 51
        },
        "outputId": "a5233fb0-9229-44e4-be84-5fc5e1db1461"
      },
      "cell_type": "code",
      "source": [
        "inputs = tf.placeholder(tf.float32, shape=(None, X_train.shape[1]), name='inputs')\n",
        "label = tf.placeholder(tf.float32, shape=(None, 2), name='labels')\n",
        "\n",
        "print(inputs)\n",
        "print(label)"
      ],
      "execution_count": 21,
      "outputs": [
        {
          "output_type": "stream",
          "text": [
            "Tensor(\"inputs_3:0\", shape=(?, 4), dtype=float32)\n",
            "Tensor(\"labels_3:0\", shape=(?, 2), dtype=float32)\n"
          ],
          "name": "stdout"
        }
      ]
    },
    {
      "metadata": {
        "id": "-T4ycbmZZu4d",
        "colab_type": "code",
        "colab": {
          "base_uri": "https://localhost:8080/",
          "height": 88
        },
        "outputId": "ab3d4065-70e0-4a98-8f8b-3bc23faaf149"
      },
      "cell_type": "code",
      "source": [
        "layer_size = 128\n",
        "layer_size_two = 256\n",
        "# First layer\n",
        "weight_one = tf.Variable(tf.random_normal([layer_size, X_train.shape[1]],\n",
        "                                          stddev=0.01), \n",
        "                         name='weight_one')\n",
        "\n",
        "bias_one = tf.Variable(tf.constant(0.1, shape=(layer_size, 1)), \n",
        "                       name='bias_one')\n",
        "\n",
        "y_one = tf.nn.dropout(tf.nn.relu(tf.add(tf.matmul(weight_one, \n",
        "                                                  tf.transpose(inputs)), \n",
        "                                        bias_one)), \n",
        "                      keep_prob=0.5)"
      ],
      "execution_count": 24,
      "outputs": [
        {
          "output_type": "stream",
          "text": [
            "WARNING:tensorflow:From <ipython-input-24-a5f4b0df768d>:14: calling dropout (from tensorflow.python.ops.nn_ops) with keep_prob is deprecated and will be removed in a future version.\n",
            "Instructions for updating:\n",
            "Please use `rate` instead of `keep_prob`. Rate should be set to `rate = 1 - keep_prob`.\n"
          ],
          "name": "stdout"
        }
      ]
    },
    {
      "metadata": {
        "id": "nlrv4A8jc4Jm",
        "colab_type": "code",
        "colab": {}
      },
      "cell_type": "code",
      "source": [
        "# Second layer\n",
        "\n",
        "weight_two = tf.Variable(tf.random_normal([layer_size_two, layer_size], \n",
        "                                          stddev=0.01), \n",
        "                         name='weight_two')\n",
        "\n",
        "bias_two = tf.Variable(tf.constant(0.1, shape=(layer_size_two, 1)), \n",
        "                       name='bias_two')\n",
        "\n",
        "y_two = tf.nn.dropout(tf.nn.relu(tf.add(tf.matmul(weight_two, y_one), \n",
        "                                        bias_two)), \n",
        "                      keep_prob=0.5)"
      ],
      "execution_count": 0,
      "outputs": []
    },
    {
      "metadata": {
        "id": "hOziMcFseCEh",
        "colab_type": "code",
        "colab": {}
      },
      "cell_type": "code",
      "source": [
        "# Output layer\n",
        "\n",
        "weight_out = tf.Variable(tf.random_normal([2, layer_size_two], \n",
        "                                          stddev=0.01), \n",
        "                         name='weight_out')\n",
        "\n",
        "bias_out = tf.Variable(tf.random_normal([2, 1]), \n",
        "                       name='bias_out')\n",
        "\n",
        "y_out = tf.transpose(tf.add(tf.matmul(weight_out, y_two), bias_out))"
      ],
      "execution_count": 0,
      "outputs": []
    }
  ]
}