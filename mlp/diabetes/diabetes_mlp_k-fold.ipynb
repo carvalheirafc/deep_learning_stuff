{
  "nbformat": 4,
  "nbformat_minor": 0,
  "metadata": {
    "colab": {
      "name": "diabetes_mlp.ipynb",
      "version": "0.3.2",
      "provenance": [],
      "include_colab_link": true
    },
    "kernelspec": {
      "name": "python3",
      "display_name": "Python 3"
    }
  },
  "cells": [
    {
      "cell_type": "markdown",
      "metadata": {
        "id": "view-in-github",
        "colab_type": "text"
      },
      "source": [
        "<a href=\"https://colab.research.google.com/github/carvalheirafc/deep_learning_stuff/blob/master/mlp/diabetes/diabetes_mlp_k-fold.ipynb\" target=\"_parent\"><img src=\"https://colab.research.google.com/assets/colab-badge.svg\" alt=\"Open In Colab\"/></a>"
      ]
    },
    {
      "metadata": {
        "id": "CLl4fMW2dVvL",
        "colab_type": "code",
        "colab": {}
      },
      "cell_type": "code",
      "source": [
        "# Import Section\n",
        "import numpy as np\n",
        "import pandas as pd\n",
        "from sklearn.model_selection import train_test_split\n",
        "from sklearn.preprocessing import StandardScaler\n",
        "from sklearn.neural_network import MLPClassifier\n",
        "from sklearn.metrics import classification_report,confusion_matrix\n",
        "from sklearn.metrics import accuracy_score,precision_score,recall_score,f1_score\n",
        "from sklearn.model_selection import StratifiedShuffleSplit\n",
        "\n"
      ],
      "execution_count": 0,
      "outputs": []
    },
    {
      "metadata": {
        "id": "PsBTZMSZdlrY",
        "colab_type": "code",
        "outputId": "15e9b67d-8038-4e00-8265-f9274b9fb1c1",
        "colab": {
          "base_uri": "https://localhost:8080/",
          "height": 359
        }
      },
      "cell_type": "code",
      "source": [
        "data_url = 'https://raw.githubusercontent.com/carvalheirafc/deep_learning_stuff/master/mlp/diabetes/diabetes.csv'\n",
        "diabetes = pd.read_csv(data_url)\n",
        "diabetes.describe().transpose()"
      ],
      "execution_count": 3,
      "outputs": [
        {
          "output_type": "execute_result",
          "data": {
            "text/html": [
              "<div>\n",
              "<style scoped>\n",
              "    .dataframe tbody tr th:only-of-type {\n",
              "        vertical-align: middle;\n",
              "    }\n",
              "\n",
              "    .dataframe tbody tr th {\n",
              "        vertical-align: top;\n",
              "    }\n",
              "\n",
              "    .dataframe thead th {\n",
              "        text-align: right;\n",
              "    }\n",
              "</style>\n",
              "<table border=\"1\" class=\"dataframe\">\n",
              "  <thead>\n",
              "    <tr style=\"text-align: right;\">\n",
              "      <th></th>\n",
              "      <th>count</th>\n",
              "      <th>mean</th>\n",
              "      <th>std</th>\n",
              "      <th>min</th>\n",
              "      <th>25%</th>\n",
              "      <th>50%</th>\n",
              "      <th>75%</th>\n",
              "      <th>max</th>\n",
              "    </tr>\n",
              "  </thead>\n",
              "  <tbody>\n",
              "    <tr>\n",
              "      <th>A</th>\n",
              "      <td>768.0</td>\n",
              "      <td>3.845052</td>\n",
              "      <td>3.369578</td>\n",
              "      <td>0.000000</td>\n",
              "      <td>1.000000</td>\n",
              "      <td>3.000000</td>\n",
              "      <td>6.000000</td>\n",
              "      <td>17.0</td>\n",
              "    </tr>\n",
              "    <tr>\n",
              "      <th>B</th>\n",
              "      <td>768.0</td>\n",
              "      <td>70.178819</td>\n",
              "      <td>15.006546</td>\n",
              "      <td>22.666667</td>\n",
              "      <td>60.666667</td>\n",
              "      <td>69.666667</td>\n",
              "      <td>79.666667</td>\n",
              "      <td>122.0</td>\n",
              "    </tr>\n",
              "    <tr>\n",
              "      <th>C</th>\n",
              "      <td>768.0</td>\n",
              "      <td>120.894531</td>\n",
              "      <td>31.972618</td>\n",
              "      <td>0.000000</td>\n",
              "      <td>99.000000</td>\n",
              "      <td>117.000000</td>\n",
              "      <td>140.250000</td>\n",
              "      <td>199.0</td>\n",
              "    </tr>\n",
              "    <tr>\n",
              "      <th>D</th>\n",
              "      <td>768.0</td>\n",
              "      <td>69.105469</td>\n",
              "      <td>19.355807</td>\n",
              "      <td>0.000000</td>\n",
              "      <td>62.000000</td>\n",
              "      <td>72.000000</td>\n",
              "      <td>80.000000</td>\n",
              "      <td>122.0</td>\n",
              "    </tr>\n",
              "    <tr>\n",
              "      <th>E</th>\n",
              "      <td>768.0</td>\n",
              "      <td>20.536458</td>\n",
              "      <td>15.952218</td>\n",
              "      <td>0.000000</td>\n",
              "      <td>0.000000</td>\n",
              "      <td>23.000000</td>\n",
              "      <td>32.000000</td>\n",
              "      <td>99.0</td>\n",
              "    </tr>\n",
              "    <tr>\n",
              "      <th>F</th>\n",
              "      <td>768.0</td>\n",
              "      <td>79.799479</td>\n",
              "      <td>115.244002</td>\n",
              "      <td>0.000000</td>\n",
              "      <td>0.000000</td>\n",
              "      <td>30.500000</td>\n",
              "      <td>127.250000</td>\n",
              "      <td>846.0</td>\n",
              "    </tr>\n",
              "    <tr>\n",
              "      <th>G</th>\n",
              "      <td>768.0</td>\n",
              "      <td>31.992578</td>\n",
              "      <td>7.884160</td>\n",
              "      <td>0.000000</td>\n",
              "      <td>27.300000</td>\n",
              "      <td>32.000000</td>\n",
              "      <td>36.600000</td>\n",
              "      <td>67.1</td>\n",
              "    </tr>\n",
              "    <tr>\n",
              "      <th>J</th>\n",
              "      <td>768.0</td>\n",
              "      <td>0.472266</td>\n",
              "      <td>0.332348</td>\n",
              "      <td>0.100000</td>\n",
              "      <td>0.200000</td>\n",
              "      <td>0.400000</td>\n",
              "      <td>0.600000</td>\n",
              "      <td>2.4</td>\n",
              "    </tr>\n",
              "    <tr>\n",
              "      <th>M</th>\n",
              "      <td>768.0</td>\n",
              "      <td>33.240885</td>\n",
              "      <td>11.760232</td>\n",
              "      <td>21.000000</td>\n",
              "      <td>24.000000</td>\n",
              "      <td>29.000000</td>\n",
              "      <td>41.000000</td>\n",
              "      <td>81.0</td>\n",
              "    </tr>\n",
              "    <tr>\n",
              "      <th>Diagnóstico</th>\n",
              "      <td>768.0</td>\n",
              "      <td>1.348958</td>\n",
              "      <td>0.476951</td>\n",
              "      <td>1.000000</td>\n",
              "      <td>1.000000</td>\n",
              "      <td>1.000000</td>\n",
              "      <td>2.000000</td>\n",
              "      <td>2.0</td>\n",
              "    </tr>\n",
              "  </tbody>\n",
              "</table>\n",
              "</div>"
            ],
            "text/plain": [
              "             count        mean         std        min        25%         50%  \\\n",
              "A            768.0    3.845052    3.369578   0.000000   1.000000    3.000000   \n",
              "B            768.0   70.178819   15.006546  22.666667  60.666667   69.666667   \n",
              "C            768.0  120.894531   31.972618   0.000000  99.000000  117.000000   \n",
              "D            768.0   69.105469   19.355807   0.000000  62.000000   72.000000   \n",
              "E            768.0   20.536458   15.952218   0.000000   0.000000   23.000000   \n",
              "F            768.0   79.799479  115.244002   0.000000   0.000000   30.500000   \n",
              "G            768.0   31.992578    7.884160   0.000000  27.300000   32.000000   \n",
              "J            768.0    0.472266    0.332348   0.100000   0.200000    0.400000   \n",
              "M            768.0   33.240885   11.760232  21.000000  24.000000   29.000000   \n",
              "Diagnóstico  768.0    1.348958    0.476951   1.000000   1.000000    1.000000   \n",
              "\n",
              "                    75%    max  \n",
              "A              6.000000   17.0  \n",
              "B             79.666667  122.0  \n",
              "C            140.250000  199.0  \n",
              "D             80.000000  122.0  \n",
              "E             32.000000   99.0  \n",
              "F            127.250000  846.0  \n",
              "G             36.600000   67.1  \n",
              "J              0.600000    2.4  \n",
              "M             41.000000   81.0  \n",
              "Diagnóstico    2.000000    2.0  "
            ]
          },
          "metadata": {
            "tags": []
          },
          "execution_count": 3
        }
      ]
    },
    {
      "metadata": {
        "id": "YmeO5nvmmV5s",
        "colab_type": "code",
        "outputId": "795cd64b-04ef-405b-a1ab-166e5220adc8",
        "colab": {
          "base_uri": "https://localhost:8080/",
          "height": 34
        }
      },
      "cell_type": "code",
      "source": [
        "diabetes.shape"
      ],
      "execution_count": 4,
      "outputs": [
        {
          "output_type": "execute_result",
          "data": {
            "text/plain": [
              "(768, 10)"
            ]
          },
          "metadata": {
            "tags": []
          },
          "execution_count": 4
        }
      ]
    },
    {
      "metadata": {
        "id": "keuUUUO5gqHe",
        "colab_type": "code",
        "colab": {}
      },
      "cell_type": "code",
      "source": [
        "import warnings\n",
        "warnings.filterwarnings(\"ignore\")\n",
        "\n",
        "def split_data(clf,features,labels, folds = 150): \n",
        "    \n",
        "    accuracy_scores = []\n",
        "    precision_scores = []\n",
        "    recall_scores = []\n",
        "    f1_scores = []\n",
        "\n",
        "    sss = StratifiedShuffleSplit(n_splits=folds,random_state=42, test_size=0.3)\n",
        "    \n",
        "    print(\"Making predictions... \\n\")\n",
        "    for train_idx, test_idx in sss.split(features, labels):\n",
        "        X_train = []\n",
        "        X_test  = []\n",
        "        y_train = []\n",
        "        y_test  = []\n",
        "\n",
        "        for ii in train_idx:\n",
        "            X_train.append( features.loc[ii] )\n",
        "            y_train.append( labels.loc[ii] )\n",
        "        for jj in test_idx:\n",
        "            X_test.append( features.loc[jj] )\n",
        "            y_test.append( labels.loc[jj] )\n",
        "        \n",
        "        try:\n",
        "            clf.fit(X_train, y_train)\n",
        "            y_pred = clf.predict(X_test)\n",
        "\n",
        "            accuracy_scores.append(accuracy_score(y_test, y_pred))\n",
        "            precision_scores.append(precision_score(y_test, y_pred))\n",
        "            recall_scores.append(recall_score(y_test, y_pred))\n",
        "            f1_scores.append(f1_score(y_test, y_pred))\n",
        "        except e:\n",
        "            print(e)\n",
        "            \n",
        "    print('Accuracy', np.round( np.mean(accuracy_scores) ,3) )\n",
        "    print('Precision', np.round( np.mean(precision_scores) ,3) )\n",
        "    print('Recall', np.round( np.mean(recall_scores), 3) )\n",
        "    print('F1-measure', np.round( np.mean(f1_scores), 3) )"
      ],
      "execution_count": 0,
      "outputs": []
    },
    {
      "metadata": {
        "id": "0Rq2pP15down",
        "colab_type": "code",
        "colab": {}
      },
      "cell_type": "code",
      "source": [
        "X = diabetes.drop('Diagnóstico', axis=1)\n",
        "Y = diabetes['Diagnóstico']"
      ],
      "execution_count": 0,
      "outputs": []
    },
    {
      "metadata": {
        "id": "S_lIMaY3hl4f",
        "colab_type": "code",
        "colab": {}
      },
      "cell_type": "code",
      "source": [
        "mlp = MLPClassifier(solver='sgd',\n",
        "                    hidden_layer_sizes=(9,),\n",
        "                    random_state=1,\n",
        "                    max_iter=500)"
      ],
      "execution_count": 0,
      "outputs": []
    },
    {
      "metadata": {
        "id": "gYV8N1smhyd6",
        "colab_type": "code",
        "colab": {
          "base_uri": "https://localhost:8080/",
          "height": 119
        },
        "outputId": "0b68c248-5dcb-4605-fa45-6104112cab6e"
      },
      "cell_type": "code",
      "source": [
        "split_data(mlp, X, Y)"
      ],
      "execution_count": 13,
      "outputs": [
        {
          "output_type": "stream",
          "text": [
            "Making predictions... \n",
            "\n",
            "Accuracy 0.663\n",
            "Precision 0.706\n",
            "Recall 0.835\n",
            "F1-measure 0.761\n"
          ],
          "name": "stdout"
        }
      ]
    }
  ]
}