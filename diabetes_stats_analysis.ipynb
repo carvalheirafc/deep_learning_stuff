{
  "nbformat": 4,
  "nbformat_minor": 0,
  "metadata": {
    "colab": {
      "name": "diabetes_stats_analysis.ipynb",
      "version": "0.3.2",
      "provenance": [],
      "include_colab_link": true
    },
    "kernelspec": {
      "name": "python3",
      "display_name": "Python 3"
    }
  },
  "cells": [
    {
      "cell_type": "markdown",
      "metadata": {
        "id": "view-in-github",
        "colab_type": "text"
      },
      "source": [
        "<a href=\"https://colab.research.google.com/github/carvalheirafc/deep_learning_stuff/blob/master/diabetes_stats_analysis.ipynb\" target=\"_parent\"><img src=\"https://colab.research.google.com/assets/colab-badge.svg\" alt=\"Open In Colab\"/></a>"
      ]
    },
    {
      "metadata": {
        "id": "LIV_uW8hNgF3",
        "colab_type": "code",
        "colab": {}
      },
      "cell_type": "code",
      "source": [
        "import pandas as pd\n",
        "import seaborn as sns\n",
        "import matplotlib.pyplot as plt\n",
        "\n",
        "from scipy import stats"
      ],
      "execution_count": 0,
      "outputs": []
    },
    {
      "metadata": {
        "id": "eEwEbttRNo3_",
        "colab_type": "code",
        "colab": {
          "base_uri": "https://localhost:8080/",
          "height": 391
        },
        "outputId": "add9978f-f1b3-4a68-aeca-7eb7bc8127aa"
      },
      "cell_type": "code",
      "source": [
        "diabetes = pd.read_excel('diabetes_Ex1.xlsx')\n",
        "\n",
        "diabetes = diabetes.drop(['Unnamed: 16'], axis=1)\n",
        "diabetes = diabetes[:-8]\n",
        "diabetes['C'] = pd.to_numeric(diabetes['C']) \n",
        "diabetes.info()"
      ],
      "execution_count": 4,
      "outputs": [
        {
          "output_type": "stream",
          "text": [
            "<class 'pandas.core.frame.DataFrame'>\n",
            "RangeIndex: 768 entries, 0 to 767\n",
            "Data columns (total 17 columns):\n",
            "A              768 non-null float64\n",
            "B              768 non-null float64\n",
            "C              768 non-null int64\n",
            "D              768 non-null float64\n",
            "E              768 non-null float64\n",
            "F              768 non-null float64\n",
            "G              768 non-null float64\n",
            "H              768 non-null float64\n",
            "I              768 non-null float64\n",
            "J              768 non-null float64\n",
            "K              768 non-null float64\n",
            "L              768 non-null float64\n",
            "M              768 non-null float64\n",
            "N              768 non-null float64\n",
            "O              768 non-null float64\n",
            "P              768 non-null float64\n",
            "Diagnóstico    768 non-null float64\n",
            "dtypes: float64(16), int64(1)\n",
            "memory usage: 102.1 KB\n"
          ],
          "name": "stdout"
        }
      ]
    },
    {
      "metadata": {
        "id": "cbPbKcVXOGtE",
        "colab_type": "code",
        "colab": {
          "base_uri": "https://localhost:8080/",
          "height": 224
        },
        "outputId": "b80087f3-05b5-4e4f-fed7-fdab8ef1da63"
      },
      "cell_type": "code",
      "source": [
        "# Maybe remove outliers before do this...\n",
        "X_norm =  stats.zscore(diabetes)\n",
        "diabetes_norm = pd.DataFrame(data=X_norm, columns=diabetes.columns)\n",
        "diabetes_norm.head()"
      ],
      "execution_count": 31,
      "outputs": [
        {
          "output_type": "execute_result",
          "data": {
            "text/html": [
              "<div>\n",
              "<style scoped>\n",
              "    .dataframe tbody tr th:only-of-type {\n",
              "        vertical-align: middle;\n",
              "    }\n",
              "\n",
              "    .dataframe tbody tr th {\n",
              "        vertical-align: top;\n",
              "    }\n",
              "\n",
              "    .dataframe thead th {\n",
              "        text-align: right;\n",
              "    }\n",
              "</style>\n",
              "<table border=\"1\" class=\"dataframe\">\n",
              "  <thead>\n",
              "    <tr style=\"text-align: right;\">\n",
              "      <th></th>\n",
              "      <th>A</th>\n",
              "      <th>B</th>\n",
              "      <th>C</th>\n",
              "      <th>D</th>\n",
              "      <th>E</th>\n",
              "      <th>F</th>\n",
              "      <th>G</th>\n",
              "      <th>H</th>\n",
              "      <th>I</th>\n",
              "      <th>J</th>\n",
              "      <th>K</th>\n",
              "      <th>L</th>\n",
              "      <th>M</th>\n",
              "      <th>N</th>\n",
              "      <th>O</th>\n",
              "      <th>P</th>\n",
              "      <th>Diagnóstico</th>\n",
              "    </tr>\n",
              "  </thead>\n",
              "  <tbody>\n",
              "    <tr>\n",
              "      <th>0</th>\n",
              "      <td>0.639947</td>\n",
              "      <td>0.988291</td>\n",
              "      <td>0.848324</td>\n",
              "      <td>0.149641</td>\n",
              "      <td>0.907270</td>\n",
              "      <td>-0.692891</td>\n",
              "      <td>0.204013</td>\n",
              "      <td>-0.935811</td>\n",
              "      <td>-0.713073</td>\n",
              "      <td>0.384589</td>\n",
              "      <td>0.706414</td>\n",
              "      <td>0.706414</td>\n",
              "      <td>1.425995</td>\n",
              "      <td>-0.872551</td>\n",
              "      <td>-1.648132</td>\n",
              "      <td>-1.024990</td>\n",
              "      <td>1.365896</td>\n",
              "    </tr>\n",
              "    <tr>\n",
              "      <th>1</th>\n",
              "      <td>-0.844885</td>\n",
              "      <td>-0.678734</td>\n",
              "      <td>-1.123396</td>\n",
              "      <td>-0.160546</td>\n",
              "      <td>0.530902</td>\n",
              "      <td>-0.692891</td>\n",
              "      <td>-0.684422</td>\n",
              "      <td>-1.239490</td>\n",
              "      <td>-0.824449</td>\n",
              "      <td>-0.217581</td>\n",
              "      <td>-0.876149</td>\n",
              "      <td>-0.876149</td>\n",
              "      <td>-0.190672</td>\n",
              "      <td>-1.309843</td>\n",
              "      <td>1.060353</td>\n",
              "      <td>0.405006</td>\n",
              "      <td>-0.732120</td>\n",
              "    </tr>\n",
              "    <tr>\n",
              "      <th>2</th>\n",
              "      <td>1.233880</td>\n",
              "      <td>0.810475</td>\n",
              "      <td>1.943724</td>\n",
              "      <td>-0.263941</td>\n",
              "      <td>-1.288212</td>\n",
              "      <td>-0.692891</td>\n",
              "      <td>-1.103255</td>\n",
              "      <td>-1.409734</td>\n",
              "      <td>-1.269957</td>\n",
              "      <td>0.685675</td>\n",
              "      <td>1.351162</td>\n",
              "      <td>1.351162</td>\n",
              "      <td>-0.105584</td>\n",
              "      <td>-1.281982</td>\n",
              "      <td>1.737474</td>\n",
              "      <td>-0.085659</td>\n",
              "      <td>1.365896</td>\n",
              "    </tr>\n",
              "    <tr>\n",
              "      <th>3</th>\n",
              "      <td>-0.844885</td>\n",
              "      <td>-0.723188</td>\n",
              "      <td>-0.998208</td>\n",
              "      <td>-0.160546</td>\n",
              "      <td>0.154533</td>\n",
              "      <td>0.123302</td>\n",
              "      <td>-0.494043</td>\n",
              "      <td>1.521230</td>\n",
              "      <td>1.403087</td>\n",
              "      <td>-0.819752</td>\n",
              "      <td>-0.993376</td>\n",
              "      <td>-0.993376</td>\n",
              "      <td>-1.041549</td>\n",
              "      <td>1.448520</td>\n",
              "      <td>-0.068182</td>\n",
              "      <td>-0.997333</td>\n",
              "      <td>-0.732120</td>\n",
              "    </tr>\n",
              "    <tr>\n",
              "      <th>4</th>\n",
              "      <td>-1.141852</td>\n",
              "      <td>0.032530</td>\n",
              "      <td>0.504055</td>\n",
              "      <td>-1.504687</td>\n",
              "      <td>0.907270</td>\n",
              "      <td>0.765836</td>\n",
              "      <td>1.409746</td>\n",
              "      <td>1.843314</td>\n",
              "      <td>1.662966</td>\n",
              "      <td>5.503039</td>\n",
              "      <td>-0.055561</td>\n",
              "      <td>-0.055561</td>\n",
              "      <td>-0.020496</td>\n",
              "      <td>1.873203</td>\n",
              "      <td>-1.460043</td>\n",
              "      <td>-0.990674</td>\n",
              "      <td>1.365896</td>\n",
              "    </tr>\n",
              "  </tbody>\n",
              "</table>\n",
              "</div>"
            ],
            "text/plain": [
              "          A         B         C         D         E         F         G  \\\n",
              "0  0.639947  0.988291  0.848324  0.149641  0.907270 -0.692891  0.204013   \n",
              "1 -0.844885 -0.678734 -1.123396 -0.160546  0.530902 -0.692891 -0.684422   \n",
              "2  1.233880  0.810475  1.943724 -0.263941 -1.288212 -0.692891 -1.103255   \n",
              "3 -0.844885 -0.723188 -0.998208 -0.160546  0.154533  0.123302 -0.494043   \n",
              "4 -1.141852  0.032530  0.504055 -1.504687  0.907270  0.765836  1.409746   \n",
              "\n",
              "          H         I         J         K         L         M         N  \\\n",
              "0 -0.935811 -0.713073  0.384589  0.706414  0.706414  1.425995 -0.872551   \n",
              "1 -1.239490 -0.824449 -0.217581 -0.876149 -0.876149 -0.190672 -1.309843   \n",
              "2 -1.409734 -1.269957  0.685675  1.351162  1.351162 -0.105584 -1.281982   \n",
              "3  1.521230  1.403087 -0.819752 -0.993376 -0.993376 -1.041549  1.448520   \n",
              "4  1.843314  1.662966  5.503039 -0.055561 -0.055561 -0.020496  1.873203   \n",
              "\n",
              "          O         P  Diagnóstico  \n",
              "0 -1.648132 -1.024990     1.365896  \n",
              "1  1.060353  0.405006    -0.732120  \n",
              "2  1.737474 -0.085659     1.365896  \n",
              "3 -0.068182 -0.997333    -0.732120  \n",
              "4 -1.460043 -0.990674     1.365896  "
            ]
          },
          "metadata": {
            "tags": []
          },
          "execution_count": 31
        }
      ]
    },
    {
      "metadata": {
        "id": "1WGSI4UaPKuv",
        "colab_type": "code",
        "colab": {}
      },
      "cell_type": "code",
      "source": [
        ""
      ],
      "execution_count": 0,
      "outputs": []
    }
  ]
}