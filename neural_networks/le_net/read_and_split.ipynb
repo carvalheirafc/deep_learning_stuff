{
 "cells": [
  {
   "cell_type": "code",
   "execution_count": 1,
   "metadata": {},
   "outputs": [
    {
     "name": "stderr",
     "output_type": "stream",
     "text": [
      "Using TensorFlow backend.\n"
     ]
    }
   ],
   "source": [
    "from sklearn.model_selection import train_test_split\n",
    "from keras.preprocessing.image import img_to_array\n",
    "from keras.utils import np_utils\n",
    "from imutils import paths\n",
    "import cv2\n",
    "import numpy as np\n",
    "import os"
   ]
  },
  {
   "cell_type": "code",
   "execution_count": 2,
   "metadata": {},
   "outputs": [
    {
     "name": "stdout",
     "output_type": "stream",
     "text": [
      "Loading Files into arrays...\n",
      "Loading Class [0]\n",
      "Loading Files into arrays...\n",
      "Loading Class [1]\n",
      "Loading Files into arrays...\n",
      "Loading Class [10]\n",
      "Loading Files into arrays...\n",
      "Loading Class [11]\n",
      "Loading Files into arrays...\n",
      "Loading Class [12]\n",
      "Loading Files into arrays...\n",
      "Loading Class [13]\n",
      "Loading Files into arrays...\n",
      "Loading Class [14]\n",
      "Loading Files into arrays...\n",
      "Loading Class [15]\n",
      "Loading Files into arrays...\n",
      "Loading Class [16]\n",
      "Loading Files into arrays...\n",
      "Loading Class [17]\n",
      "Loading Files into arrays...\n",
      "Loading Class [18]\n",
      "Loading Files into arrays...\n",
      "Loading Class [19]\n",
      "Loading Files into arrays...\n",
      "Loading Class [2]\n",
      "Loading Files into arrays...\n",
      "Loading Class [20]\n",
      "Loading Files into arrays...\n",
      "Loading Class [21]\n",
      "Loading Files into arrays...\n",
      "Loading Class [22]\n",
      "Loading Files into arrays...\n",
      "Loading Class [23]\n",
      "Loading Files into arrays...\n",
      "Loading Class [24]\n",
      "Loading Files into arrays...\n",
      "Loading Class [25]\n",
      "Loading Files into arrays...\n",
      "Loading Class [3]\n",
      "Loading Files into arrays...\n",
      "Loading Class [4]\n",
      "Loading Files into arrays...\n",
      "Loading Class [5]\n",
      "Loading Files into arrays...\n",
      "Loading Class [6]\n",
      "Loading Files into arrays...\n",
      "Loading Class [7]\n",
      "Loading Files into arrays...\n",
      "Loading Class [8]\n",
      "Loading Files into arrays...\n",
      "Loading Class [9]\n",
      "All Files are Loaded Successfully...\n"
     ]
    }
   ],
   "source": [
    "root_path = 'Letras/'\n",
    "\n",
    "data = []\n",
    "labels = []\n",
    "all_images_paths = list(paths.list_images(root_path))\n",
    "current = -1\n",
    "\n",
    "\n",
    "try:\n",
    "    for image_path in all_images_paths:\n",
    "    \n",
    "    \n",
    "        image = cv2.imread(image_path)\n",
    "        image = cv2.cvtColor(image, cv2.COLOR_BGR2GRAY)\n",
    "        image = img_to_array(image)\n",
    "        data.append(image)\n",
    "    \n",
    "        label = image_path.split(os.path.sep)[-2][7:]\n",
    "        label = int(label)\n",
    "        labels.append(label)\n",
    "        \n",
    "        if current != label:\n",
    "            print('Loading Files into arrays...')\n",
    "            print('Loading Class [{}]'.format(label))\n",
    "            current = label\n",
    "        \n",
    "        current = label\n",
    "    print('All Files are Loaded Successfully...')\n",
    "\n",
    "except IOError:\n",
    "    print('Something went Wrong loading the files')"
   ]
  },
  {
   "cell_type": "code",
   "execution_count": 3,
   "metadata": {},
   "outputs": [],
   "source": [
    "data = np.array(data, dtype=\"float\") / 255.0\n",
    "labels = np.array(labels)\n",
    "x_train, x_test, y_train, y_test = train_test_split(data, labels, test_size=0.3)\n",
    "\n",
    "y_train_categorical = np_utils.to_categorical(y_train, 26)\n",
    "y_test_categorical = np_utils.to_categorical(y_test, 26)"
   ]
  },
  {
   "cell_type": "code",
   "execution_count": 4,
   "metadata": {},
   "outputs": [],
   "source": [
    "try:\n",
    "    np.save('x_train', x_train)\n",
    "    np.save('x_test', x_test)\n",
    "    np.save('y_train', y_train_categorical)\n",
    "    np.save('y_test', y_test_categorical)\n",
    "except IOError:\n",
    "    print('Error while saving the files')"
   ]
  }
 ],
 "metadata": {
  "kernelspec": {
   "display_name": "Python 3",
   "language": "python",
   "name": "python3"
  },
  "language_info": {
   "codemirror_mode": {
    "name": "ipython",
    "version": 3
   },
   "file_extension": ".py",
   "mimetype": "text/x-python",
   "name": "python",
   "nbconvert_exporter": "python",
   "pygments_lexer": "ipython3",
   "version": "3.6.8"
  }
 },
 "nbformat": 4,
 "nbformat_minor": 2
}
