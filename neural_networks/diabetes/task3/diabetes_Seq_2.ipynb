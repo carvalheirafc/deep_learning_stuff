{
  "nbformat": 4,
  "nbformat_minor": 0,
  "metadata": {
    "colab": {
      "name": "diabetes_Seq_2.ipynb",
      "version": "0.3.2",
      "provenance": [],
      "include_colab_link": true
    },
    "kernelspec": {
      "name": "python3",
      "display_name": "Python 3"
    },
    "accelerator": "GPU"
  },
  "cells": [
    {
      "cell_type": "markdown",
      "metadata": {
        "id": "view-in-github",
        "colab_type": "text"
      },
      "source": [
        "<a href=\"https://colab.research.google.com/github/carvalheirafc/deep_learning_stuff/blob/master/neural_networks/diabetes/task3/diabetes_Seq_2.ipynb\" target=\"_parent\"><img src=\"https://colab.research.google.com/assets/colab-badge.svg\" alt=\"Open In Colab\"/></a>"
      ]
    },
    {
      "metadata": {
        "id": "iQSMYN1mThVy",
        "colab_type": "code",
        "colab": {}
      },
      "cell_type": "code",
      "source": [
        "import numpy \n",
        "import pandas as pd\n",
        "import tensorflow as tf\n",
        "from sklearn.model_selection import StratifiedKFold\n",
        "import matplotlib.pyplot as plt\n",
        "import seaborn as sns\n",
        "from sklearn import metrics\n"
      ],
      "execution_count": 0,
      "outputs": []
    },
    {
      "metadata": {
        "id": "_eaP3mk-Slva",
        "colab_type": "code",
        "outputId": "8c8cc0dc-a291-46be-eeac-a7239c047c6d",
        "colab": {
          "base_uri": "https://localhost:8080/",
          "height": 238
        }
      },
      "cell_type": "code",
      "source": [
        "file_path = 'https://raw.githubusercontent.com/carvalheirafc/deep_learning_stuff/master/neural_networks/diabetes/diabetes_pca_result.csv'\n",
        "df = pd.read_csv(file_path)\n",
        "features = df.drop('Diagnóstico', axis = 1)\n",
        "target = df['Diagnóstico']\n",
        "\n",
        "\n",
        "print('Data Shape:', features.shape)\n",
        "print('Labels/Target:', target.shape)\n",
        "df.describe().transpose()"
      ],
      "execution_count": 0,
      "outputs": [
        {
          "output_type": "stream",
          "text": [
            "Data Shape: (768, 4)\n",
            "Labels/Target: (768,)\n"
          ],
          "name": "stdout"
        },
        {
          "output_type": "execute_result",
          "data": {
            "text/html": [
              "<div>\n",
              "<style scoped>\n",
              "    .dataframe tbody tr th:only-of-type {\n",
              "        vertical-align: middle;\n",
              "    }\n",
              "\n",
              "    .dataframe tbody tr th {\n",
              "        vertical-align: top;\n",
              "    }\n",
              "\n",
              "    .dataframe thead th {\n",
              "        text-align: right;\n",
              "    }\n",
              "</style>\n",
              "<table border=\"1\" class=\"dataframe\">\n",
              "  <thead>\n",
              "    <tr style=\"text-align: right;\">\n",
              "      <th></th>\n",
              "      <th>count</th>\n",
              "      <th>mean</th>\n",
              "      <th>std</th>\n",
              "      <th>min</th>\n",
              "      <th>25%</th>\n",
              "      <th>50%</th>\n",
              "      <th>75%</th>\n",
              "      <th>max</th>\n",
              "    </tr>\n",
              "  </thead>\n",
              "  <tbody>\n",
              "    <tr>\n",
              "      <th>Component 1</th>\n",
              "      <td>768.0</td>\n",
              "      <td>-6.693141e-17</td>\n",
              "      <td>1.711960</td>\n",
              "      <td>-5.587340</td>\n",
              "      <td>-1.027072</td>\n",
              "      <td>0.152931</td>\n",
              "      <td>1.095689</td>\n",
              "      <td>5.963579</td>\n",
              "    </tr>\n",
              "    <tr>\n",
              "      <th>Component 2</th>\n",
              "      <td>768.0</td>\n",
              "      <td>-6.071532e-17</td>\n",
              "      <td>1.318184</td>\n",
              "      <td>-2.955806</td>\n",
              "      <td>-1.007096</td>\n",
              "      <td>-0.225966</td>\n",
              "      <td>0.959128</td>\n",
              "      <td>3.606582</td>\n",
              "    </tr>\n",
              "    <tr>\n",
              "      <th>Component 3</th>\n",
              "      <td>768.0</td>\n",
              "      <td>-3.324887e-17</td>\n",
              "      <td>1.015629</td>\n",
              "      <td>-3.203088</td>\n",
              "      <td>-0.646496</td>\n",
              "      <td>-0.103940</td>\n",
              "      <td>0.549774</td>\n",
              "      <td>4.754503</td>\n",
              "    </tr>\n",
              "    <tr>\n",
              "      <th>Component 4</th>\n",
              "      <td>768.0</td>\n",
              "      <td>2.349105e-18</td>\n",
              "      <td>0.966941</td>\n",
              "      <td>-2.192185</td>\n",
              "      <td>-0.664677</td>\n",
              "      <td>-0.115829</td>\n",
              "      <td>0.543242</td>\n",
              "      <td>4.125987</td>\n",
              "    </tr>\n",
              "    <tr>\n",
              "      <th>Diagnóstico</th>\n",
              "      <td>768.0</td>\n",
              "      <td>3.489583e-01</td>\n",
              "      <td>0.476951</td>\n",
              "      <td>0.000000</td>\n",
              "      <td>0.000000</td>\n",
              "      <td>0.000000</td>\n",
              "      <td>1.000000</td>\n",
              "      <td>1.000000</td>\n",
              "    </tr>\n",
              "  </tbody>\n",
              "</table>\n",
              "</div>"
            ],
            "text/plain": [
              "             count          mean       std       min       25%       50%  \\\n",
              "Component 1  768.0 -6.693141e-17  1.711960 -5.587340 -1.027072  0.152931   \n",
              "Component 2  768.0 -6.071532e-17  1.318184 -2.955806 -1.007096 -0.225966   \n",
              "Component 3  768.0 -3.324887e-17  1.015629 -3.203088 -0.646496 -0.103940   \n",
              "Component 4  768.0  2.349105e-18  0.966941 -2.192185 -0.664677 -0.115829   \n",
              "Diagnóstico  768.0  3.489583e-01  0.476951  0.000000  0.000000  0.000000   \n",
              "\n",
              "                  75%       max  \n",
              "Component 1  1.095689  5.963579  \n",
              "Component 2  0.959128  3.606582  \n",
              "Component 3  0.549774  4.754503  \n",
              "Component 4  0.543242  4.125987  \n",
              "Diagnóstico  1.000000  1.000000  "
            ]
          },
          "metadata": {
            "tags": []
          },
          "execution_count": 2
        }
      ]
    },
    {
      "metadata": {
        "id": "f27tJoBZZEQ0",
        "colab_type": "code",
        "colab": {}
      },
      "cell_type": "code",
      "source": [
        "def get_train_test(X, y, n_splts=10):\n",
        "  k_fold = StratifiedKFold(n_splits=n_splts, shuffle=True)\n",
        "\n",
        "  X_train = []\n",
        "  X_test = []\n",
        "  y_train = []\n",
        "  y_test = []\n",
        "  \n",
        "  for train_indices, test_indices in k_fold.split(X, y):\n",
        "    X_train.append( X[train_indices] )\n",
        "    y_train.append( y[train_indices] )\n",
        "    X_test.append( X[test_indices] )\n",
        "    y_test.append( y[test_indices] )\n",
        "      \n",
        "\n",
        "  return np.array(X_train), np.array(X_test), np.array(y_train), np.array(y_test) "
      ],
      "execution_count": 0,
      "outputs": []
    },
    {
      "metadata": {
        "id": "B47l7xndVHSF",
        "colab_type": "code",
        "colab": {}
      },
      "cell_type": "code",
      "source": [
        "x = tf.placeholder(dtype=tf.float32, shape=(None, 1))\n",
        "y_true = tf.placeholder(dtype=tf.float32, shape=(None, 1))"
      ],
      "execution_count": 0,
      "outputs": []
    },
    {
      "metadata": {
        "id": "8IN80keFUSRh",
        "colab_type": "code",
        "colab": {}
      },
      "cell_type": "code",
      "source": [
        "def model():\n",
        "  network = tf.keras.Sequential()\n",
        "\n",
        "    \n",
        "  network.add(tf.layers.Dense(units=32, activation='relu', input_shape=(features.shape[1],),\n",
        "                              kernel_initializer='random_uniform', bias_initializer='ones'))\n",
        "\n",
        "    \n",
        "  network.add(tf.layers.Dense(units=32, activation='relu'))\n",
        "  network.add(tf.layers.Dense(units=1, activation='sigmoid'))\n",
        "  return network"
      ],
      "execution_count": 0,
      "outputs": []
    },
    {
      "metadata": {
        "id": "2HRnpuglfSZF",
        "colab_type": "code",
        "colab": {}
      },
      "cell_type": "code",
      "source": [
        "def train_predict(optimizer, seed, X, y):\n",
        "  with tf.device('/gpu:0'):\n",
        "    #class_prediction, y_test = [], []\n",
        "    network = model()\n",
        "    k_fold = StratifiedKFold(n_splits=25, shuffle=True, random_state=seed)\n",
        "    cvscores = []\n",
        "    prediction_acc = []\n",
        "  \n",
        "    network.compile(loss='mse', optimizer=optimizer, metrics=['accuracy', 'mse'])\n",
        "    X_train = []\n",
        "    for train, test in k_fold.split(X, y):\n",
        "      X_train.append(X[train])\n",
        "      history = network.fit(X[train], y[train], epochs=50, batch_size=10, verbose=0)\n",
        "      \n",
        "      scores = network.evaluate(X[test], y[test], verbose=1)\n",
        "      \n",
        "      class_prediction = network.predict_classes(X[test])\n",
        "      y_test = y[test]\n",
        "      cvscores.append(scores[1] * 100)\n",
        "      \n",
        "      print(scores)\n",
        "    \n",
        "  print(\"%.2f%% (+/- %.2f%%)\" % (numpy.mean(cvscores), numpy.std(cvscores)))\n",
        "  return history, class_prediction, y_test"
      ],
      "execution_count": 0,
      "outputs": []
    },
    {
      "metadata": {
        "id": "jNTyArRylCHJ",
        "colab_type": "code",
        "colab": {}
      },
      "cell_type": "code",
      "source": [
        "config = tf.ConfigProto()\n",
        "config.gpu_options.allow_growth = True\n",
        "\n",
        "sess = tf.Session(config=config)\n",
        "try:\n",
        "  sess.run(tf.global_variables_initializer())\n",
        "except tf.errors.InvalidArgumentError:\n",
        "  print(\n",
        "      '\\n\\nThis error most likely means that this notebook is not '\n",
        "      'configured to use a GPU.  Change this in Notebook Settings via the '\n",
        "      'command palette (cmd/ctrl-shift-P) or the Edit menu.\\n\\n')\n",
        "  raise\n",
        "\n",
        "def gpu(X, y, seed, optmizer):\n",
        "  history_, pred_class, class_  = train_predict(optmizer, seed, X, y)\n",
        "  \n",
        "  return history_, pred_class, class_"
      ],
      "execution_count": 0,
      "outputs": []
    },
    {
      "metadata": {
        "id": "JioOoDEeWLWr",
        "colab_type": "code",
        "outputId": "b261756d-6471-4701-883b-6a838b8ff059",
        "colab": {
          "base_uri": "https://localhost:8080/",
          "height": 1037
        }
      },
      "cell_type": "code",
      "source": [
        "X = features.values\n",
        "y = target.values\n",
        "seed = 666\n",
        "numpy.random.seed(seed)\n",
        "\n",
        "adam_custom = tf.keras.optimizers.Adam(lr=0.01, beta_1=0.9, beta_2=0.999, epsilon=1e-8,amsgrad=True)\n",
        "history, pred_class, class_o = gpu(X, y, seed, adam_custom)"
      ],
      "execution_count": 0,
      "outputs": [
        {
          "output_type": "stream",
          "text": [
            "WARNING:tensorflow:From /usr/local/lib/python3.6/dist-packages/tensorflow/python/ops/resource_variable_ops.py:435: colocate_with (from tensorflow.python.framework.ops) is deprecated and will be removed in a future version.\n",
            "Instructions for updating:\n",
            "Colocations handled automatically by placer.\n",
            "WARNING:tensorflow:From /usr/local/lib/python3.6/dist-packages/tensorflow/python/keras/utils/losses_utils.py:170: to_float (from tensorflow.python.ops.math_ops) is deprecated and will be removed in a future version.\n",
            "Instructions for updating:\n",
            "Use tf.cast instead.\n",
            "WARNING:tensorflow:From /usr/local/lib/python3.6/dist-packages/tensorflow/python/ops/math_ops.py:3066: to_int32 (from tensorflow.python.ops.math_ops) is deprecated and will be removed in a future version.\n",
            "Instructions for updating:\n",
            "Use tf.cast instead.\n",
            "31/31 [==============================] - 0s 1ms/sample - loss: 0.1751 - acc: 0.7419 - mean_squared_error: 0.1751\n",
            "[0.17505699396133423, 0.7419355, 0.175057]\n",
            "31/31 [==============================] - 0s 45us/sample - loss: 0.1989 - acc: 0.7419 - mean_squared_error: 0.1989\n",
            "[0.19891226291656494, 0.7419355, 0.19891226]\n",
            "31/31 [==============================] - 0s 44us/sample - loss: 0.2305 - acc: 0.6129 - mean_squared_error: 0.2305\n",
            "[0.23051343858242035, 0.61290324, 0.23051344]\n",
            "31/31 [==============================] - 0s 45us/sample - loss: 0.1665 - acc: 0.7419 - mean_squared_error: 0.1665\n",
            "[0.16645638644695282, 0.7419355, 0.16645639]\n",
            "31/31 [==============================] - 0s 44us/sample - loss: 0.2106 - acc: 0.7419 - mean_squared_error: 0.2106\n",
            "[0.21059633791446686, 0.7419355, 0.21059634]\n",
            "31/31 [==============================] - 0s 47us/sample - loss: 0.1367 - acc: 0.7742 - mean_squared_error: 0.1367\n",
            "[0.13665588200092316, 0.7741935, 0.13665588]\n",
            "31/31 [==============================] - 0s 46us/sample - loss: 0.1336 - acc: 0.8065 - mean_squared_error: 0.1336\n",
            "[0.1336468756198883, 0.8064516, 0.13364688]\n",
            "31/31 [==============================] - 0s 45us/sample - loss: 0.1724 - acc: 0.7097 - mean_squared_error: 0.1724\n",
            "[0.1724431961774826, 0.7096774, 0.1724432]\n",
            "31/31 [==============================] - 0s 50us/sample - loss: 0.1905 - acc: 0.7419 - mean_squared_error: 0.1905\n",
            "[0.19054359197616577, 0.7419355, 0.19054359]\n",
            "31/31 [==============================] - 0s 47us/sample - loss: 0.0268 - acc: 0.9677 - mean_squared_error: 0.0268\n",
            "[0.026792248710989952, 0.9677419, 0.026792249]\n",
            "31/31 [==============================] - 0s 47us/sample - loss: 0.0724 - acc: 0.9355 - mean_squared_error: 0.0724\n",
            "[0.0723581314086914, 0.9354839, 0.07235813]\n",
            "31/31 [==============================] - 0s 44us/sample - loss: 0.1131 - acc: 0.7742 - mean_squared_error: 0.1131\n",
            "[0.11311917006969452, 0.7741935, 0.11311917]\n",
            "31/31 [==============================] - 0s 49us/sample - loss: 0.1013 - acc: 0.8387 - mean_squared_error: 0.1013\n",
            "[0.10131727159023285, 0.83870965, 0.10131727]\n",
            "31/31 [==============================] - 0s 40us/sample - loss: 0.0683 - acc: 0.9032 - mean_squared_error: 0.0683\n",
            "[0.06827929615974426, 0.9032258, 0.068279296]\n",
            "31/31 [==============================] - 0s 43us/sample - loss: 0.1535 - acc: 0.8065 - mean_squared_error: 0.1535\n",
            "[0.15353155136108398, 0.8064516, 0.15353155]\n",
            "31/31 [==============================] - 0s 43us/sample - loss: 0.1896 - acc: 0.7419 - mean_squared_error: 0.1896\n",
            "[0.18959937989711761, 0.7419355, 0.18959938]\n",
            "31/31 [==============================] - 0s 54us/sample - loss: 0.1087 - acc: 0.8710 - mean_squared_error: 0.1087\n",
            "[0.10873354971408844, 0.87096775, 0.10873355]\n",
            "31/31 [==============================] - 0s 41us/sample - loss: 0.0677 - acc: 0.9032 - mean_squared_error: 0.0677\n",
            "[0.0676526427268982, 0.9032258, 0.06765264]\n",
            "30/30 [==============================] - 0s 48us/sample - loss: 0.1074 - acc: 0.9000 - mean_squared_error: 0.1074\n",
            "[0.10740792006254196, 0.9, 0.10740792]\n",
            "30/30 [==============================] - 0s 45us/sample - loss: 0.0652 - acc: 0.9333 - mean_squared_error: 0.0652\n",
            "[0.06515628844499588, 0.93333334, 0.06515629]\n",
            "30/30 [==============================] - 0s 43us/sample - loss: 0.1565 - acc: 0.7667 - mean_squared_error: 0.1565\n",
            "[0.15647003054618835, 0.76666665, 0.15647003]\n",
            "30/30 [==============================] - 0s 43us/sample - loss: 0.1068 - acc: 0.8667 - mean_squared_error: 0.1068\n",
            "[0.1067635715007782, 0.8666667, 0.10676357]\n",
            "30/30 [==============================] - 0s 41us/sample - loss: 0.1467 - acc: 0.8000 - mean_squared_error: 0.1467\n",
            "[0.14667654037475586, 0.8, 0.14667654]\n",
            "30/30 [==============================] - 0s 39us/sample - loss: 0.0827 - acc: 0.9000 - mean_squared_error: 0.0827\n",
            "[0.08270377665758133, 0.9, 0.08270378]\n",
            "30/30 [==============================] - 0s 52us/sample - loss: 0.1226 - acc: 0.8333 - mean_squared_error: 0.1226\n",
            "[0.12261755019426346, 0.8333333, 0.12261755]\n",
            "81.42% (+/- 8.45%)\n"
          ],
          "name": "stdout"
        }
      ]
    },
    {
      "metadata": {
        "id": "LeVpqVmt3zgp",
        "colab_type": "code",
        "outputId": "a02315cd-e971-4157-cebb-4a61deb80567",
        "colab": {
          "base_uri": "https://localhost:8080/",
          "height": 51
        }
      },
      "cell_type": "code",
      "source": [
        "class_o"
      ],
      "execution_count": 0,
      "outputs": [
        {
          "output_type": "execute_result",
          "data": {
            "text/plain": [
              "array([0., 0., 0., 0., 1., 0., 1., 1., 1., 1., 0., 0., 0., 0., 0., 1., 0.,\n",
              "       0., 0., 0., 0., 0., 1., 0., 1., 1., 0., 1., 0., 0.])"
            ]
          },
          "metadata": {
            "tags": []
          },
          "execution_count": 12
        }
      ]
    },
    {
      "metadata": {
        "id": "5u8kQjo9yupz",
        "colab_type": "code",
        "colab": {}
      },
      "cell_type": "code",
      "source": [
        "flat_pred = []\n",
        "flat_y = []\n",
        "for sublist in pred_class:\n",
        "  for item in sublist:\n",
        "    flat_pred.append(item)\n",
        "    #print(type(item) "
      ],
      "execution_count": 0,
      "outputs": []
    },
    {
      "metadata": {
        "id": "pDa-Y85h0xBW",
        "colab_type": "code",
        "outputId": "4ffed0ec-8b8c-4f5c-f539-83953763f9ca",
        "colab": {
          "base_uri": "https://localhost:8080/",
          "height": 204
        }
      },
      "cell_type": "code",
      "source": [
        "d = {'Resposta': flat_pred, \n",
        "     'Target': class_o}\n",
        "\n",
        "results = pd.DataFrame(data=d)\n",
        "results.reset_index(drop=True,inplace=True)\n",
        "results.dropna(inplace=True)\n",
        "results.to_csv('./diabetes_prediciton.csv')\n",
        "results.head()"
      ],
      "execution_count": 0,
      "outputs": [
        {
          "output_type": "execute_result",
          "data": {
            "text/html": [
              "<div>\n",
              "<style scoped>\n",
              "    .dataframe tbody tr th:only-of-type {\n",
              "        vertical-align: middle;\n",
              "    }\n",
              "\n",
              "    .dataframe tbody tr th {\n",
              "        vertical-align: top;\n",
              "    }\n",
              "\n",
              "    .dataframe thead th {\n",
              "        text-align: right;\n",
              "    }\n",
              "</style>\n",
              "<table border=\"1\" class=\"dataframe\">\n",
              "  <thead>\n",
              "    <tr style=\"text-align: right;\">\n",
              "      <th></th>\n",
              "      <th>Resposta</th>\n",
              "      <th>Target</th>\n",
              "    </tr>\n",
              "  </thead>\n",
              "  <tbody>\n",
              "    <tr>\n",
              "      <th>0</th>\n",
              "      <td>0</td>\n",
              "      <td>0.0</td>\n",
              "    </tr>\n",
              "    <tr>\n",
              "      <th>1</th>\n",
              "      <td>0</td>\n",
              "      <td>0.0</td>\n",
              "    </tr>\n",
              "    <tr>\n",
              "      <th>2</th>\n",
              "      <td>0</td>\n",
              "      <td>0.0</td>\n",
              "    </tr>\n",
              "    <tr>\n",
              "      <th>3</th>\n",
              "      <td>0</td>\n",
              "      <td>0.0</td>\n",
              "    </tr>\n",
              "    <tr>\n",
              "      <th>4</th>\n",
              "      <td>1</td>\n",
              "      <td>1.0</td>\n",
              "    </tr>\n",
              "  </tbody>\n",
              "</table>\n",
              "</div>"
            ],
            "text/plain": [
              "   Resposta  Target\n",
              "0         0     0.0\n",
              "1         0     0.0\n",
              "2         0     0.0\n",
              "3         0     0.0\n",
              "4         1     1.0"
            ]
          },
          "metadata": {
            "tags": []
          },
          "execution_count": 14
        }
      ]
    },
    {
      "metadata": {
        "id": "08b440Jp1Fhm",
        "colab_type": "code",
        "colab": {}
      },
      "cell_type": "code",
      "source": [
        "target_positive = results[results['Target'] == 1]\n",
        "target_negative = results[results['Target'] == 0]\n",
        "\n",
        "def get_positive(tresh_hold = 0.5):\n",
        "  true_positive = target_positive[target_positive['Resposta'] >= tresh_hold]\n",
        "  false_positive = target_positive[target_positive['Resposta'] < tresh_hold] \n",
        "  \n",
        "  return len(true_positive), len(false_positive)\n",
        "\n",
        "\n",
        "def get_negative(tresh_hold = 0.5):\n",
        "  true_negative = target_negative[target_negative['Resposta'] <= tresh_hold]\n",
        "  false_negative = target_negative[target_negative['Resposta'] > tresh_hold] \n",
        "  \n",
        "  return len(true_negative), len(false_negative)\n",
        "\n",
        "'''\n",
        "Calculates:\n",
        "Acuracy\n",
        "Positive and Negative Precision\n",
        "False Positive and False Negative Amount\n",
        "\n",
        "@param true_positive amount of True Positive in the dataset.\n",
        "@oaran true_negative amount of True Negative in the dataset.\n",
        "@param false_positive amount of False Positive in the dataset.\n",
        "@param false_negative amount of False Negative in the dataset.\n",
        "@param positives Total of Positives targets, targets = 1\n",
        "@param negatives Total of Negatives targets, targets = 0\n",
        "@param Threshold Value used to calc the true, false positives and negatives\n",
        "@param debug Default False, if True print all stats\n",
        "\n",
        "'''\n",
        "def calc_stats(true_positive, \n",
        "               true_negative, \n",
        "               false_positive, \n",
        "               false_negative, \n",
        "               positives, \n",
        "               negatives, \n",
        "               threshold, \n",
        "               debug=False):\n",
        "  \n",
        "  acuracy = (true_positive + true_negative)/ (positives + negatives)\n",
        "\n",
        "  precision_positive = true_positive / (true_positive + false_positive)\n",
        "  precision_negative = true_negative / (true_negative + false_negative)\n",
        "\n",
        "  false_positive_amount = false_positive / negatives\n",
        "  false_negative_amount = false_negative / positives\n",
        "  if debug == True:\n",
        "    print('Threshold: '+str(threshold))\n",
        "    print('Accuracy: '+str(acuracy))\n",
        "    print('Positive Precision: '+str(precision_positive))\n",
        "    print('Negative Precision: '+str(precision_negative))\n",
        "    print('Amount False Positives: '+str(false_positive_amount))\n",
        "    print('Amount False Negatives: '+str(false_negative_amount))\n",
        "    print('\\n')\n",
        "  \n",
        "  return acuracy"
      ],
      "execution_count": 0,
      "outputs": []
    },
    {
      "metadata": {
        "id": "cInsYknI1aDJ",
        "colab_type": "code",
        "outputId": "e628afc8-f53b-48aa-b73c-96de90ac6c48",
        "colab": {
          "base_uri": "https://localhost:8080/",
          "height": 1513
        }
      },
      "cell_type": "code",
      "source": [
        "threshold = [0.0, \n",
        "             0.1, 0.2, \n",
        "             0.3, 0.4, \n",
        "             0.5, 0.6,\n",
        "             0.7, 0.8,\n",
        "             0.9, 1.0]\n",
        "\n",
        "for t in threshold:\n",
        "  true_positive, false_positive = get_positive(t)\n",
        "  true_negative, false_negative = get_negative(t)\n",
        "\n",
        "  \n",
        "  calc_stats(true_positive, \n",
        "             true_negative, \n",
        "             false_positive, \n",
        "             false_negative, \n",
        "             len(target_positive), \n",
        "             len(target_negative),\n",
        "             t, True)"
      ],
      "execution_count": 0,
      "outputs": [
        {
          "output_type": "stream",
          "text": [
            "Threshold: 0.0\n",
            "Accuracy: 0.8666666666666667\n",
            "Positive Precision: 1.0\n",
            "Negative Precision: 0.8\n",
            "Amount False Positives: 0.0\n",
            "Amount False Negatives: 0.4\n",
            "\n",
            "\n",
            "Threshold: 0.1\n",
            "Accuracy: 0.8333333333333334\n",
            "Positive Precision: 0.9\n",
            "Negative Precision: 0.8\n",
            "Amount False Positives: 0.05\n",
            "Amount False Negatives: 0.4\n",
            "\n",
            "\n",
            "Threshold: 0.2\n",
            "Accuracy: 0.8333333333333334\n",
            "Positive Precision: 0.9\n",
            "Negative Precision: 0.8\n",
            "Amount False Positives: 0.05\n",
            "Amount False Negatives: 0.4\n",
            "\n",
            "\n",
            "Threshold: 0.3\n",
            "Accuracy: 0.8333333333333334\n",
            "Positive Precision: 0.9\n",
            "Negative Precision: 0.8\n",
            "Amount False Positives: 0.05\n",
            "Amount False Negatives: 0.4\n",
            "\n",
            "\n",
            "Threshold: 0.4\n",
            "Accuracy: 0.8333333333333334\n",
            "Positive Precision: 0.9\n",
            "Negative Precision: 0.8\n",
            "Amount False Positives: 0.05\n",
            "Amount False Negatives: 0.4\n",
            "\n",
            "\n",
            "Threshold: 0.5\n",
            "Accuracy: 0.8333333333333334\n",
            "Positive Precision: 0.9\n",
            "Negative Precision: 0.8\n",
            "Amount False Positives: 0.05\n",
            "Amount False Negatives: 0.4\n",
            "\n",
            "\n",
            "Threshold: 0.6\n",
            "Accuracy: 0.8333333333333334\n",
            "Positive Precision: 0.9\n",
            "Negative Precision: 0.8\n",
            "Amount False Positives: 0.05\n",
            "Amount False Negatives: 0.4\n",
            "\n",
            "\n",
            "Threshold: 0.7\n",
            "Accuracy: 0.8333333333333334\n",
            "Positive Precision: 0.9\n",
            "Negative Precision: 0.8\n",
            "Amount False Positives: 0.05\n",
            "Amount False Negatives: 0.4\n",
            "\n",
            "\n",
            "Threshold: 0.8\n",
            "Accuracy: 0.8333333333333334\n",
            "Positive Precision: 0.9\n",
            "Negative Precision: 0.8\n",
            "Amount False Positives: 0.05\n",
            "Amount False Negatives: 0.4\n",
            "\n",
            "\n",
            "Threshold: 0.9\n",
            "Accuracy: 0.8333333333333334\n",
            "Positive Precision: 0.9\n",
            "Negative Precision: 0.8\n",
            "Amount False Positives: 0.05\n",
            "Amount False Negatives: 0.4\n",
            "\n",
            "\n",
            "Threshold: 1.0\n",
            "Accuracy: 0.9666666666666667\n",
            "Positive Precision: 0.9\n",
            "Negative Precision: 1.0\n",
            "Amount False Positives: 0.05\n",
            "Amount False Negatives: 0.0\n",
            "\n",
            "\n"
          ],
          "name": "stdout"
        }
      ]
    },
    {
      "metadata": {
        "id": "06cEFLfz1bo1",
        "colab_type": "code",
        "colab": {}
      },
      "cell_type": "code",
      "source": [
        "tresh_hold = []\n",
        "for it in results['Resposta']:\n",
        "  if it <= 0.5:\n",
        "     tresh_hold.append(0)\n",
        "  else:\n",
        "     tresh_hold.append(1)\n",
        "      \n",
        "\n",
        "matrix_cf = pd.DataFrame(metrics.confusion_matrix(results['Target'], tresh_hold), \n",
        "                         index=['Negative', 'Positive'],\n",
        "                         columns=['True', 'False'])"
      ],
      "execution_count": 0,
      "outputs": []
    },
    {
      "metadata": {
        "id": "NCuuwFiN1qn-",
        "colab_type": "code",
        "outputId": "a0982299-858f-42e2-bce5-cdb80abb1b6c",
        "colab": {
          "base_uri": "https://localhost:8080/",
          "height": 298
        }
      },
      "cell_type": "code",
      "source": [
        "fig, ax = plt.subplots()\n",
        "ax = sns.heatmap(matrix_cf, annot=True)\n",
        "ax.set_title('Consfuison Matrix')"
      ],
      "execution_count": 0,
      "outputs": [
        {
          "output_type": "execute_result",
          "data": {
            "text/plain": [
              "Text(0.5, 1.0, 'Consfuison Matrix')"
            ]
          },
          "metadata": {
            "tags": []
          },
          "execution_count": 22
        },
        {
          "output_type": "display_data",
          "data": {
            "image/png": "[encoded data removed]",
            "text/plain": [
              "<Figure size 432x288 with 2 Axes>"
            ]
          },
          "metadata": {
            "tags": []
          }
        }
      ]
    },
    {
      "metadata": {
        "id": "w9HSUMGQ4PmV",
        "colab_type": "code",
        "colab": {}
      },
      "cell_type": "code",
      "source": [
        "y = results['Target']\n",
        "scores = results['Resposta']\n",
        "fpr, tpr, thresholds = metrics.roc_curve(y, scores, pos_label=1)\n",
        "roc_auc = metrics.auc(fpr, tpr)"
      ],
      "execution_count": 0,
      "outputs": []
    },
    {
      "metadata": {
        "id": "-yx8ckhX4R_l",
        "colab_type": "code",
        "outputId": "9c099c1e-e744-4e54-f3c1-e1b3e04e6f81",
        "colab": {
          "base_uri": "https://localhost:8080/",
          "height": 295
        }
      },
      "cell_type": "code",
      "source": [
        "plt.title('Receiver Operating Characteristic Curve')\n",
        "plt.plot(fpr, tpr, 'b', label = 'AUC = %0.2f' % roc_auc)\n",
        "plt.legend(loc = 'lower right')\n",
        "\n",
        "plt.plot([0, 1], [0, 1],'r--')\n",
        "plt.xlim([0, 1])\n",
        "plt.ylim([0, 1])\n",
        "plt.ylabel('True Positive Rate')\n",
        "plt.xlabel('False Positive Rate')\n",
        "plt.show()"
      ],
      "execution_count": 0,
      "outputs": [
        {
          "output_type": "display_data",
          "data": {
            "image/png": "[encoded data removed]",
            "text/plain": [
              "<Figure size 432x288 with 1 Axes>"
            ]
          },
          "metadata": {
            "tags": []
          }
        }
      ]
    }
  ]
}