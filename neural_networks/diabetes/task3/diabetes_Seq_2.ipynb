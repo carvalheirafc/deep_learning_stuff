{
  "nbformat": 4,
  "nbformat_minor": 0,
  "metadata": {
    "colab": {
      "name": "diabetes_Seq_2.ipynb",
      "version": "0.3.2",
      "provenance": [],
      "include_colab_link": true
    },
    "kernelspec": {
      "name": "python3",
      "display_name": "Python 3"
    },
    "accelerator": "GPU"
  },
  "cells": [
    {
      "cell_type": "markdown",
      "metadata": {
        "id": "view-in-github",
        "colab_type": "text"
      },
      "source": [
        "<a href=\"https://colab.research.google.com/github/carvalheirafc/deep_learning_stuff/blob/master/neural_networks/diabetes/task3/diabetes_Seq_2.ipynb\" target=\"_parent\"><img src=\"https://colab.research.google.com/assets/colab-badge.svg\" alt=\"Open In Colab\"/></a>"
      ]
    },
    {
      "metadata": {
        "id": "iQSMYN1mThVy",
        "colab_type": "code",
        "colab": {}
      },
      "cell_type": "code",
      "source": [
        "import numpy \n",
        "import pandas as pd\n",
        "import tensorflow as tf\n",
        "from sklearn.model_selection import StratifiedKFold\n",
        "from sklearn.metrics import accuracy_score,precision_score,recall_score,f1_score\n",
        "\n",
        "import matplotlib.pyplot as plt\n",
        "import seaborn as sns\n"
      ],
      "execution_count": 0,
      "outputs": []
    },
    {
      "metadata": {
        "id": "_eaP3mk-Slva",
        "colab_type": "code",
        "outputId": "ed93ff59-9452-461d-e7f3-b469378d714c",
        "colab": {
          "base_uri": "https://localhost:8080/",
          "height": 238
        }
      },
      "cell_type": "code",
      "source": [
        "file_path = 'https://raw.githubusercontent.com/carvalheirafc/deep_learning_stuff/master/neural_networks/diabetes/diabetes_pca_result.csv'\n",
        "df = pd.read_csv(file_path)\n",
        "features = df.drop('Diagnóstico', axis = 1)\n",
        "target = df['Diagnóstico']\n",
        "\n",
        "\n",
        "print('Data Shape:', features.shape)\n",
        "print('Labels/Target:', target.shape)\n",
        "df.describe().transpose()"
      ],
      "execution_count": 2,
      "outputs": [
        {
          "output_type": "stream",
          "text": [
            "Data Shape: (768, 4)\n",
            "Labels/Target: (768,)\n"
          ],
          "name": "stdout"
        },
        {
          "output_type": "execute_result",
          "data": {
            "text/html": [
              "<div>\n",
              "<style scoped>\n",
              "    .dataframe tbody tr th:only-of-type {\n",
              "        vertical-align: middle;\n",
              "    }\n",
              "\n",
              "    .dataframe tbody tr th {\n",
              "        vertical-align: top;\n",
              "    }\n",
              "\n",
              "    .dataframe thead th {\n",
              "        text-align: right;\n",
              "    }\n",
              "</style>\n",
              "<table border=\"1\" class=\"dataframe\">\n",
              "  <thead>\n",
              "    <tr style=\"text-align: right;\">\n",
              "      <th></th>\n",
              "      <th>count</th>\n",
              "      <th>mean</th>\n",
              "      <th>std</th>\n",
              "      <th>min</th>\n",
              "      <th>25%</th>\n",
              "      <th>50%</th>\n",
              "      <th>75%</th>\n",
              "      <th>max</th>\n",
              "    </tr>\n",
              "  </thead>\n",
              "  <tbody>\n",
              "    <tr>\n",
              "      <th>Component 1</th>\n",
              "      <td>768.0</td>\n",
              "      <td>-6.693141e-17</td>\n",
              "      <td>1.711960</td>\n",
              "      <td>-5.587340</td>\n",
              "      <td>-1.027072</td>\n",
              "      <td>0.152931</td>\n",
              "      <td>1.095689</td>\n",
              "      <td>5.963579</td>\n",
              "    </tr>\n",
              "    <tr>\n",
              "      <th>Component 2</th>\n",
              "      <td>768.0</td>\n",
              "      <td>-6.071532e-17</td>\n",
              "      <td>1.318184</td>\n",
              "      <td>-2.955806</td>\n",
              "      <td>-1.007096</td>\n",
              "      <td>-0.225966</td>\n",
              "      <td>0.959128</td>\n",
              "      <td>3.606582</td>\n",
              "    </tr>\n",
              "    <tr>\n",
              "      <th>Component 3</th>\n",
              "      <td>768.0</td>\n",
              "      <td>-3.324887e-17</td>\n",
              "      <td>1.015629</td>\n",
              "      <td>-3.203088</td>\n",
              "      <td>-0.646496</td>\n",
              "      <td>-0.103940</td>\n",
              "      <td>0.549774</td>\n",
              "      <td>4.754503</td>\n",
              "    </tr>\n",
              "    <tr>\n",
              "      <th>Component 4</th>\n",
              "      <td>768.0</td>\n",
              "      <td>2.349105e-18</td>\n",
              "      <td>0.966941</td>\n",
              "      <td>-2.192185</td>\n",
              "      <td>-0.664677</td>\n",
              "      <td>-0.115829</td>\n",
              "      <td>0.543242</td>\n",
              "      <td>4.125987</td>\n",
              "    </tr>\n",
              "    <tr>\n",
              "      <th>Diagnóstico</th>\n",
              "      <td>768.0</td>\n",
              "      <td>3.489583e-01</td>\n",
              "      <td>0.476951</td>\n",
              "      <td>0.000000</td>\n",
              "      <td>0.000000</td>\n",
              "      <td>0.000000</td>\n",
              "      <td>1.000000</td>\n",
              "      <td>1.000000</td>\n",
              "    </tr>\n",
              "  </tbody>\n",
              "</table>\n",
              "</div>"
            ],
            "text/plain": [
              "             count          mean       std       min       25%       50%  \\\n",
              "Component 1  768.0 -6.693141e-17  1.711960 -5.587340 -1.027072  0.152931   \n",
              "Component 2  768.0 -6.071532e-17  1.318184 -2.955806 -1.007096 -0.225966   \n",
              "Component 3  768.0 -3.324887e-17  1.015629 -3.203088 -0.646496 -0.103940   \n",
              "Component 4  768.0  2.349105e-18  0.966941 -2.192185 -0.664677 -0.115829   \n",
              "Diagnóstico  768.0  3.489583e-01  0.476951  0.000000  0.000000  0.000000   \n",
              "\n",
              "                  75%       max  \n",
              "Component 1  1.095689  5.963579  \n",
              "Component 2  0.959128  3.606582  \n",
              "Component 3  0.549774  4.754503  \n",
              "Component 4  0.543242  4.125987  \n",
              "Diagnóstico  1.000000  1.000000  "
            ]
          },
          "metadata": {
            "tags": []
          },
          "execution_count": 2
        }
      ]
    },
    {
      "metadata": {
        "id": "f27tJoBZZEQ0",
        "colab_type": "code",
        "colab": {}
      },
      "cell_type": "code",
      "source": [
        "def get_train_test(X, y, n_splts=10):\n",
        "  k_fold = StratifiedKFold(n_splits=n_splts, shuffle=True)\n",
        "\n",
        "  X_train = []\n",
        "  X_test = []\n",
        "  y_train = []\n",
        "  y_test = []\n",
        "  \n",
        "  for train_indices, test_indices in k_fold.split(X, y):\n",
        "    X_train.append( X[train_indices] )\n",
        "    y_train.append( y[train_indices] )\n",
        "    X_test.append( X[test_indices] )\n",
        "    y_test.append( y[test_indices] )\n",
        "      \n",
        "\n",
        "  return np.array(X_train), np.array(X_test), np.array(y_train), np.array(y_test) "
      ],
      "execution_count": 0,
      "outputs": []
    },
    {
      "metadata": {
        "id": "B47l7xndVHSF",
        "colab_type": "code",
        "colab": {}
      },
      "cell_type": "code",
      "source": [
        "x = tf.placeholder(dtype=tf.float32, shape=(None, 1))\n",
        "y_true = tf.placeholder(dtype=tf.float32, shape=(None, 1))"
      ],
      "execution_count": 0,
      "outputs": []
    },
    {
      "metadata": {
        "id": "8IN80keFUSRh",
        "colab_type": "code",
        "colab": {}
      },
      "cell_type": "code",
      "source": [
        "def model():\n",
        "  network = tf.keras.Sequential()\n",
        "\n",
        "    \n",
        "  network.add(tf.layers.Dense(units=32, activation='relu', input_shape=(features.shape[1],),\n",
        "                              kernel_initializer='random_uniform', bias_initializer='ones'))\n",
        "\n",
        "    \n",
        "  network.add(tf.layers.Dense(units=32, activation='relu'))\n",
        "  \n",
        "  network.add(tf.layers.Dense(units=1, activation='sigmoid'))\n",
        "  return network"
      ],
      "execution_count": 0,
      "outputs": []
    },
    {
      "metadata": {
        "id": "2HRnpuglfSZF",
        "colab_type": "code",
        "colab": {}
      },
      "cell_type": "code",
      "source": [
        "def train_predict(optimizer, seed, X, y):\n",
        "  with tf.device('/gpu:0'):\n",
        "    # Metrics\n",
        "    cvscores = []\n",
        "    accuracy_scores = []\n",
        "    precision_scores = []\n",
        "    recall_scores = []\n",
        "    f1_scores = []\n",
        "  \n",
        "    \n",
        "    network = model()\n",
        "    k_fold = StratifiedKFold(n_splits=25, shuffle=True, random_state=seed)\n",
        "    \n",
        "    network.compile(loss='mse', optimizer=optimizer, metrics=['accuracy'])\n",
        "    X_train = []\n",
        "    for train, test in k_fold.split(X, y):\n",
        "      X_train.append(X[train])\n",
        "      history = network.fit(X[train], y[train], validation_split=0.5, epochs=200, batch_size=128, verbose=0)\n",
        "      \n",
        "      scores = network.evaluate(X[test], y[test], verbose=0)\n",
        "      y_pred = network.predict_classes(X[test])\n",
        "      \n",
        "      cvscores.append(scores[1] * 100)\n",
        "      accuracy_scores.append(accuracy_score(y[test], y_pred))\n",
        "      precision_scores.append(precision_score(y[test], y_pred))\n",
        "      recall_scores.append(recall_score(y[test], y_pred))\n",
        "      f1_scores.append(f1_score(y[test], y_pred))\n",
        "      print(network.metrics_names)\n",
        "      print(scores)\n",
        "    \n",
        "    print(\"%.2f%% (+/- %.2f%%)\" % (numpy.mean(cvscores), numpy.std(cvscores)))\n",
        "    print('Accuracy', numpy.round( numpy.mean(accuracy_scores) ,3) )\n",
        "    print('Precision', numpy.round( numpy.mean(precision_scores) ,3) )\n",
        "    print('Recall', numpy.round( numpy.mean(recall_scores), 3) )\n",
        "    print('F1-measure', numpy.round( numpy.mean(f1_scores), 3) )\n",
        "  return history"
      ],
      "execution_count": 0,
      "outputs": []
    },
    {
      "metadata": {
        "id": "jNTyArRylCHJ",
        "colab_type": "code",
        "colab": {}
      },
      "cell_type": "code",
      "source": [
        "config = tf.ConfigProto()\n",
        "config.gpu_options.allow_growth = True\n",
        "\n",
        "sess = tf.Session(config=config)\n",
        "try:\n",
        "  sess.run(tf.global_variables_initializer())\n",
        "except tf.errors.InvalidArgumentError:\n",
        "  print(\n",
        "      '\\n\\nThis error most likely means that this notebook is not '\n",
        "      'configured to use a GPU.  Change this in Notebook Settings via the '\n",
        "      'command palette (cmd/ctrl-shift-P) or the Edit menu.\\n\\n')\n",
        "  raise\n",
        "\n",
        "def gpu(X, y, seed, optmizer):\n",
        "  history = train_predict(optmizer, seed, X, y)\n",
        "  \n",
        "  return history"
      ],
      "execution_count": 0,
      "outputs": []
    },
    {
      "metadata": {
        "id": "JioOoDEeWLWr",
        "colab_type": "code",
        "outputId": "56962659-71b0-4768-d8f3-40b65e1f0544",
        "colab": {
          "base_uri": "https://localhost:8080/",
          "height": 1125
        }
      },
      "cell_type": "code",
      "source": [
        "X = features.values\n",
        "y = target.values\n",
        "seed = 666\n",
        "numpy.random.seed(seed)\n",
        "\n",
        "adam_custom = tf.keras.optimizers.Adam(lr=0.01, beta_1=0.9, beta_2=0.999, epsilon=1e-8,amsgrad=True)\n",
        "history = gpu(X, y, seed, adam_custom)"
      ],
      "execution_count": 8,
      "outputs": [
        {
          "output_type": "stream",
          "text": [
            "WARNING:tensorflow:From /usr/local/lib/python3.6/dist-packages/tensorflow/python/ops/resource_variable_ops.py:435: colocate_with (from tensorflow.python.framework.ops) is deprecated and will be removed in a future version.\n",
            "Instructions for updating:\n",
            "Colocations handled automatically by placer.\n",
            "WARNING:tensorflow:From /usr/local/lib/python3.6/dist-packages/tensorflow/python/keras/utils/losses_utils.py:170: to_float (from tensorflow.python.ops.math_ops) is deprecated and will be removed in a future version.\n",
            "Instructions for updating:\n",
            "Use tf.cast instead.\n",
            "WARNING:tensorflow:From /usr/local/lib/python3.6/dist-packages/tensorflow/python/ops/math_ops.py:3066: to_int32 (from tensorflow.python.ops.math_ops) is deprecated and will be removed in a future version.\n",
            "Instructions for updating:\n",
            "Use tf.cast instead.\n",
            "['loss', 'acc']\n",
            "[0.17234323918819427, 0.7419355]\n",
            "['loss', 'acc']\n",
            "[0.2933128774166107, 0.58064514]\n",
            "['loss', 'acc']\n",
            "[0.2187981903553009, 0.67741936]\n",
            "['loss', 'acc']\n",
            "[0.3010379374027252, 0.6451613]\n",
            "['loss', 'acc']\n",
            "[0.23231755197048187, 0.67741936]\n",
            "['loss', 'acc']\n",
            "[0.129679337143898, 0.83870965]\n",
            "['loss', 'acc']\n",
            "[0.1918545663356781, 0.7741935]\n",
            "['loss', 'acc']\n",
            "[0.1954142302274704, 0.7096774]\n",
            "['loss', 'acc']\n",
            "[0.2733040452003479, 0.67741936]\n",
            "['loss', 'acc']\n",
            "[0.1482638716697693, 0.8064516]\n",
            "['loss', 'acc']\n",
            "[0.1571938693523407, 0.7741935]\n",
            "['loss', 'acc']\n",
            "[0.20013801753520966, 0.7741935]\n",
            "['loss', 'acc']\n",
            "[0.21615144610404968, 0.7096774]\n",
            "['loss', 'acc']\n",
            "[0.0877624899148941, 0.87096775]\n",
            "['loss', 'acc']\n",
            "[0.1985674649477005, 0.7741935]\n",
            "['loss', 'acc']\n",
            "[0.24182243645191193, 0.7096774]\n",
            "['loss', 'acc']\n",
            "[0.1380849927663803, 0.87096775]\n",
            "['loss', 'acc']\n",
            "[0.12500035762786865, 0.8064516]\n",
            "['loss', 'acc']\n",
            "[0.18940161168575287, 0.8333333]\n",
            "['loss', 'acc']\n",
            "[0.12365297228097916, 0.8333333]\n",
            "['loss', 'acc']\n",
            "[0.09375037997961044, 0.9]\n",
            "['loss', 'acc']\n",
            "[0.11306428909301758, 0.8333333]\n",
            "['loss', 'acc']\n",
            "[0.18282361328601837, 0.8]\n",
            "['loss', 'acc']\n",
            "[0.1291874647140503, 0.8666667]\n",
            "['loss', 'acc']\n",
            "[0.1547393947839737, 0.8333333]\n",
            "77.28% (+/- 7.99%)\n",
            "Accuracy 0.773\n",
            "Precision 0.695\n",
            "Recall 0.667\n",
            "F1-measure 0.671\n"
          ],
          "name": "stdout"
        }
      ]
    },
    {
      "metadata": {
        "id": "ZHv4UCfYka-D",
        "colab_type": "code",
        "colab": {}
      },
      "cell_type": "code",
      "source": [
        "model_weights = history.model.get_weights()"
      ],
      "execution_count": 0,
      "outputs": []
    },
    {
      "metadata": {
        "id": "LG1sDHXfkbxk",
        "colab_type": "code",
        "colab": {
          "base_uri": "https://localhost:8080/",
          "height": 295
        },
        "outputId": "c3422b0d-cedb-458f-eee5-1c5038248399"
      },
      "cell_type": "code",
      "source": [
        "plt.plot(history.history['acc'])\n",
        "plt.plot(history.history['val_acc'])\n",
        "plt.title('model accuracy')\n",
        "plt.ylabel('accuracy')\n",
        "plt.xlabel('epoch')\n",
        "plt.legend(['train', 'test'], loc='upper left')\n",
        "plt.show()"
      ],
      "execution_count": 10,
      "outputs": [
        {
          "output_type": "display_data",
          "data": {
            "image/png": "[encoded data removed]",
            "text/plain": [
              "<Figure size 432x288 with 1 Axes>"
            ]
          },
          "metadata": {
            "tags": []
          }
        }
      ]
    },
    {
      "metadata": {
        "id": "3REaABodmg0q",
        "colab_type": "code",
        "colab": {
          "base_uri": "https://localhost:8080/",
          "height": 295
        },
        "outputId": "e20f735b-1c2e-44a0-e1d1-e7a25e2eb3f2"
      },
      "cell_type": "code",
      "source": [
        "plt.plot(history.history['loss'])\n",
        "plt.plot(history.history['val_loss'])\n",
        "plt.title('model loss')\n",
        "plt.ylabel('loss')\n",
        "plt.xlabel('epoch')\n",
        "plt.legend(['train', 'test'], loc='upper left')\n",
        "plt.show()"
      ],
      "execution_count": 11,
      "outputs": [
        {
          "output_type": "display_data",
          "data": {
            "image/png": "[encoded data removed]",
            "text/plain": [
              "<Figure size 432x288 with 1 Axes>"
            ]
          },
          "metadata": {
            "tags": []
          }
        }
      ]
    }
  ]
}