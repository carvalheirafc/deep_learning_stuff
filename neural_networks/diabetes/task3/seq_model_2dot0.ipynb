{
  "nbformat": 4,
  "nbformat_minor": 0,
  "metadata": {
    "colab": {
      "name": "seq_model_2dot0.ipynb",
      "version": "0.3.2",
      "provenance": [],
      "include_colab_link": true
    },
    "kernelspec": {
      "name": "python3",
      "display_name": "Python 3"
    },
    "accelerator": "GPU"
  },
  "cells": [
    {
      "cell_type": "markdown",
      "metadata": {
        "id": "view-in-github",
        "colab_type": "text"
      },
      "source": [
        "<a href=\"https://colab.research.google.com/github/carvalheirafc/deep_learning_stuff/blob/master/neural_networks/diabetes/task3/seq_model_2dot0.ipynb\" target=\"_parent\"><img src=\"https://colab.research.google.com/assets/colab-badge.svg\" alt=\"Open In Colab\"/></a>"
      ]
    },
    {
      "metadata": {
        "id": "iQSMYN1mThVy",
        "colab_type": "code",
        "colab": {}
      },
      "cell_type": "code",
      "source": [
        "import numpy as np\n",
        "import pandas as pd\n",
        "import tensorflow as tf\n",
        "from sklearn.model_selection import StratifiedKFold\n"
      ],
      "execution_count": 0,
      "outputs": []
    },
    {
      "metadata": {
        "id": "_eaP3mk-Slva",
        "colab_type": "code",
        "colab": {
          "base_uri": "https://localhost:8080/",
          "height": 238
        },
        "outputId": "d508fa17-433f-469a-b3eb-fbd34e694764"
      },
      "cell_type": "code",
      "source": [
        "file_path = 'https://raw.githubusercontent.com/carvalheirafc/deep_learning_stuff/master/neural_networks/diabetes/diabetes_pca_result.csv'\n",
        "df = pd.read_csv(file_path)\n",
        "features = df.drop('Diagnóstico', axis = 1)\n",
        "target = df['Diagnóstico']\n",
        "\n",
        "\n",
        "print('Data Shape:', features.shape)\n",
        "print('Labels/Target:', target.shape)\n",
        "df.describe().transpose()"
      ],
      "execution_count": 2,
      "outputs": [
        {
          "output_type": "stream",
          "text": [
            "Data Shape: (768, 4)\n",
            "Labels/Target: (768,)\n"
          ],
          "name": "stdout"
        },
        {
          "output_type": "execute_result",
          "data": {
            "text/html": [
              "<div>\n",
              "<style scoped>\n",
              "    .dataframe tbody tr th:only-of-type {\n",
              "        vertical-align: middle;\n",
              "    }\n",
              "\n",
              "    .dataframe tbody tr th {\n",
              "        vertical-align: top;\n",
              "    }\n",
              "\n",
              "    .dataframe thead th {\n",
              "        text-align: right;\n",
              "    }\n",
              "</style>\n",
              "<table border=\"1\" class=\"dataframe\">\n",
              "  <thead>\n",
              "    <tr style=\"text-align: right;\">\n",
              "      <th></th>\n",
              "      <th>count</th>\n",
              "      <th>mean</th>\n",
              "      <th>std</th>\n",
              "      <th>min</th>\n",
              "      <th>25%</th>\n",
              "      <th>50%</th>\n",
              "      <th>75%</th>\n",
              "      <th>max</th>\n",
              "    </tr>\n",
              "  </thead>\n",
              "  <tbody>\n",
              "    <tr>\n",
              "      <th>Component 1</th>\n",
              "      <td>768.0</td>\n",
              "      <td>-6.693141e-17</td>\n",
              "      <td>1.711960</td>\n",
              "      <td>-5.587340</td>\n",
              "      <td>-1.027072</td>\n",
              "      <td>0.152931</td>\n",
              "      <td>1.095689</td>\n",
              "      <td>5.963579</td>\n",
              "    </tr>\n",
              "    <tr>\n",
              "      <th>Component 2</th>\n",
              "      <td>768.0</td>\n",
              "      <td>-6.071532e-17</td>\n",
              "      <td>1.318184</td>\n",
              "      <td>-2.955806</td>\n",
              "      <td>-1.007096</td>\n",
              "      <td>-0.225966</td>\n",
              "      <td>0.959128</td>\n",
              "      <td>3.606582</td>\n",
              "    </tr>\n",
              "    <tr>\n",
              "      <th>Component 3</th>\n",
              "      <td>768.0</td>\n",
              "      <td>-3.324887e-17</td>\n",
              "      <td>1.015629</td>\n",
              "      <td>-3.203088</td>\n",
              "      <td>-0.646496</td>\n",
              "      <td>-0.103940</td>\n",
              "      <td>0.549774</td>\n",
              "      <td>4.754503</td>\n",
              "    </tr>\n",
              "    <tr>\n",
              "      <th>Component 4</th>\n",
              "      <td>768.0</td>\n",
              "      <td>2.349105e-18</td>\n",
              "      <td>0.966941</td>\n",
              "      <td>-2.192185</td>\n",
              "      <td>-0.664677</td>\n",
              "      <td>-0.115829</td>\n",
              "      <td>0.543242</td>\n",
              "      <td>4.125987</td>\n",
              "    </tr>\n",
              "    <tr>\n",
              "      <th>Diagnóstico</th>\n",
              "      <td>768.0</td>\n",
              "      <td>3.489583e-01</td>\n",
              "      <td>0.476951</td>\n",
              "      <td>0.000000</td>\n",
              "      <td>0.000000</td>\n",
              "      <td>0.000000</td>\n",
              "      <td>1.000000</td>\n",
              "      <td>1.000000</td>\n",
              "    </tr>\n",
              "  </tbody>\n",
              "</table>\n",
              "</div>"
            ],
            "text/plain": [
              "             count          mean       std       min       25%       50%  \\\n",
              "Component 1  768.0 -6.693141e-17  1.711960 -5.587340 -1.027072  0.152931   \n",
              "Component 2  768.0 -6.071532e-17  1.318184 -2.955806 -1.007096 -0.225966   \n",
              "Component 3  768.0 -3.324887e-17  1.015629 -3.203088 -0.646496 -0.103940   \n",
              "Component 4  768.0  2.349105e-18  0.966941 -2.192185 -0.664677 -0.115829   \n",
              "Diagnóstico  768.0  3.489583e-01  0.476951  0.000000  0.000000  0.000000   \n",
              "\n",
              "                  75%       max  \n",
              "Component 1  1.095689  5.963579  \n",
              "Component 2  0.959128  3.606582  \n",
              "Component 3  0.549774  4.754503  \n",
              "Component 4  0.543242  4.125987  \n",
              "Diagnóstico  1.000000  1.000000  "
            ]
          },
          "metadata": {
            "tags": []
          },
          "execution_count": 2
        }
      ]
    },
    {
      "metadata": {
        "id": "f27tJoBZZEQ0",
        "colab_type": "code",
        "colab": {}
      },
      "cell_type": "code",
      "source": [
        "def get_train_test(X, y, n_splts=10):\n",
        "  k_fold = StratifiedKFold(n_splits=n_splts, shuffle=True)\n",
        "\n",
        "  X_train = []\n",
        "  X_test = []\n",
        "  y_train = []\n",
        "  y_test = []\n",
        "  \n",
        "  for train_indices, test_indices in k_fold.split(X, y):\n",
        "    X_train.append( X[train_indices] )\n",
        "    y_train.append( y[train_indices] )\n",
        "    X_test.append( X[test_indices] )\n",
        "    y_test.append( y[test_indices] )\n",
        "      \n",
        "\n",
        "  return np.array(X_train), np.array(X_test), np.array(y_train), np.array(y_test) "
      ],
      "execution_count": 0,
      "outputs": []
    },
    {
      "metadata": {
        "id": "B47l7xndVHSF",
        "colab_type": "code",
        "colab": {}
      },
      "cell_type": "code",
      "source": [
        "x = tf.placeholder(dtype=tf.float32, shape=(None, 1))\n",
        "y_true = tf.placeholder(dtype=tf.float32, shape=(None, 1))"
      ],
      "execution_count": 0,
      "outputs": []
    },
    {
      "metadata": {
        "id": "8IN80keFUSRh",
        "colab_type": "code",
        "colab": {}
      },
      "cell_type": "code",
      "source": [
        "def model():\n",
        "  network = tf.keras.Sequential()\n",
        "\n",
        "    \n",
        "  network.add(tf.layers.Dense(units=32, activation='relu', input_shape=(features.shape[1],),\n",
        "                              kernel_initializer='random_uniform', bias_initializer='ones'))\n",
        "\n",
        "    \n",
        "  network.add(tf.layers.Dense(units=32, activation='relu'))\n",
        "  network.add(tf.layers.Dense(units=1, activation='sigmoid'))\n",
        "  return network"
      ],
      "execution_count": 0,
      "outputs": []
    },
    {
      "metadata": {
        "id": "2HRnpuglfSZF",
        "colab_type": "code",
        "colab": {}
      },
      "cell_type": "code",
      "source": [
        "def train(optimizer, seed, X, y):\n",
        "  with tf.device('/gpu:0'):\n",
        "    network = model()\n",
        "    k_fold = StratifiedKFold(n_splits=25, shuffle=True, random_state=seed)\n",
        "    cvscores = []\n",
        "    prediction_acc = []\n",
        "  \n",
        "    network.compile(loss='mse', optimizer=optimizer, metrics=['accuracy', 'mse'])\n",
        "    X_train = []\n",
        "    for train, test in k_fold.split(X, y):\n",
        "      X_train.append(X[train])\n",
        "      history = network.fit(X[train], y[train], epochs=50, batch_size=10, verbose=0)\n",
        "  \n",
        "      scores = network.evaluate(X[test], y[test], verbose=2)\n",
        "    \n",
        "    \n",
        "  return history"
      ],
      "execution_count": 0,
      "outputs": []
    },
    {
      "metadata": {
        "id": "jNTyArRylCHJ",
        "colab_type": "code",
        "colab": {}
      },
      "cell_type": "code",
      "source": [
        "config = tf.ConfigProto()\n",
        "config.gpu_options.allow_growth = True\n",
        "\n",
        "sess = tf.Session(config=config)\n",
        "try:\n",
        "  sess.run(tf.global_variables_initializer())\n",
        "except tf.errors.InvalidArgumentError:\n",
        "  print(\n",
        "      '\\n\\nThis error most likely means that this notebook is not '\n",
        "      'configured to use a GPU.  Change this in Notebook Settings via the '\n",
        "      'command palette (cmd/ctrl-shift-P) or the Edit menu.\\n\\n')\n",
        "  raise\n",
        "\n",
        "def gpu(X, y, seed, optmizer):\n",
        "  adam_model_history = train(optmizer, seed, X, y)"
      ],
      "execution_count": 0,
      "outputs": []
    },
    {
      "metadata": {
        "id": "JioOoDEeWLWr",
        "colab_type": "code",
        "colab": {
          "base_uri": "https://localhost:8080/",
          "height": 615
        },
        "outputId": "52b2d274-1564-446f-9ab1-f6e394dc58e8"
      },
      "cell_type": "code",
      "source": [
        "X = features.values\n",
        "y = target.values\n",
        "seed = 666\n",
        "np.random.seed(seed)\n",
        "\n",
        "adam_custom = tf.keras.optimizers.Adam(lr=0.001, beta_1=0.9, beta_2=0.999, epsilon=1e-8, decay=0.0, amsgrad=False)\n",
        "gpu(X, y, seed, adam_custom)"
      ],
      "execution_count": 8,
      "outputs": [
        {
          "output_type": "stream",
          "text": [
            "WARNING:tensorflow:From /usr/local/lib/python3.6/dist-packages/tensorflow/python/ops/resource_variable_ops.py:435: colocate_with (from tensorflow.python.framework.ops) is deprecated and will be removed in a future version.\n",
            "Instructions for updating:\n",
            "Colocations handled automatically by placer.\n",
            "WARNING:tensorflow:From /usr/local/lib/python3.6/dist-packages/tensorflow/python/keras/utils/losses_utils.py:170: to_float (from tensorflow.python.ops.math_ops) is deprecated and will be removed in a future version.\n",
            "Instructions for updating:\n",
            "Use tf.cast instead.\n",
            "WARNING:tensorflow:From /usr/local/lib/python3.6/dist-packages/tensorflow/python/ops/math_ops.py:3066: to_int32 (from tensorflow.python.ops.math_ops) is deprecated and will be removed in a future version.\n",
            "Instructions for updating:\n",
            "Use tf.cast instead.\n",
            " - 0s - loss: 0.1664 - acc: 0.7419 - mean_squared_error: 0.1664\n",
            " - 0s - loss: 0.1772 - acc: 0.7419 - mean_squared_error: 0.1772\n",
            " - 0s - loss: 0.2049 - acc: 0.7419 - mean_squared_error: 0.2049\n",
            " - 0s - loss: 0.2174 - acc: 0.6452 - mean_squared_error: 0.2174\n",
            " - 0s - loss: 0.1652 - acc: 0.7419 - mean_squared_error: 0.1652\n",
            " - 0s - loss: 0.1399 - acc: 0.8065 - mean_squared_error: 0.1399\n",
            " - 0s - loss: 0.1520 - acc: 0.8065 - mean_squared_error: 0.1520\n",
            " - 0s - loss: 0.1903 - acc: 0.7097 - mean_squared_error: 0.1903\n",
            " - 0s - loss: 0.1379 - acc: 0.8065 - mean_squared_error: 0.1379\n",
            " - 0s - loss: 0.0774 - acc: 0.9032 - mean_squared_error: 0.0774\n",
            " - 0s - loss: 0.1167 - acc: 0.8387 - mean_squared_error: 0.1167\n",
            " - 0s - loss: 0.1505 - acc: 0.8065 - mean_squared_error: 0.1505\n",
            " - 0s - loss: 0.1017 - acc: 0.9032 - mean_squared_error: 0.1017\n",
            " - 0s - loss: 0.0840 - acc: 0.9032 - mean_squared_error: 0.0840\n",
            " - 0s - loss: 0.1491 - acc: 0.8065 - mean_squared_error: 0.1491\n",
            " - 0s - loss: 0.1914 - acc: 0.7097 - mean_squared_error: 0.1914\n",
            " - 0s - loss: 0.0899 - acc: 0.8710 - mean_squared_error: 0.0899\n",
            " - 0s - loss: 0.1447 - acc: 0.7419 - mean_squared_error: 0.1447\n",
            " - 0s - loss: 0.1244 - acc: 0.7667 - mean_squared_error: 0.1244\n",
            " - 0s - loss: 0.0955 - acc: 0.8667 - mean_squared_error: 0.0955\n",
            " - 0s - loss: 0.0952 - acc: 0.8667 - mean_squared_error: 0.0952\n",
            " - 0s - loss: 0.1268 - acc: 0.8667 - mean_squared_error: 0.1268\n",
            " - 0s - loss: 0.1448 - acc: 0.7667 - mean_squared_error: 0.1448\n",
            " - 0s - loss: 0.1054 - acc: 0.8333 - mean_squared_error: 0.1054\n",
            " - 0s - loss: 0.1289 - acc: 0.8000 - mean_squared_error: 0.1289\n"
          ],
          "name": "stdout"
        }
      ]
    },
    {
      "metadata": {
        "id": "36ctHcKCloRS",
        "colab_type": "code",
        "colab": {}
      },
      "cell_type": "code",
      "source": [
        "\n"
      ],
      "execution_count": 0,
      "outputs": []
    }
  ]
}