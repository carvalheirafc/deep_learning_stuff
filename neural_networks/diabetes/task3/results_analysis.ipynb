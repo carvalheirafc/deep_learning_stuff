{
  "nbformat": 4,
  "nbformat_minor": 0,
  "metadata": {
    "colab": {
      "name": "results_analysis.ipynb",
      "version": "0.3.2",
      "provenance": [],
      "include_colab_link": true
    },
    "kernelspec": {
      "name": "python3",
      "display_name": "Python 3"
    }
  },
  "cells": [
    {
      "cell_type": "markdown",
      "metadata": {
        "id": "view-in-github",
        "colab_type": "text"
      },
      "source": [
        "<a href=\"https://colab.research.google.com/github/carvalheirafc/deep_learning_stuff/blob/master/neural_networks/diabetes/task3/results_analysis.ipynb\" target=\"_parent\"><img src=\"https://colab.research.google.com/assets/colab-badge.svg\" alt=\"Open In Colab\"/></a>"
      ]
    },
    {
      "metadata": {
        "id": "X3gmtAr963YY",
        "colab_type": "code",
        "colab": {}
      },
      "cell_type": "code",
      "source": [
        "import pandas as pd\n",
        "import seaborn as sns\n",
        "import matplotlib.pyplot as plt\n",
        "from sklearn import metrics\n"
      ],
      "execution_count": 0,
      "outputs": []
    },
    {
      "metadata": {
        "id": "HHx9zpzr7JHJ",
        "colab_type": "code",
        "outputId": "0607457a-a3c6-4bfd-aad1-b988a4da0bb9",
        "colab": {
          "base_uri": "https://localhost:8080/",
          "height": 153
        }
      },
      "cell_type": "code",
      "source": [
        "file_url = 'https://raw.githubusercontent.com/carvalheirafc/deep_learning_stuff/master/neural_networks/diabetes/task3/diabetes_prediciton.csv'\n",
        "results = pd.read_csv(file_url)\n",
        "results.info()"
      ],
      "execution_count": 2,
      "outputs": [
        {
          "output_type": "stream",
          "text": [
            "<class 'pandas.core.frame.DataFrame'>\n",
            "RangeIndex: 31 entries, 0 to 30\n",
            "Data columns (total 3 columns):\n",
            "Unnamed: 0    31 non-null int64\n",
            "Resposta      31 non-null float64\n",
            "Target        31 non-null float64\n",
            "dtypes: float64(2), int64(1)\n",
            "memory usage: 824.0 bytes\n"
          ],
          "name": "stdout"
        }
      ]
    },
    {
      "metadata": {
        "id": "53PngFk37fg8",
        "colab_type": "code",
        "outputId": "5963d640-c186-4293-f813-8266ffbeea4d",
        "colab": {
          "base_uri": "https://localhost:8080/",
          "height": 204
        }
      },
      "cell_type": "code",
      "source": [
        "results.reset_index(drop=True,inplace=True)\n",
        "results.dropna(inplace=True)\n",
        "results.head()\n"
      ],
      "execution_count": 3,
      "outputs": [
        {
          "output_type": "execute_result",
          "data": {
            "text/html": [
              "<div>\n",
              "<style scoped>\n",
              "    .dataframe tbody tr th:only-of-type {\n",
              "        vertical-align: middle;\n",
              "    }\n",
              "\n",
              "    .dataframe tbody tr th {\n",
              "        vertical-align: top;\n",
              "    }\n",
              "\n",
              "    .dataframe thead th {\n",
              "        text-align: right;\n",
              "    }\n",
              "</style>\n",
              "<table border=\"1\" class=\"dataframe\">\n",
              "  <thead>\n",
              "    <tr style=\"text-align: right;\">\n",
              "      <th></th>\n",
              "      <th>Unnamed: 0</th>\n",
              "      <th>Resposta</th>\n",
              "      <th>Target</th>\n",
              "    </tr>\n",
              "  </thead>\n",
              "  <tbody>\n",
              "    <tr>\n",
              "      <th>0</th>\n",
              "      <td>0</td>\n",
              "      <td>0.340001</td>\n",
              "      <td>0.0</td>\n",
              "    </tr>\n",
              "    <tr>\n",
              "      <th>1</th>\n",
              "      <td>1</td>\n",
              "      <td>0.037721</td>\n",
              "      <td>0.0</td>\n",
              "    </tr>\n",
              "    <tr>\n",
              "      <th>2</th>\n",
              "      <td>2</td>\n",
              "      <td>0.127217</td>\n",
              "      <td>0.0</td>\n",
              "    </tr>\n",
              "    <tr>\n",
              "      <th>3</th>\n",
              "      <td>3</td>\n",
              "      <td>0.049010</td>\n",
              "      <td>0.0</td>\n",
              "    </tr>\n",
              "    <tr>\n",
              "      <th>4</th>\n",
              "      <td>4</td>\n",
              "      <td>0.816236</td>\n",
              "      <td>1.0</td>\n",
              "    </tr>\n",
              "  </tbody>\n",
              "</table>\n",
              "</div>"
            ],
            "text/plain": [
              "   Unnamed: 0  Resposta  Target\n",
              "0           0  0.340001     0.0\n",
              "1           1  0.037721     0.0\n",
              "2           2  0.127217     0.0\n",
              "3           3  0.049010     0.0\n",
              "4           4  0.816236     1.0"
            ]
          },
          "metadata": {
            "tags": []
          },
          "execution_count": 3
        }
      ]
    },
    {
      "metadata": {
        "id": "ENfojRqLS9SY",
        "colab_type": "code",
        "colab": {}
      },
      "cell_type": "code",
      "source": [
        "target_positive = results[results['Target'] == 1]\n",
        "target_negative = results[results['Target'] == 0]"
      ],
      "execution_count": 0,
      "outputs": []
    },
    {
      "metadata": {
        "id": "SRShiOhCTc6F",
        "colab_type": "code",
        "outputId": "9772cabd-d6df-4571-fe97-10dcd28d69e4",
        "colab": {
          "base_uri": "https://localhost:8080/",
          "height": 676
        }
      },
      "cell_type": "code",
      "source": [
        "fig, ax = plt.subplots(2, 1, figsize=(8, 11))\n",
        "\n",
        "ax_1 = sns.distplot(target_positive['Resposta'], ax=ax[0])\n",
        "ax_1.set_title('Target Positive values')\n",
        "\n",
        "\n",
        "ax_2 = sns.distplot(target_negative['Resposta'], ax=ax[1])\n",
        "ax_2.set_title('Target Negative values')\n",
        "\n",
        "plt.plot()\n",
        "plt.show()"
      ],
      "execution_count": 5,
      "outputs": [
        {
          "output_type": "display_data",
          "data": {
            "image/png": "[encoded data removed]",
            "text/plain": [
              "<Figure size 576x792 with 2 Axes>"
            ]
          },
          "metadata": {
            "tags": []
          }
        }
      ]
    },
    {
      "metadata": {
        "id": "g4N4sQqsMS6D",
        "colab_type": "code",
        "colab": {}
      },
      "cell_type": "code",
      "source": [
        "def get_positive(tresh_hold = 0.5):\n",
        "  true_positive = target_positive[target_positive['Resposta'] >= tresh_hold]\n",
        "  false_positive = target_positive[target_positive['Resposta'] < tresh_hold] \n",
        "  \n",
        "  return len(true_positive), len(false_positive)"
      ],
      "execution_count": 0,
      "outputs": []
    },
    {
      "metadata": {
        "id": "W5IBR0_9Ubom",
        "colab_type": "code",
        "colab": {}
      },
      "cell_type": "code",
      "source": [
        "def get_negative(tresh_hold = 0.5):\n",
        "  true_negative = target_negative[target_negative['Resposta'] <= tresh_hold]\n",
        "  false_negative = target_negative[target_negative['Resposta'] > tresh_hold] \n",
        "  \n",
        "  return len(true_negative), len(false_negative)"
      ],
      "execution_count": 0,
      "outputs": []
    },
    {
      "metadata": {
        "id": "3ROsTrCFcSH0",
        "colab_type": "code",
        "colab": {}
      },
      "cell_type": "code",
      "source": [
        "'''\n",
        "Calculates:\n",
        "Acuracy\n",
        "Positive and Negative Precision\n",
        "False Positive and False Negative Amount\n",
        "\n",
        "@param true_positive amount of True Positive in the dataset.\n",
        "@oaran true_negative amount of True Negative in the dataset.\n",
        "@param false_positive amount of False Positive in the dataset.\n",
        "@param false_negative amount of False Negative in the dataset.\n",
        "@param positives Total of Positives targets, targets = 1\n",
        "@param negatives Total of Negatives targets, targets = 0\n",
        "@param Threshold Value used to calc the true, false positives and negatives\n",
        "@param debug Default False, if True print all stats\n",
        "\n",
        "'''\n",
        "def calc_stats(true_positive, \n",
        "               true_negative, \n",
        "               false_positive, \n",
        "               false_negative, \n",
        "               positives, \n",
        "               negatives, \n",
        "               threshold, \n",
        "               debug=False):\n",
        "  \n",
        "  acuracy = (true_positive + true_negative)/ (positives + negatives)\n",
        "\n",
        "  precision_positive = true_positive / (true_positive + false_positive)\n",
        "  precision_negative = true_negative / (true_negative + false_negative)\n",
        "\n",
        "  false_positive_amount = false_positive / negatives\n",
        "  false_negative_amount = false_negative / positives\n",
        "  if debug == True:\n",
        "    print('Threshold: '+str(threshold))\n",
        "    print('Accuracy: '+str(acuracy))\n",
        "    print('Positive Precision: '+str(precision_positive))\n",
        "    print('Negative Precision: '+str(precision_negative))\n",
        "    print('Amount False Positives: '+str(false_positive_amount))\n",
        "    print('Amount False Negatives: '+str(false_negative_amount))\n",
        "    print('\\n')\n",
        "  \n",
        "  return acuracy\n"
      ],
      "execution_count": 0,
      "outputs": []
    },
    {
      "metadata": {
        "id": "ACYf5eorieB1",
        "colab_type": "code",
        "outputId": "84226d13-7696-457d-e686-e0aacdf7cae6",
        "colab": {
          "base_uri": "https://localhost:8080/",
          "height": 1513
        }
      },
      "cell_type": "code",
      "source": [
        "threshold = [0.0, \n",
        "             0.1, 0.2, \n",
        "             0.3, 0.4, \n",
        "             0.5, 0.6,\n",
        "             0.7, 0.8,\n",
        "             0.9, 1.0]\n",
        "\n",
        "for t in threshold:\n",
        "  true_positive, false_positive = get_positive(t)\n",
        "  true_negative, false_negative = get_negative(t)\n",
        "\n",
        "  \n",
        "  calc_stats(true_positive, \n",
        "             true_negative, \n",
        "             false_positive, \n",
        "             false_negative, \n",
        "             len(target_positive), \n",
        "             len(target_negative),\n",
        "             t, True)\n",
        "  "
      ],
      "execution_count": 9,
      "outputs": [
        {
          "output_type": "stream",
          "text": [
            "Threshold: 0.0\n",
            "Accuracy: 0.3548387096774194\n",
            "Positive Precision: 1.0\n",
            "Negative Precision: 0.0\n",
            "Amount False Positives: 0.0\n",
            "Amount False Negatives: 1.8181818181818181\n",
            "\n",
            "\n",
            "Threshold: 0.1\n",
            "Accuracy: 0.5483870967741935\n",
            "Positive Precision: 0.9090909090909091\n",
            "Negative Precision: 0.35\n",
            "Amount False Positives: 0.05\n",
            "Amount False Negatives: 1.1818181818181819\n",
            "\n",
            "\n",
            "Threshold: 0.2\n",
            "Accuracy: 0.7419354838709677\n",
            "Positive Precision: 0.9090909090909091\n",
            "Negative Precision: 0.65\n",
            "Amount False Positives: 0.05\n",
            "Amount False Negatives: 0.6363636363636364\n",
            "\n",
            "\n",
            "Threshold: 0.3\n",
            "Accuracy: 0.7096774193548387\n",
            "Positive Precision: 0.7272727272727273\n",
            "Negative Precision: 0.7\n",
            "Amount False Positives: 0.15\n",
            "Amount False Negatives: 0.5454545454545454\n",
            "\n",
            "\n",
            "Threshold: 0.4\n",
            "Accuracy: 0.7741935483870968\n",
            "Positive Precision: 0.6363636363636364\n",
            "Negative Precision: 0.85\n",
            "Amount False Positives: 0.2\n",
            "Amount False Negatives: 0.2727272727272727\n",
            "\n",
            "\n",
            "Threshold: 0.5\n",
            "Accuracy: 0.7419354838709677\n",
            "Positive Precision: 0.5454545454545454\n",
            "Negative Precision: 0.85\n",
            "Amount False Positives: 0.25\n",
            "Amount False Negatives: 0.2727272727272727\n",
            "\n",
            "\n",
            "Threshold: 0.6\n",
            "Accuracy: 0.7096774193548387\n",
            "Positive Precision: 0.36363636363636365\n",
            "Negative Precision: 0.9\n",
            "Amount False Positives: 0.35\n",
            "Amount False Negatives: 0.18181818181818182\n",
            "\n",
            "\n",
            "Threshold: 0.7\n",
            "Accuracy: 0.6774193548387096\n",
            "Positive Precision: 0.18181818181818182\n",
            "Negative Precision: 0.95\n",
            "Amount False Positives: 0.45\n",
            "Amount False Negatives: 0.09090909090909091\n",
            "\n",
            "\n",
            "Threshold: 0.8\n",
            "Accuracy: 0.6774193548387096\n",
            "Positive Precision: 0.09090909090909091\n",
            "Negative Precision: 1.0\n",
            "Amount False Positives: 0.5\n",
            "Amount False Negatives: 0.0\n",
            "\n",
            "\n",
            "Threshold: 0.9\n",
            "Accuracy: 0.6451612903225806\n",
            "Positive Precision: 0.0\n",
            "Negative Precision: 1.0\n",
            "Amount False Positives: 0.55\n",
            "Amount False Negatives: 0.0\n",
            "\n",
            "\n",
            "Threshold: 1.0\n",
            "Accuracy: 0.6451612903225806\n",
            "Positive Precision: 0.0\n",
            "Negative Precision: 1.0\n",
            "Amount False Positives: 0.55\n",
            "Amount False Negatives: 0.0\n",
            "\n",
            "\n"
          ],
          "name": "stdout"
        }
      ]
    },
    {
      "metadata": {
        "id": "DO6k6gEWWktr",
        "colab_type": "code",
        "colab": {}
      },
      "cell_type": "code",
      "source": [
        "tresh_hold = []\n",
        "for it in results['Resposta']:\n",
        "  if it <= 0.7:\n",
        "     tresh_hold.append(0)\n",
        "  else:\n",
        "     tresh_hold.append(1)\n",
        "      \n",
        "\n",
        "matrix_cf = pd.DataFrame(metrics.confusion_matrix(results['Target'], tresh_hold), \n",
        "                         index=['Negative', 'Positive'],\n",
        "                         columns=['True', 'False'])"
      ],
      "execution_count": 0,
      "outputs": []
    },
    {
      "metadata": {
        "id": "cGckRgYwcVnn",
        "colab_type": "code",
        "outputId": "8c4816ba-e1f6-4506-cadd-a5a6e5ea2ac7",
        "colab": {
          "base_uri": "https://localhost:8080/",
          "height": 298
        }
      },
      "cell_type": "code",
      "source": [
        "fig, ax = plt.subplots()\n",
        "ax = sns.heatmap(matrix_cf, annot=True)\n",
        "ax.set_title('Consfuison Matrix')"
      ],
      "execution_count": 11,
      "outputs": [
        {
          "output_type": "execute_result",
          "data": {
            "text/plain": [
              "Text(0.5, 1.0, 'Consfuison Matrix')"
            ]
          },
          "metadata": {
            "tags": []
          },
          "execution_count": 11
        },
        {
          "output_type": "display_data",
          "data": {
            "image/png": "[encoded data removed]",
            "text/plain": [
              "<Figure size 432x288 with 2 Axes>"
            ]
          },
          "metadata": {
            "tags": []
          }
        }
      ]
    },
    {
      "metadata": {
        "id": "wW7Vhw7mhmUB",
        "colab_type": "code",
        "colab": {}
      },
      "cell_type": "code",
      "source": [
        "y = results['Target']\n",
        "scores = results['Resposta']\n",
        "fpr, tpr, thresholds = metrics.roc_curve(y, scores, pos_label=1)\n",
        "roc_auc = metrics.auc(fpr, tpr)"
      ],
      "execution_count": 0,
      "outputs": []
    },
    {
      "metadata": {
        "id": "BBG_0D6WklDk",
        "colab_type": "code",
        "outputId": "46f55309-18fd-45b2-e6d6-50ac4b3847f5",
        "colab": {
          "base_uri": "https://localhost:8080/",
          "height": 295
        }
      },
      "cell_type": "code",
      "source": [
        "plt.title('Receiver Operating Characteristic Curve')\n",
        "plt.plot(fpr, tpr, 'b', label = 'AUC = %0.2f' % roc_auc)\n",
        "plt.legend(loc = 'lower right')\n",
        "\n",
        "plt.plot([0, 1], [0, 1],'r--')\n",
        "plt.xlim([0, 1])\n",
        "plt.ylim([0, 1])\n",
        "plt.ylabel('True Positive Rate')\n",
        "plt.xlabel('False Positive Rate')\n",
        "plt.show()"
      ],
      "execution_count": 13,
      "outputs": [
        {
          "output_type": "display_data",
          "data": {
            "image/png": "[encoded data removed]",
            "text/plain": [
              "<Figure size 432x288 with 1 Axes>"
            ]
          },
          "metadata": {
            "tags": []
          }
        }
      ]
    }
  ]
}