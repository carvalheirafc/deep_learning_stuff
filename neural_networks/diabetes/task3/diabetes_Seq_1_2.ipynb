{
  "nbformat": 4,
  "nbformat_minor": 0,
  "metadata": {
    "colab": {
      "name": "diabetes_Seq_1.2.ipynb",
      "version": "0.3.2",
      "provenance": [],
      "include_colab_link": true
    },
    "kernelspec": {
      "name": "python3",
      "display_name": "Python 3"
    }
  },
  "cells": [
    {
      "cell_type": "markdown",
      "metadata": {
        "id": "view-in-github",
        "colab_type": "text"
      },
      "source": [
        "<a href=\"https://colab.research.google.com/github/carvalheirafc/deep_learning_stuff/blob/master/neural_networks/diabetes/task3/diabetes_Seq_1_2.ipynb\" target=\"_parent\"><img src=\"https://colab.research.google.com/assets/colab-badge.svg\" alt=\"Open In Colab\"/></a>"
      ]
    },
    {
      "metadata": {
        "id": "eY1zeuTc9xVy",
        "colab_type": "text"
      },
      "cell_type": "markdown",
      "source": [
        "# WWWMMMWWMMWM\n"
      ]
    },
    {
      "metadata": {
        "id": "NKsfFlql9w8j",
        "colab_type": "code",
        "colab": {}
      },
      "cell_type": "code",
      "source": [
        "import seaborn as sns\n",
        "import matplotlib.pyplot as plt\n",
        "import numpy as np\n",
        "import pandas as pd\n",
        "\n",
        "\n",
        "from tensorflow.keras.optimizers import Adam, SGD\n",
        "from tensorflow.keras.models import Sequential\n",
        "from tensorflow.keras.layers import Dense\n",
        "from sklearn.model_selection import StratifiedKFold\n",
        "import numpy\n"
      ],
      "execution_count": 0,
      "outputs": []
    },
    {
      "metadata": {
        "id": "RwDcJXbq-VhQ",
        "colab_type": "code",
        "outputId": "192fd9c0-e82e-42cd-e0a8-34cdd9bf1b3a",
        "colab": {
          "base_uri": "https://localhost:8080/",
          "height": 238
        }
      },
      "cell_type": "code",
      "source": [
        "data_url = 'https://raw.githubusercontent.com/carvalheirafc/deep_learning_stuff/master/mlp/diabetes/diabetes_pca_result.csv'\n",
        "\n",
        "df = pd.read_csv(data_url)\n",
        "\n",
        "features = df.drop('Diagnóstico', axis = 1)\n",
        "target = df['Diagnóstico']\n",
        "\n",
        "\n",
        "print('Data Shape:', features.shape)\n",
        "print('Labels/Target:', target.shape)\n",
        "df.describe().transpose()"
      ],
      "execution_count": 0,
      "outputs": [
        {
          "output_type": "stream",
          "text": [
            "Data Shape: (768, 4)\n",
            "Labels/Target: (768,)\n"
          ],
          "name": "stdout"
        },
        {
          "output_type": "execute_result",
          "data": {
            "text/html": [
              "<div>\n",
              "<style scoped>\n",
              "    .dataframe tbody tr th:only-of-type {\n",
              "        vertical-align: middle;\n",
              "    }\n",
              "\n",
              "    .dataframe tbody tr th {\n",
              "        vertical-align: top;\n",
              "    }\n",
              "\n",
              "    .dataframe thead th {\n",
              "        text-align: right;\n",
              "    }\n",
              "</style>\n",
              "<table border=\"1\" class=\"dataframe\">\n",
              "  <thead>\n",
              "    <tr style=\"text-align: right;\">\n",
              "      <th></th>\n",
              "      <th>count</th>\n",
              "      <th>mean</th>\n",
              "      <th>std</th>\n",
              "      <th>min</th>\n",
              "      <th>25%</th>\n",
              "      <th>50%</th>\n",
              "      <th>75%</th>\n",
              "      <th>max</th>\n",
              "    </tr>\n",
              "  </thead>\n",
              "  <tbody>\n",
              "    <tr>\n",
              "      <th>Component 1</th>\n",
              "      <td>768.0</td>\n",
              "      <td>-6.693141e-17</td>\n",
              "      <td>1.711960</td>\n",
              "      <td>-5.587340</td>\n",
              "      <td>-1.027072</td>\n",
              "      <td>0.152931</td>\n",
              "      <td>1.095689</td>\n",
              "      <td>5.963579</td>\n",
              "    </tr>\n",
              "    <tr>\n",
              "      <th>Component 2</th>\n",
              "      <td>768.0</td>\n",
              "      <td>-6.071532e-17</td>\n",
              "      <td>1.318184</td>\n",
              "      <td>-2.955806</td>\n",
              "      <td>-1.007096</td>\n",
              "      <td>-0.225966</td>\n",
              "      <td>0.959128</td>\n",
              "      <td>3.606582</td>\n",
              "    </tr>\n",
              "    <tr>\n",
              "      <th>Component 3</th>\n",
              "      <td>768.0</td>\n",
              "      <td>-3.324887e-17</td>\n",
              "      <td>1.015629</td>\n",
              "      <td>-3.203088</td>\n",
              "      <td>-0.646496</td>\n",
              "      <td>-0.103940</td>\n",
              "      <td>0.549774</td>\n",
              "      <td>4.754503</td>\n",
              "    </tr>\n",
              "    <tr>\n",
              "      <th>Component 4</th>\n",
              "      <td>768.0</td>\n",
              "      <td>2.349105e-18</td>\n",
              "      <td>0.966941</td>\n",
              "      <td>-2.192185</td>\n",
              "      <td>-0.664677</td>\n",
              "      <td>-0.115829</td>\n",
              "      <td>0.543242</td>\n",
              "      <td>4.125987</td>\n",
              "    </tr>\n",
              "    <tr>\n",
              "      <th>Diagnóstico</th>\n",
              "      <td>768.0</td>\n",
              "      <td>3.489583e-01</td>\n",
              "      <td>0.476951</td>\n",
              "      <td>0.000000</td>\n",
              "      <td>0.000000</td>\n",
              "      <td>0.000000</td>\n",
              "      <td>1.000000</td>\n",
              "      <td>1.000000</td>\n",
              "    </tr>\n",
              "  </tbody>\n",
              "</table>\n",
              "</div>"
            ],
            "text/plain": [
              "             count          mean       std       min       25%       50%  \\\n",
              "Component 1  768.0 -6.693141e-17  1.711960 -5.587340 -1.027072  0.152931   \n",
              "Component 2  768.0 -6.071532e-17  1.318184 -2.955806 -1.007096 -0.225966   \n",
              "Component 3  768.0 -3.324887e-17  1.015629 -3.203088 -0.646496 -0.103940   \n",
              "Component 4  768.0  2.349105e-18  0.966941 -2.192185 -0.664677 -0.115829   \n",
              "Diagnóstico  768.0  3.489583e-01  0.476951  0.000000  0.000000  0.000000   \n",
              "\n",
              "                  75%       max  \n",
              "Component 1  1.095689  5.963579  \n",
              "Component 2  0.959128  3.606582  \n",
              "Component 3  0.549774  4.754503  \n",
              "Component 4  0.543242  4.125987  \n",
              "Diagnóstico  1.000000  1.000000  "
            ]
          },
          "metadata": {
            "tags": []
          },
          "execution_count": 2
        }
      ]
    },
    {
      "metadata": {
        "id": "2ECD_bV_A7uD",
        "colab_type": "code",
        "outputId": "75f2df8c-cd3b-449e-a37e-9920b13bae6d",
        "colab": {
          "base_uri": "https://localhost:8080/",
          "height": 88
        }
      },
      "cell_type": "code",
      "source": [
        "network = Sequential()\n",
        "\n",
        "    \n",
        "network.add(Dense(units=32, activation='relu', input_shape=(features.shape[1],),\n",
        "                         kernel_initializer='random_uniform', \n",
        "                         bias_initializer='ones'))\n",
        "\n",
        "    \n",
        "network.add(Dense(units=32, activation='relu'))\n",
        "network.add(Dense(units=1, activation='sigmoid'))"
      ],
      "execution_count": 0,
      "outputs": [
        {
          "output_type": "stream",
          "text": [
            "WARNING:tensorflow:From /usr/local/lib/python3.6/dist-packages/tensorflow/python/ops/resource_variable_ops.py:435: colocate_with (from tensorflow.python.framework.ops) is deprecated and will be removed in a future version.\n",
            "Instructions for updating:\n",
            "Colocations handled automatically by placer.\n"
          ],
          "name": "stdout"
        }
      ]
    },
    {
      "metadata": {
        "id": "Tz2eOYdbEBce",
        "colab_type": "code",
        "colab": {}
      },
      "cell_type": "code",
      "source": [
        "def model_train(optimizer, seed, X, y):\n",
        "  k_fold = StratifiedKFold(n_splits=25, shuffle=True, random_state=seed)\n",
        "  cvscores = []\n",
        "  for train, test in k_fold.split(X, y):\n",
        "  \n",
        "    network.compile(loss='binary_crossentropy', optimizer=optimizer, metrics=['accuracy'])\n",
        "    network.fit(X[train], y[train], epochs=200, batch_size=10, verbose=0)\n",
        "  \n",
        "    scores = network.evaluate(X[test], y[test], verbose=0)\n",
        "    print(scores)\n",
        "    #print(\"%s: %.2f%%\" % (network.metrics_names[1], scores[1]*100))\n",
        "    cvscores.append(scores[1] * 100)\n",
        "\n",
        "  print(\"%.2f%% (+/- %.2f%%)\" % (numpy.mean(cvscores), numpy.std(cvscores)))"
      ],
      "execution_count": 0,
      "outputs": []
    },
    {
      "metadata": {
        "id": "hmNXc9gJIXWK",
        "colab_type": "code",
        "colab": {}
      },
      "cell_type": "code",
      "source": [
        "X = features.values\n",
        "y = target.values\n",
        "\n",
        "seed = 666\n",
        "np.random.seed(seed)"
      ],
      "execution_count": 0,
      "outputs": []
    },
    {
      "metadata": {
        "id": "zNFnt1l9pNvt",
        "colab_type": "code",
        "outputId": "44a819af-6e4f-4a99-f929-667df0893d8a",
        "colab": {
          "base_uri": "https://localhost:8080/",
          "height": 530
        }
      },
      "cell_type": "code",
      "source": [
        "sgd_custom = SGD(lr=0.01, decay=1e-6, momentum=0.9, nesterov=True)\n",
        "model_train(sgd_custom, seed, X, y)"
      ],
      "execution_count": 0,
      "outputs": [
        {
          "output_type": "stream",
          "text": [
            "WARNING:tensorflow:From /usr/local/lib/python3.6/dist-packages/tensorflow/python/ops/math_ops.py:3066: to_int32 (from tensorflow.python.ops.math_ops) is deprecated and will be removed in a future version.\n",
            "Instructions for updating:\n",
            "Use tf.cast instead.\n",
            "[0.46632105112075806, 0.7419355]\n",
            "[0.6564192175865173, 0.7741935]\n",
            "[0.5622454881668091, 0.7741935]\n",
            "[0.9759424924850464, 0.67741936]\n",
            "[0.6981754899024963, 0.7096774]\n",
            "[0.7099910974502563, 0.7419355]\n",
            "[0.5618489384651184, 0.7741935]\n",
            "[1.104785442352295, 0.7096774]\n",
            "[0.3881237208843231, 0.7419355]\n",
            "[0.19641080498695374, 0.9354839]\n",
            "[0.5209327340126038, 0.83870965]\n",
            "[0.49294114112854004, 0.83870965]\n",
            "[0.3572486639022827, 0.9032258]\n",
            "[0.12301262468099594, 0.9354839]\n",
            "[1.0959588289260864, 0.7741935]\n",
            "[0.7419866323471069, 0.83870965]\n",
            "[0.21108947694301605, 0.83870965]\n",
            "[0.9918287992477417, 0.8064516]\n",
            "[0.6622143387794495, 0.93333334]\n",
            "[0.053723469376564026, 0.96666664]\n",
            "[0.7472084760665894, 0.8333333]\n",
            "[0.6727021336555481, 0.9]\n",
            "[0.8498691916465759, 0.8666667]\n",
            "[0.20807071030139923, 0.8333333]\n",
            "[0.1584216207265854, 0.8666667]\n",
            "82.22% (+/- 7.79%)\n"
          ],
          "name": "stdout"
        }
      ]
    },
    {
      "metadata": {
        "id": "0bJ-EkmPbkW_",
        "colab_type": "code",
        "outputId": "75a5c42f-4b6a-42b8-de45-659633ccf73e",
        "colab": {
          "base_uri": "https://localhost:8080/",
          "height": 459
        }
      },
      "cell_type": "code",
      "source": [
        "adam_custom = Adam(lr=0.001, beta_1=0.9, beta_2=0.999, epsilon=1e-8, decay=0.0, amsgrad=False)\n",
        "model_train(adam_custom, seed, X, y)"
      ],
      "execution_count": 0,
      "outputs": [
        {
          "output_type": "stream",
          "text": [
            "[0.06962582468986511, 0.9354839]\n",
            "[0.17083370685577393, 0.9354839]\n",
            "[0.23625974357128143, 0.87096775]\n",
            "[0.2971172332763672, 0.87096775]\n",
            "[0.09247619658708572, 0.9032258]\n",
            "[0.13135899603366852, 0.9677419]\n",
            "[0.15991009771823883, 0.9354839]\n",
            "[0.1382627785205841, 0.9032258]\n",
            "[0.5428992509841919, 0.8064516]\n",
            "[0.545771062374115, 0.9354839]\n",
            "[0.04730667546391487, 0.9677419]\n",
            "[0.15460236370563507, 0.9032258]\n",
            "[0.2208891063928604, 0.9354839]\n",
            "[0.04555103927850723, 0.9677419]\n",
            "[1.0698182582855225, 0.87096775]\n",
            "[0.32396748661994934, 0.87096775]\n",
            "[0.09520111978054047, 0.9354839]\n",
            "[0.4344819486141205, 0.9354839]\n",
            "[0.032072678208351135, 1.0]\n",
            "[0.02999321185052395, 1.0]\n",
            "[0.1344035565853119, 0.93333334]\n",
            "[0.16002744436264038, 0.9]\n",
            "[0.13363052904605865, 0.9]\n",
            "[0.1659131795167923, 0.8666667]\n",
            "[0.22085736691951752, 0.8666667]\n",
            "91.67% (+/- 4.52%)\n"
          ],
          "name": "stdout"
        }
      ]
    }
  ]
}