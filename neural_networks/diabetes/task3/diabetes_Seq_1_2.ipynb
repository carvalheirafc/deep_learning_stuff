{
  "nbformat": 4,
  "nbformat_minor": 0,
  "metadata": {
    "colab": {
      "name": "diabetes_Seq_1.2.ipynb",
      "version": "0.3.2",
      "provenance": [],
      "toc_visible": true,
      "include_colab_link": true
    },
    "kernelspec": {
      "name": "python3",
      "display_name": "Python 3"
    }
  },
  "cells": [
    {
      "cell_type": "markdown",
      "metadata": {
        "id": "view-in-github",
        "colab_type": "text"
      },
      "source": [
        "<a href=\"https://colab.research.google.com/github/carvalheirafc/deep_learning_stuff/blob/master/neural_networks/diabetes/task3/diabetes_Seq_1_2.ipynb\" target=\"_parent\"><img src=\"https://colab.research.google.com/assets/colab-badge.svg\" alt=\"Open In Colab\"/></a>"
      ]
    },
    {
      "metadata": {
        "id": "eY1zeuTc9xVy",
        "colab_type": "text"
      },
      "cell_type": "markdown",
      "source": [
        "# WWWMMMWWMMWM\n"
      ]
    },
    {
      "metadata": {
        "id": "NKsfFlql9w8j",
        "colab_type": "code",
        "colab": {}
      },
      "cell_type": "code",
      "source": [
        "import seaborn as sns\n",
        "import matplotlib.pyplot as plt\n",
        "import numpy as np\n",
        "import pandas as pd\n",
        "\n",
        "import tensorflow.keras.metrics as metrics\n",
        "from tensorflow.keras.optimizers import Adam, SGD\n",
        "from tensorflow.keras.models import Sequential\n",
        "from tensorflow.keras.layers import Dense\n",
        "from sklearn.model_selection import StratifiedKFold\n",
        "import numpy\n"
      ],
      "execution_count": 0,
      "outputs": []
    },
    {
      "metadata": {
        "id": "RwDcJXbq-VhQ",
        "colab_type": "code",
        "outputId": "eed21189-1ec4-40ee-e712-430e7eea9023",
        "colab": {
          "base_uri": "https://localhost:8080/",
          "height": 238
        }
      },
      "cell_type": "code",
      "source": [
        "data_url = 'https://raw.githubusercontent.com/carvalheirafc/deep_learning_stuff/master/neural_networks/diabetes/diabetes_pca_result.csv'\n",
        "\n",
        "df = pd.read_csv(data_url)\n",
        "\n",
        "features = df.drop('Diagnóstico', axis = 1)\n",
        "target = df['Diagnóstico']\n",
        "\n",
        "\n",
        "print('Data Shape:', features.shape)\n",
        "print('Labels/Target:', target.shape)\n",
        "df.describe().transpose()"
      ],
      "execution_count": 2,
      "outputs": [
        {
          "output_type": "stream",
          "text": [
            "Data Shape: (768, 4)\n",
            "Labels/Target: (768,)\n"
          ],
          "name": "stdout"
        },
        {
          "output_type": "execute_result",
          "data": {
            "text/html": [
              "<div>\n",
              "<style scoped>\n",
              "    .dataframe tbody tr th:only-of-type {\n",
              "        vertical-align: middle;\n",
              "    }\n",
              "\n",
              "    .dataframe tbody tr th {\n",
              "        vertical-align: top;\n",
              "    }\n",
              "\n",
              "    .dataframe thead th {\n",
              "        text-align: right;\n",
              "    }\n",
              "</style>\n",
              "<table border=\"1\" class=\"dataframe\">\n",
              "  <thead>\n",
              "    <tr style=\"text-align: right;\">\n",
              "      <th></th>\n",
              "      <th>count</th>\n",
              "      <th>mean</th>\n",
              "      <th>std</th>\n",
              "      <th>min</th>\n",
              "      <th>25%</th>\n",
              "      <th>50%</th>\n",
              "      <th>75%</th>\n",
              "      <th>max</th>\n",
              "    </tr>\n",
              "  </thead>\n",
              "  <tbody>\n",
              "    <tr>\n",
              "      <th>Component 1</th>\n",
              "      <td>768.0</td>\n",
              "      <td>-6.693141e-17</td>\n",
              "      <td>1.711960</td>\n",
              "      <td>-5.587340</td>\n",
              "      <td>-1.027072</td>\n",
              "      <td>0.152931</td>\n",
              "      <td>1.095689</td>\n",
              "      <td>5.963579</td>\n",
              "    </tr>\n",
              "    <tr>\n",
              "      <th>Component 2</th>\n",
              "      <td>768.0</td>\n",
              "      <td>-6.071532e-17</td>\n",
              "      <td>1.318184</td>\n",
              "      <td>-2.955806</td>\n",
              "      <td>-1.007096</td>\n",
              "      <td>-0.225966</td>\n",
              "      <td>0.959128</td>\n",
              "      <td>3.606582</td>\n",
              "    </tr>\n",
              "    <tr>\n",
              "      <th>Component 3</th>\n",
              "      <td>768.0</td>\n",
              "      <td>-3.324887e-17</td>\n",
              "      <td>1.015629</td>\n",
              "      <td>-3.203088</td>\n",
              "      <td>-0.646496</td>\n",
              "      <td>-0.103940</td>\n",
              "      <td>0.549774</td>\n",
              "      <td>4.754503</td>\n",
              "    </tr>\n",
              "    <tr>\n",
              "      <th>Component 4</th>\n",
              "      <td>768.0</td>\n",
              "      <td>2.349105e-18</td>\n",
              "      <td>0.966941</td>\n",
              "      <td>-2.192185</td>\n",
              "      <td>-0.664677</td>\n",
              "      <td>-0.115829</td>\n",
              "      <td>0.543242</td>\n",
              "      <td>4.125987</td>\n",
              "    </tr>\n",
              "    <tr>\n",
              "      <th>Diagnóstico</th>\n",
              "      <td>768.0</td>\n",
              "      <td>3.489583e-01</td>\n",
              "      <td>0.476951</td>\n",
              "      <td>0.000000</td>\n",
              "      <td>0.000000</td>\n",
              "      <td>0.000000</td>\n",
              "      <td>1.000000</td>\n",
              "      <td>1.000000</td>\n",
              "    </tr>\n",
              "  </tbody>\n",
              "</table>\n",
              "</div>"
            ],
            "text/plain": [
              "             count          mean       std       min       25%       50%  \\\n",
              "Component 1  768.0 -6.693141e-17  1.711960 -5.587340 -1.027072  0.152931   \n",
              "Component 2  768.0 -6.071532e-17  1.318184 -2.955806 -1.007096 -0.225966   \n",
              "Component 3  768.0 -3.324887e-17  1.015629 -3.203088 -0.646496 -0.103940   \n",
              "Component 4  768.0  2.349105e-18  0.966941 -2.192185 -0.664677 -0.115829   \n",
              "Diagnóstico  768.0  3.489583e-01  0.476951  0.000000  0.000000  0.000000   \n",
              "\n",
              "                  75%       max  \n",
              "Component 1  1.095689  5.963579  \n",
              "Component 2  0.959128  3.606582  \n",
              "Component 3  0.549774  4.754503  \n",
              "Component 4  0.543242  4.125987  \n",
              "Diagnóstico  1.000000  1.000000  "
            ]
          },
          "metadata": {
            "tags": []
          },
          "execution_count": 2
        }
      ]
    },
    {
      "metadata": {
        "id": "2ECD_bV_A7uD",
        "colab_type": "code",
        "outputId": "5bff8c44-3ba0-4420-9a42-cb3c3e644f1d",
        "colab": {
          "base_uri": "https://localhost:8080/",
          "height": 88
        }
      },
      "cell_type": "code",
      "source": [
        "network = Sequential()\n",
        "\n",
        "    \n",
        "network.add(Dense(units=32, activation='relu', input_shape=(features.shape[1],),\n",
        "                         kernel_initializer='random_uniform', \n",
        "                         bias_initializer='ones'))\n",
        "\n",
        "    \n",
        "network.add(Dense(units=32, activation='relu'))\n",
        "network.add(Dense(units=1, activation='sigmoid'))"
      ],
      "execution_count": 3,
      "outputs": [
        {
          "output_type": "stream",
          "text": [
            "WARNING:tensorflow:From /usr/local/lib/python3.6/dist-packages/tensorflow/python/ops/resource_variable_ops.py:435: colocate_with (from tensorflow.python.framework.ops) is deprecated and will be removed in a future version.\n",
            "Instructions for updating:\n",
            "Colocations handled automatically by placer.\n"
          ],
          "name": "stdout"
        }
      ]
    },
    {
      "metadata": {
        "id": "Tz2eOYdbEBce",
        "colab_type": "code",
        "colab": {}
      },
      "cell_type": "code",
      "source": [
        "def model_train(optimizer, seed, X, y):\n",
        "  k_fold = StratifiedKFold(n_splits=25, shuffle=True, random_state=seed)\n",
        "  cvscores = []\n",
        "  prediction_acc = []\n",
        "  \n",
        "  network.compile(loss='mse', optimizer=optimizer, metrics=['accuracy', 'mse'])\n",
        "  X_train = []\n",
        "  for train, test in k_fold.split(X, y):\n",
        "    X_train.append(X[train])\n",
        "    history = network.fit(X[train], y[train], epochs=50, batch_size=10, verbose=0)\n",
        "  \n",
        "    scores = network.evaluate(X[test], y[test], verbose=2)\n",
        "    prediction = network.predict(X[test])\n",
        "    \n",
        "    print(scores)\n",
        "    \n",
        "    prediction_acc.append((prediction, y[test]))\n",
        "    cvscores.append(scores[1] * 100)\n",
        "\n",
        "  print(\"%.2f%% (+/- %.2f%%)\" % (numpy.mean(cvscores), numpy.std(cvscores)))\n",
        "  return history, prediction_acc"
      ],
      "execution_count": 0,
      "outputs": []
    },
    {
      "metadata": {
        "id": "hmNXc9gJIXWK",
        "colab_type": "code",
        "colab": {}
      },
      "cell_type": "code",
      "source": [
        "X = features.values\n",
        "y = target.values\n",
        "\n",
        "seed = 666\n",
        "np.random.seed(seed)"
      ],
      "execution_count": 0,
      "outputs": []
    },
    {
      "metadata": {
        "id": "zNFnt1l9pNvt",
        "colab_type": "code",
        "colab": {}
      },
      "cell_type": "code",
      "source": [
        "sgd_custom = SGD(lr=0.01, decay=1e-6, momentum=0.9, nesterov=True)\n",
        "#model_train(sgd_custom, seed, X, y)"
      ],
      "execution_count": 0,
      "outputs": []
    },
    {
      "metadata": {
        "id": "0bJ-EkmPbkW_",
        "colab_type": "code",
        "outputId": "680c49ee-c320-4ffa-e54e-e2a19c2fd311",
        "colab": {
          "base_uri": "https://localhost:8080/",
          "height": 1006
        }
      },
      "cell_type": "code",
      "source": [
        "adam_custom = Adam(lr=0.001, beta_1=0.9, beta_2=0.999, epsilon=1e-8, decay=0.0, amsgrad=False)\n",
        "adam_model_history, predictions = model_train(adam_custom, seed, X, y)"
      ],
      "execution_count": 7,
      "outputs": [
        {
          "output_type": "stream",
          "text": [
            "WARNING:tensorflow:From /usr/local/lib/python3.6/dist-packages/tensorflow/python/keras/utils/losses_utils.py:170: to_float (from tensorflow.python.ops.math_ops) is deprecated and will be removed in a future version.\n",
            "Instructions for updating:\n",
            "Use tf.cast instead.\n",
            "WARNING:tensorflow:From /usr/local/lib/python3.6/dist-packages/tensorflow/python/ops/math_ops.py:3066: to_int32 (from tensorflow.python.ops.math_ops) is deprecated and will be removed in a future version.\n",
            "Instructions for updating:\n",
            "Use tf.cast instead.\n",
            " - 0s - loss: 0.1606 - acc: 0.7419 - mean_squared_error: 0.1606\n",
            "[0.16059918701648712, 0.7419355, 0.16059919]\n",
            " - 0s - loss: 0.1772 - acc: 0.7419 - mean_squared_error: 0.1772\n",
            "[0.177234947681427, 0.7419355, 0.17723495]\n",
            " - 0s - loss: 0.2089 - acc: 0.7097 - mean_squared_error: 0.2089\n",
            "[0.2088920772075653, 0.7096774, 0.20889208]\n",
            " - 0s - loss: 0.2195 - acc: 0.6452 - mean_squared_error: 0.2195\n",
            "[0.2195013165473938, 0.6451613, 0.21950132]\n",
            " - 0s - loss: 0.1601 - acc: 0.7419 - mean_squared_error: 0.1601\n",
            "[0.16010500490665436, 0.7419355, 0.160105]\n",
            " - 0s - loss: 0.1321 - acc: 0.8387 - mean_squared_error: 0.1321\n",
            "[0.1320735365152359, 0.83870965, 0.13207354]\n",
            " - 0s - loss: 0.1698 - acc: 0.7097 - mean_squared_error: 0.1698\n",
            "[0.16976308822631836, 0.7096774, 0.16976309]\n",
            " - 0s - loss: 0.1955 - acc: 0.7419 - mean_squared_error: 0.1955\n",
            "[0.19546626508235931, 0.7419355, 0.19546627]\n",
            " - 0s - loss: 0.1134 - acc: 0.8710 - mean_squared_error: 0.1134\n",
            "[0.11337151378393173, 0.87096775, 0.113371514]\n",
            " - 0s - loss: 0.0673 - acc: 0.9355 - mean_squared_error: 0.0673\n",
            "[0.06730838865041733, 0.9354839, 0.06730839]\n",
            " - 0s - loss: 0.1187 - acc: 0.8710 - mean_squared_error: 0.1187\n",
            "[0.11869098246097565, 0.87096775, 0.11869098]\n",
            " - 0s - loss: 0.1323 - acc: 0.8710 - mean_squared_error: 0.1323\n",
            "[0.13227447867393494, 0.87096775, 0.13227448]\n",
            " - 0s - loss: 0.1514 - acc: 0.7742 - mean_squared_error: 0.1514\n",
            "[0.15139584243297577, 0.7741935, 0.15139584]\n",
            " - 0s - loss: 0.1055 - acc: 0.8065 - mean_squared_error: 0.1055\n",
            "[0.1055012196302414, 0.8064516, 0.10550122]\n",
            " - 0s - loss: 0.1653 - acc: 0.7419 - mean_squared_error: 0.1653\n",
            "[0.1652996689081192, 0.7419355, 0.16529967]\n",
            " - 0s - loss: 0.1693 - acc: 0.7419 - mean_squared_error: 0.1693\n",
            "[0.16933773458003998, 0.7419355, 0.16933773]\n",
            " - 0s - loss: 0.0824 - acc: 0.9355 - mean_squared_error: 0.0824\n",
            "[0.08239954710006714, 0.9354839, 0.08239955]\n",
            " - 0s - loss: 0.1407 - acc: 0.7742 - mean_squared_error: 0.1407\n",
            "[0.14074593782424927, 0.7741935, 0.14074594]\n",
            " - 0s - loss: 0.1269 - acc: 0.8333 - mean_squared_error: 0.1269\n",
            "[0.12693053483963013, 0.8333333, 0.12693053]\n",
            " - 0s - loss: 0.0549 - acc: 0.8667 - mean_squared_error: 0.0549\n",
            "[0.05487241968512535, 0.8666667, 0.05487242]\n",
            " - 0s - loss: 0.1476 - acc: 0.7333 - mean_squared_error: 0.1476\n",
            "[0.14757953584194183, 0.73333335, 0.14757954]\n",
            " - 0s - loss: 0.1071 - acc: 0.8333 - mean_squared_error: 0.1071\n",
            "[0.10712728649377823, 0.8333333, 0.10712729]\n",
            " - 0s - loss: 0.1092 - acc: 0.8667 - mean_squared_error: 0.1092\n",
            "[0.10915449261665344, 0.8666667, 0.10915449]\n",
            " - 0s - loss: 0.0828 - acc: 0.9000 - mean_squared_error: 0.0828\n",
            "[0.0828276202082634, 0.9, 0.08282762]\n",
            " - 0s - loss: 0.1115 - acc: 0.9000 - mean_squared_error: 0.1115\n",
            "[0.11148319393396378, 0.9, 0.111483194]\n",
            "80.51% (+/- 7.75%)\n"
          ],
          "name": "stdout"
        }
      ]
    },
    {
      "metadata": {
        "id": "GVBCS4pI8y2T",
        "colab_type": "code",
        "colab": {}
      },
      "cell_type": "code",
      "source": [
        "score_df = pd.DataFrame(predictions)\n",
        "item for sublist in l for item in sublist"
      ],
      "execution_count": 0,
      "outputs": []
    },
    {
      "metadata": {
        "id": "aYiPDIHxTw31",
        "colab_type": "code",
        "colab": {}
      },
      "cell_type": "code",
      "source": [
        "\n",
        "\n",
        "d = {'Resposta': np.array(predictions[1][0]).flatten(), \n",
        "     'Target': np.array(predictions[1][1]).flatten()}\n",
        "\n",
        "df = pd.DataFrame(data=d)\n",
        "df.head()\n",
        "df.to_csv('./diabetes_prediciton.csv')\n"
      ],
      "execution_count": 0,
      "outputs": []
    }
  ]
}