{
  "nbformat": 4,
  "nbformat_minor": 0,
  "metadata": {
    "colab": {
      "name": "diabetes_Seq_1.2.ipynb",
      "version": "0.3.2",
      "provenance": [],
      "toc_visible": true,
      "include_colab_link": true
    },
    "kernelspec": {
      "name": "python3",
      "display_name": "Python 3"
    }
  },
  "cells": [
    {
      "cell_type": "markdown",
      "metadata": {
        "id": "view-in-github",
        "colab_type": "text"
      },
      "source": [
        "<a href=\"https://colab.research.google.com/github/carvalheirafc/deep_learning_stuff/blob/master/neural_networks/diabetes/task3/diabetes_Seq_1_2.ipynb\" target=\"_parent\"><img src=\"https://colab.research.google.com/assets/colab-badge.svg\" alt=\"Open In Colab\"/></a>"
      ]
    },
    {
      "metadata": {
        "id": "eY1zeuTc9xVy",
        "colab_type": "text"
      },
      "cell_type": "markdown",
      "source": [
        "# WWWMMMWWMMWM\n"
      ]
    },
    {
      "metadata": {
        "id": "NKsfFlql9w8j",
        "colab_type": "code",
        "colab": {}
      },
      "cell_type": "code",
      "source": [
        "import seaborn as sns\n",
        "import matplotlib.pyplot as plt\n",
        "import numpy as np\n",
        "import pandas as pd\n",
        "\n",
        "import tensorflow.keras.metrics as metrics\n",
        "from tensorflow.keras.optimizers import Adam, SGD\n",
        "from tensorflow.keras.models import Sequential\n",
        "from tensorflow.keras.layers import Dense\n",
        "from sklearn.model_selection import StratifiedKFold\n",
        "import numpy\n"
      ],
      "execution_count": 0,
      "outputs": []
    },
    {
      "metadata": {
        "id": "RwDcJXbq-VhQ",
        "colab_type": "code",
        "outputId": "0970713f-01ce-4962-9d96-5f8d34bc7f89",
        "colab": {
          "base_uri": "https://localhost:8080/",
          "height": 238
        }
      },
      "cell_type": "code",
      "source": [
        "data_url = 'https://raw.githubusercontent.com/carvalheirafc/deep_learning_stuff/master/neural_networks/diabetes/diabetes_pca_result.csv'\n",
        "\n",
        "df = pd.read_csv(data_url)\n",
        "\n",
        "features = df.drop('Diagnóstico', axis = 1)\n",
        "target = df['Diagnóstico']\n",
        "\n",
        "\n",
        "print('Data Shape:', features.shape)\n",
        "print('Labels/Target:', target.shape)\n",
        "df.describe().transpose()"
      ],
      "execution_count": 2,
      "outputs": [
        {
          "output_type": "stream",
          "text": [
            "Data Shape: (768, 4)\n",
            "Labels/Target: (768,)\n"
          ],
          "name": "stdout"
        },
        {
          "output_type": "execute_result",
          "data": {
            "text/html": [
              "<div>\n",
              "<style scoped>\n",
              "    .dataframe tbody tr th:only-of-type {\n",
              "        vertical-align: middle;\n",
              "    }\n",
              "\n",
              "    .dataframe tbody tr th {\n",
              "        vertical-align: top;\n",
              "    }\n",
              "\n",
              "    .dataframe thead th {\n",
              "        text-align: right;\n",
              "    }\n",
              "</style>\n",
              "<table border=\"1\" class=\"dataframe\">\n",
              "  <thead>\n",
              "    <tr style=\"text-align: right;\">\n",
              "      <th></th>\n",
              "      <th>count</th>\n",
              "      <th>mean</th>\n",
              "      <th>std</th>\n",
              "      <th>min</th>\n",
              "      <th>25%</th>\n",
              "      <th>50%</th>\n",
              "      <th>75%</th>\n",
              "      <th>max</th>\n",
              "    </tr>\n",
              "  </thead>\n",
              "  <tbody>\n",
              "    <tr>\n",
              "      <th>Component 1</th>\n",
              "      <td>768.0</td>\n",
              "      <td>-6.693141e-17</td>\n",
              "      <td>1.711960</td>\n",
              "      <td>-5.587340</td>\n",
              "      <td>-1.027072</td>\n",
              "      <td>0.152931</td>\n",
              "      <td>1.095689</td>\n",
              "      <td>5.963579</td>\n",
              "    </tr>\n",
              "    <tr>\n",
              "      <th>Component 2</th>\n",
              "      <td>768.0</td>\n",
              "      <td>-6.071532e-17</td>\n",
              "      <td>1.318184</td>\n",
              "      <td>-2.955806</td>\n",
              "      <td>-1.007096</td>\n",
              "      <td>-0.225966</td>\n",
              "      <td>0.959128</td>\n",
              "      <td>3.606582</td>\n",
              "    </tr>\n",
              "    <tr>\n",
              "      <th>Component 3</th>\n",
              "      <td>768.0</td>\n",
              "      <td>-3.324887e-17</td>\n",
              "      <td>1.015629</td>\n",
              "      <td>-3.203088</td>\n",
              "      <td>-0.646496</td>\n",
              "      <td>-0.103940</td>\n",
              "      <td>0.549774</td>\n",
              "      <td>4.754503</td>\n",
              "    </tr>\n",
              "    <tr>\n",
              "      <th>Component 4</th>\n",
              "      <td>768.0</td>\n",
              "      <td>2.349105e-18</td>\n",
              "      <td>0.966941</td>\n",
              "      <td>-2.192185</td>\n",
              "      <td>-0.664677</td>\n",
              "      <td>-0.115829</td>\n",
              "      <td>0.543242</td>\n",
              "      <td>4.125987</td>\n",
              "    </tr>\n",
              "    <tr>\n",
              "      <th>Diagnóstico</th>\n",
              "      <td>768.0</td>\n",
              "      <td>3.489583e-01</td>\n",
              "      <td>0.476951</td>\n",
              "      <td>0.000000</td>\n",
              "      <td>0.000000</td>\n",
              "      <td>0.000000</td>\n",
              "      <td>1.000000</td>\n",
              "      <td>1.000000</td>\n",
              "    </tr>\n",
              "  </tbody>\n",
              "</table>\n",
              "</div>"
            ],
            "text/plain": [
              "             count          mean       std       min       25%       50%  \\\n",
              "Component 1  768.0 -6.693141e-17  1.711960 -5.587340 -1.027072  0.152931   \n",
              "Component 2  768.0 -6.071532e-17  1.318184 -2.955806 -1.007096 -0.225966   \n",
              "Component 3  768.0 -3.324887e-17  1.015629 -3.203088 -0.646496 -0.103940   \n",
              "Component 4  768.0  2.349105e-18  0.966941 -2.192185 -0.664677 -0.115829   \n",
              "Diagnóstico  768.0  3.489583e-01  0.476951  0.000000  0.000000  0.000000   \n",
              "\n",
              "                  75%       max  \n",
              "Component 1  1.095689  5.963579  \n",
              "Component 2  0.959128  3.606582  \n",
              "Component 3  0.549774  4.754503  \n",
              "Component 4  0.543242  4.125987  \n",
              "Diagnóstico  1.000000  1.000000  "
            ]
          },
          "metadata": {
            "tags": []
          },
          "execution_count": 2
        }
      ]
    },
    {
      "metadata": {
        "id": "2ECD_bV_A7uD",
        "colab_type": "code",
        "outputId": "73f1f7fb-8b2a-46a9-9f22-a55b578aa56c",
        "colab": {
          "base_uri": "https://localhost:8080/",
          "height": 88
        }
      },
      "cell_type": "code",
      "source": [
        "network = Sequential()\n",
        "\n",
        "    \n",
        "network.add(Dense(units=32, activation='relu', input_shape=(features.shape[1],),\n",
        "                         kernel_initializer='random_uniform', \n",
        "                         bias_initializer='ones'))\n",
        "\n",
        "    \n",
        "network.add(Dense(units=32, activation='relu'))\n",
        "network.add(Dense(units=1, activation='sigmoid'))"
      ],
      "execution_count": 3,
      "outputs": [
        {
          "output_type": "stream",
          "text": [
            "WARNING:tensorflow:From /usr/local/lib/python3.6/dist-packages/tensorflow/python/ops/resource_variable_ops.py:435: colocate_with (from tensorflow.python.framework.ops) is deprecated and will be removed in a future version.\n",
            "Instructions for updating:\n",
            "Colocations handled automatically by placer.\n"
          ],
          "name": "stdout"
        }
      ]
    },
    {
      "metadata": {
        "id": "Tz2eOYdbEBce",
        "colab_type": "code",
        "colab": {}
      },
      "cell_type": "code",
      "source": [
        "def model_train_predict(optimizer, seed, X, y):\n",
        "  k_fold = StratifiedKFold(n_splits=25, shuffle=True, random_state=seed)\n",
        "  cvscores = []\n",
        "  class_prediction, y_test = [], []\n",
        "  \n",
        "  network.compile(loss='mse', optimizer=optimizer, metrics=['accuracy', 'mse'])\n",
        "  \n",
        "  for train, test in k_fold.split(X, y):\n",
        "    history = network.fit(X[train], y[train], epochs=50, batch_size=10, verbose=0)\n",
        "  \n",
        "    scores = network.evaluate(X[test], y[test], verbose=1)\n",
        "    class_prediction.append(network.predict_classes(X[test]))\n",
        "    y_test.append(y[test])\n",
        "    \n",
        "    print(scores)\n",
        "    cvscores.append(scores[1] * 100)\n",
        "\n",
        "  print(\"%.2f%% (+/- %.2f%%)\" % (numpy.mean(cvscores), numpy.std(cvscores)))\n",
        "  return history, class_prediction, y_test"
      ],
      "execution_count": 0,
      "outputs": []
    },
    {
      "metadata": {
        "id": "hmNXc9gJIXWK",
        "colab_type": "code",
        "colab": {}
      },
      "cell_type": "code",
      "source": [
        "X = features.values\n",
        "y = target.values\n",
        "seed = 666\n",
        "np.random.seed(seed)"
      ],
      "execution_count": 0,
      "outputs": []
    },
    {
      "metadata": {
        "id": "zNFnt1l9pNvt",
        "colab_type": "code",
        "colab": {}
      },
      "cell_type": "code",
      "source": [
        "#sgd_custom = SGD(lr=0.01, decay=1e-6, momentum=0.9, nesterov=True)\n",
        "#model_train(sgd_custom, seed, X, y)"
      ],
      "execution_count": 0,
      "outputs": []
    },
    {
      "metadata": {
        "id": "0bJ-EkmPbkW_",
        "colab_type": "code",
        "outputId": "8269a868-6aba-4b0f-80d7-0a89323fbeab",
        "colab": {
          "base_uri": "https://localhost:8080/",
          "height": 1006
        }
      },
      "cell_type": "code",
      "source": [
        "adam_custom = Adam(lr=0.001, beta_1=0.9, beta_2=0.999, epsilon=1e-8, decay=0.0, amsgrad=False)\n",
        "adam_model_history, pred, y_t = model_train_predict(adam_custom, seed, X, y)"
      ],
      "execution_count": 7,
      "outputs": [
        {
          "output_type": "stream",
          "text": [
            "WARNING:tensorflow:From /usr/local/lib/python3.6/dist-packages/tensorflow/python/keras/utils/losses_utils.py:170: to_float (from tensorflow.python.ops.math_ops) is deprecated and will be removed in a future version.\n",
            "Instructions for updating:\n",
            "Use tf.cast instead.\n",
            "WARNING:tensorflow:From /usr/local/lib/python3.6/dist-packages/tensorflow/python/ops/math_ops.py:3066: to_int32 (from tensorflow.python.ops.math_ops) is deprecated and will be removed in a future version.\n",
            "Instructions for updating:\n",
            "Use tf.cast instead.\n",
            "31/31 [==============================] - 0s 1ms/sample - loss: 0.1654 - acc: 0.7419 - mean_squared_error: 0.1654\n",
            "[0.16543038189411163, 0.7419355, 0.16543038]\n",
            "31/31 [==============================] - 0s 24us/sample - loss: 0.1734 - acc: 0.7419 - mean_squared_error: 0.1734\n",
            "[0.1734274923801422, 0.7419355, 0.17342749]\n",
            "31/31 [==============================] - 0s 22us/sample - loss: 0.2070 - acc: 0.7097 - mean_squared_error: 0.2070\n",
            "[0.20702531933784485, 0.7096774, 0.20702532]\n",
            "31/31 [==============================] - 0s 23us/sample - loss: 0.2275 - acc: 0.5806 - mean_squared_error: 0.2275\n",
            "[0.22752122581005096, 0.58064514, 0.22752123]\n",
            "31/31 [==============================] - 0s 24us/sample - loss: 0.1454 - acc: 0.7742 - mean_squared_error: 0.1454\n",
            "[0.14544951915740967, 0.7741935, 0.14544952]\n",
            "31/31 [==============================] - 0s 23us/sample - loss: 0.1313 - acc: 0.8710 - mean_squared_error: 0.1313\n",
            "[0.1312897801399231, 0.87096775, 0.13128978]\n",
            "31/31 [==============================] - 0s 23us/sample - loss: 0.1627 - acc: 0.7742 - mean_squared_error: 0.1627\n",
            "[0.16272474825382233, 0.7741935, 0.16272475]\n",
            "31/31 [==============================] - 0s 23us/sample - loss: 0.1900 - acc: 0.6774 - mean_squared_error: 0.1900\n",
            "[0.18999774754047394, 0.67741936, 0.18999775]\n",
            "31/31 [==============================] - 0s 27us/sample - loss: 0.1848 - acc: 0.6774 - mean_squared_error: 0.1848\n",
            "[0.18484915792942047, 0.67741936, 0.18484916]\n",
            "31/31 [==============================] - 0s 20us/sample - loss: 0.1026 - acc: 0.8710 - mean_squared_error: 0.1026\n",
            "[0.1025647222995758, 0.87096775, 0.10256472]\n",
            "31/31 [==============================] - 0s 23us/sample - loss: 0.1248 - acc: 0.8065 - mean_squared_error: 0.1248\n",
            "[0.1247681975364685, 0.8064516, 0.1247682]\n",
            "31/31 [==============================] - 0s 23us/sample - loss: 0.1650 - acc: 0.7742 - mean_squared_error: 0.1650\n",
            "[0.1649562120437622, 0.7741935, 0.16495621]\n",
            "31/31 [==============================] - 0s 21us/sample - loss: 0.1586 - acc: 0.8065 - mean_squared_error: 0.1586\n",
            "[0.15855509042739868, 0.8064516, 0.15855509]\n",
            "31/31 [==============================] - 0s 21us/sample - loss: 0.1043 - acc: 0.8387 - mean_squared_error: 0.1043\n",
            "[0.1042838767170906, 0.83870965, 0.10428388]\n",
            "31/31 [==============================] - 0s 23us/sample - loss: 0.1289 - acc: 0.8065 - mean_squared_error: 0.1289\n",
            "[0.1289064884185791, 0.8064516, 0.12890649]\n",
            "31/31 [==============================] - 0s 23us/sample - loss: 0.1440 - acc: 0.7419 - mean_squared_error: 0.1440\n",
            "[0.14403527975082397, 0.7419355, 0.14403528]\n",
            "31/31 [==============================] - 0s 23us/sample - loss: 0.1192 - acc: 0.8065 - mean_squared_error: 0.1192\n",
            "[0.11918669193983078, 0.8064516, 0.11918669]\n",
            "31/31 [==============================] - 0s 20us/sample - loss: 0.1161 - acc: 0.8710 - mean_squared_error: 0.1161\n",
            "[0.11608849465847015, 0.87096775, 0.116088495]\n",
            "30/30 [==============================] - 0s 24us/sample - loss: 0.0969 - acc: 0.8667 - mean_squared_error: 0.0969\n",
            "[0.09691335260868073, 0.8666667, 0.09691335]\n",
            "30/30 [==============================] - 0s 21us/sample - loss: 0.0548 - acc: 0.9000 - mean_squared_error: 0.0548\n",
            "[0.05480201914906502, 0.9, 0.05480202]\n",
            "30/30 [==============================] - 0s 22us/sample - loss: 0.1319 - acc: 0.7667 - mean_squared_error: 0.1319\n",
            "[0.1318536400794983, 0.76666665, 0.13185364]\n",
            "30/30 [==============================] - 0s 21us/sample - loss: 0.1354 - acc: 0.8000 - mean_squared_error: 0.1354\n",
            "[0.13544349372386932, 0.8, 0.1354435]\n",
            "30/30 [==============================] - 0s 24us/sample - loss: 0.1297 - acc: 0.8333 - mean_squared_error: 0.1297\n",
            "[0.12967625260353088, 0.8333333, 0.12967625]\n",
            "30/30 [==============================] - 0s 29us/sample - loss: 0.1015 - acc: 0.9000 - mean_squared_error: 0.1015\n",
            "[0.1015244796872139, 0.9, 0.10152448]\n",
            "30/30 [==============================] - 0s 24us/sample - loss: 0.0691 - acc: 0.9333 - mean_squared_error: 0.0691\n",
            "[0.06914404034614563, 0.93333334, 0.06914404]\n",
            "79.48% (+/- 7.97%)\n"
          ],
          "name": "stdout"
        }
      ]
    },
    {
      "metadata": {
        "id": "JAhyyjqJT2mh",
        "colab_type": "code",
        "colab": {
          "base_uri": "https://localhost:8080/",
          "height": 51
        },
        "outputId": "77d05d95-b351-4a95-d8f0-12e6360ca077"
      },
      "cell_type": "code",
      "source": [
        "flat_pred = []\n",
        "flat_y = []\n",
        "for sublist in pred:\n",
        "  for item in sublist:\n",
        "    flat_pred.append(item[0])\n",
        "    #print(type(item))\n",
        "   \n",
        "        \n",
        "for sublist in y_t:\n",
        "  for item in sublist:\n",
        "    flat_y.append(item)  \n",
        "    \n",
        "print(len(flat_y))\n",
        "print(len(flat_pred))"
      ],
      "execution_count": 34,
      "outputs": [
        {
          "output_type": "stream",
          "text": [
            "768\n",
            "768\n"
          ],
          "name": "stdout"
        }
      ]
    },
    {
      "metadata": {
        "id": "aYiPDIHxTw31",
        "colab_type": "code",
        "colab": {
          "base_uri": "https://localhost:8080/",
          "height": 204
        },
        "outputId": "04f5c684-97bb-41d5-bfa6-2553cb456519"
      },
      "cell_type": "code",
      "source": [
        "d = {'Resposta': flat_pred, \n",
        "     'Target': flat_y}\n",
        "\n",
        "df = pd.DataFrame(data=d)\n",
        "\n",
        "df.to_csv('./diabetes_prediciton.csv')\n",
        "df.head()"
      ],
      "execution_count": 38,
      "outputs": [
        {
          "output_type": "execute_result",
          "data": {
            "text/html": [
              "<div>\n",
              "<style scoped>\n",
              "    .dataframe tbody tr th:only-of-type {\n",
              "        vertical-align: middle;\n",
              "    }\n",
              "\n",
              "    .dataframe tbody tr th {\n",
              "        vertical-align: top;\n",
              "    }\n",
              "\n",
              "    .dataframe thead th {\n",
              "        text-align: right;\n",
              "    }\n",
              "</style>\n",
              "<table border=\"1\" class=\"dataframe\">\n",
              "  <thead>\n",
              "    <tr style=\"text-align: right;\">\n",
              "      <th></th>\n",
              "      <th>Resposta</th>\n",
              "      <th>Target</th>\n",
              "    </tr>\n",
              "  </thead>\n",
              "  <tbody>\n",
              "    <tr>\n",
              "      <th>0</th>\n",
              "      <td>1</td>\n",
              "      <td>1.0</td>\n",
              "    </tr>\n",
              "    <tr>\n",
              "      <th>1</th>\n",
              "      <td>0</td>\n",
              "      <td>1.0</td>\n",
              "    </tr>\n",
              "    <tr>\n",
              "      <th>2</th>\n",
              "      <td>0</td>\n",
              "      <td>0.0</td>\n",
              "    </tr>\n",
              "    <tr>\n",
              "      <th>3</th>\n",
              "      <td>1</td>\n",
              "      <td>0.0</td>\n",
              "    </tr>\n",
              "    <tr>\n",
              "      <th>4</th>\n",
              "      <td>0</td>\n",
              "      <td>1.0</td>\n",
              "    </tr>\n",
              "  </tbody>\n",
              "</table>\n",
              "</div>"
            ],
            "text/plain": [
              "   Resposta  Target\n",
              "0         1     1.0\n",
              "1         0     1.0\n",
              "2         0     0.0\n",
              "3         1     0.0\n",
              "4         0     1.0"
            ]
          },
          "metadata": {
            "tags": []
          },
          "execution_count": 38
        }
      ]
    }
  ]
}