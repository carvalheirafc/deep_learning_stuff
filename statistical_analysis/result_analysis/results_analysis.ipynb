{
  "nbformat": 4,
  "nbformat_minor": 0,
  "metadata": {
    "colab": {
      "name": "results_analysis.ipynb",
      "version": "0.3.2",
      "provenance": [],
      "include_colab_link": true
    },
    "kernelspec": {
      "name": "python3",
      "display_name": "Python 3"
    }
  },
  "cells": [
    {
      "cell_type": "markdown",
      "metadata": {
        "id": "view-in-github",
        "colab_type": "text"
      },
      "source": [
        "<a href=\"https://colab.research.google.com/github/carvalheirafc/deep_learning_stuff/blob/master/statistical_analysis/result_analysis/results_analysis.ipynb\" target=\"_parent\"><img src=\"https://colab.research.google.com/assets/colab-badge.svg\" alt=\"Open In Colab\"/></a>"
      ]
    },
    {
      "metadata": {
        "id": "X3gmtAr963YY",
        "colab_type": "code",
        "colab": {}
      },
      "cell_type": "code",
      "source": [
        "import pandas as pd\n",
        "import seaborn as sns\n",
        "import matplotlib.pyplot as plt\n",
        "#import scikitplot as skplt\n",
        "from sklearn import metrics\n"
      ],
      "execution_count": 0,
      "outputs": []
    },
    {
      "metadata": {
        "id": "HHx9zpzr7JHJ",
        "colab_type": "code",
        "outputId": "d6e473e9-8a21-48ee-b35d-ee3530227b19",
        "colab": {
          "base_uri": "https://localhost:8080/",
          "height": 153
        }
      },
      "cell_type": "code",
      "source": [
        "results = pd.read_excel('Dados_Ex2.xlsx')\n",
        "results.info()"
      ],
      "execution_count": 3,
      "outputs": [
        {
          "output_type": "stream",
          "text": [
            "<class 'pandas.core.frame.DataFrame'>\n",
            "MultiIndex: 501 entries, (nan, nan) to (nan, nan)\n",
            "Data columns (total 3 columns):\n",
            "Target        500 non-null float64\n",
            "Unnamed: 1    0 non-null float64\n",
            "Resposta      500 non-null float64\n",
            "dtypes: float64(3)\n",
            "memory usage: 12.8 KB\n"
          ],
          "name": "stdout"
        }
      ]
    },
    {
      "metadata": {
        "id": "53PngFk37fg8",
        "colab_type": "code",
        "outputId": "3778ec2d-75b2-41d7-a7e6-e46a8735cd42",
        "colab": {
          "base_uri": "https://localhost:8080/",
          "height": 204
        }
      },
      "cell_type": "code",
      "source": [
        "results = results.drop(columns=['Unnamed: 1'])\n",
        "results.reset_index(drop=True,inplace=True)\n",
        "results.dropna(inplace=True)\n",
        "results.head()\n"
      ],
      "execution_count": 4,
      "outputs": [
        {
          "output_type": "execute_result",
          "data": {
            "text/html": [
              "<div>\n",
              "<style scoped>\n",
              "    .dataframe tbody tr th:only-of-type {\n",
              "        vertical-align: middle;\n",
              "    }\n",
              "\n",
              "    .dataframe tbody tr th {\n",
              "        vertical-align: top;\n",
              "    }\n",
              "\n",
              "    .dataframe thead th {\n",
              "        text-align: right;\n",
              "    }\n",
              "</style>\n",
              "<table border=\"1\" class=\"dataframe\">\n",
              "  <thead>\n",
              "    <tr style=\"text-align: right;\">\n",
              "      <th></th>\n",
              "      <th>Target</th>\n",
              "      <th>Resposta</th>\n",
              "    </tr>\n",
              "  </thead>\n",
              "  <tbody>\n",
              "    <tr>\n",
              "      <th>1</th>\n",
              "      <td>0.0</td>\n",
              "      <td>0.30</td>\n",
              "    </tr>\n",
              "    <tr>\n",
              "      <th>2</th>\n",
              "      <td>0.0</td>\n",
              "      <td>0.20</td>\n",
              "    </tr>\n",
              "    <tr>\n",
              "      <th>3</th>\n",
              "      <td>1.0</td>\n",
              "      <td>0.28</td>\n",
              "    </tr>\n",
              "    <tr>\n",
              "      <th>4</th>\n",
              "      <td>1.0</td>\n",
              "      <td>0.88</td>\n",
              "    </tr>\n",
              "    <tr>\n",
              "      <th>5</th>\n",
              "      <td>0.0</td>\n",
              "      <td>0.50</td>\n",
              "    </tr>\n",
              "  </tbody>\n",
              "</table>\n",
              "</div>"
            ],
            "text/plain": [
              "   Target  Resposta\n",
              "1     0.0      0.30\n",
              "2     0.0      0.20\n",
              "3     1.0      0.28\n",
              "4     1.0      0.88\n",
              "5     0.0      0.50"
            ]
          },
          "metadata": {
            "tags": []
          },
          "execution_count": 4
        }
      ]
    },
    {
      "metadata": {
        "id": "ENfojRqLS9SY",
        "colab_type": "code",
        "colab": {}
      },
      "cell_type": "code",
      "source": [
        "target_positive = results[results['Target'] == 1]\n",
        "target_negative = results[results['Target'] == 0]"
      ],
      "execution_count": 0,
      "outputs": []
    },
    {
      "metadata": {
        "id": "SRShiOhCTc6F",
        "colab_type": "code",
        "outputId": "b18c3f8a-2ced-4472-d552-0a6b9882f57a",
        "colab": {
          "base_uri": "https://localhost:8080/",
          "height": 726
        }
      },
      "cell_type": "code",
      "source": [
        "fig, ax = plt.subplots(2, 1, figsize=(8, 11))\n",
        "\n",
        "ax_1 = sns.distplot(target_positive['Resposta'], ax=ax[0])\n",
        "ax_1.set_title('Target Positive values')\n",
        "\n",
        "\n",
        "ax_2 = sns.distplot(target_negative['Resposta'], ax=ax[1])\n",
        "ax_2.set_title('Target Negative values')\n",
        "\n",
        "plt.plot()\n",
        "plt.show()"
      ],
      "execution_count": 6,
      "outputs": [
        {
          "output_type": "stream",
          "text": [
            "/usr/local/lib/python3.6/dist-packages/matplotlib/axes/_axes.py:6521: MatplotlibDeprecationWarning: \n",
            "The 'normed' kwarg was deprecated in Matplotlib 2.1 and will be removed in 3.1. Use 'density' instead.\n",
            "  alternative=\"'density'\", removal=\"3.1\")\n"
          ],
          "name": "stderr"
        },
        {
          "output_type": "display_data",
          "data": {
            "image/png": "[encoded data removed]",
            "text/plain": [
              "<Figure size 576x792 with 2 Axes>"
            ]
          },
          "metadata": {
            "tags": []
          }
        }
      ]
    },
    {
      "metadata": {
        "id": "g4N4sQqsMS6D",
        "colab_type": "code",
        "colab": {}
      },
      "cell_type": "code",
      "source": [
        "def get_positive(tresh_hold = 0.5):\n",
        "  true_positive = target_positive[target_positive['Resposta'] >= tresh_hold]\n",
        "  false_positive = target_positive[target_positive['Resposta'] < tresh_hold] \n",
        "  \n",
        "  return len(true_positive), len(false_positive)"
      ],
      "execution_count": 0,
      "outputs": []
    },
    {
      "metadata": {
        "id": "W5IBR0_9Ubom",
        "colab_type": "code",
        "colab": {}
      },
      "cell_type": "code",
      "source": [
        "def get_negative(tresh_hold = 0.5):\n",
        "  true_negative = target_negative[target_negative['Resposta'] <= tresh_hold]\n",
        "  false_negative = target_negative[target_negative['Resposta'] > tresh_hold] \n",
        "  \n",
        "  return len(true_negative), len(false_negative)"
      ],
      "execution_count": 0,
      "outputs": []
    },
    {
      "metadata": {
        "id": "3ROsTrCFcSH0",
        "colab_type": "code",
        "colab": {}
      },
      "cell_type": "code",
      "source": [
        "'''\n",
        "Calculates:\n",
        "Acuracy\n",
        "Positive and Negative Precision\n",
        "False Positive and False Negative Amount\n",
        "\n",
        "@param true_positive amount of True Positive in the dataset.\n",
        "@oaran true_negative amount of True Negative in the dataset.\n",
        "@param false_positive amount of False Positive in the dataset.\n",
        "@param false_negative amount of False Negative in the dataset.\n",
        "@param positives Total of Positives targets, targets = 1\n",
        "@param negatives Total of Negatives targets, targets = 0\n",
        "@param Threshold Value used to calc the true, false positives and negatives\n",
        "@param debug Default False, if True print all stats\n",
        "\n",
        "'''\n",
        "def calc_stats(true_positive, \n",
        "               true_negative, \n",
        "               false_positive, \n",
        "               false_negative, \n",
        "               positives, \n",
        "               negatives, \n",
        "               threshold, \n",
        "               debug=False):\n",
        "  \n",
        "  acuracy = (true_positive + true_negative)/ (positives + negatives)\n",
        "\n",
        "  precision_positive = true_positive / (true_positive + false_positive)\n",
        "  precision_negative = true_negative / (true_negative + false_negative)\n",
        "\n",
        "  false_positive_amount = false_positive / negatives\n",
        "  false_negative_amount = false_negative / positives\n",
        "  if debug == True:\n",
        "    print('Threshold: '+str(threshold))\n",
        "    print('Acuracy: '+str(acuracy))\n",
        "    print('Positive Precision: '+str(precision_positive))\n",
        "    print('Negative Precision: '+str(precision_negative))\n",
        "    print('Amount False Positives: '+str(false_positive_amount))\n",
        "    print('Amount False Negatives: '+str(false_negative_amount))\n",
        "    print('\\n')\n",
        "  \n",
        "  return acuracy\n"
      ],
      "execution_count": 0,
      "outputs": []
    },
    {
      "metadata": {
        "id": "ACYf5eorieB1",
        "colab_type": "code",
        "outputId": "b3bdc5ca-c244-4d1f-8713-b32f032201e4",
        "colab": {
          "base_uri": "https://localhost:8080/",
          "height": 1513
        }
      },
      "cell_type": "code",
      "source": [
        "threshold = [0.0, \n",
        "             0.1, 0.2, \n",
        "             0.3, 0.4, \n",
        "             0.5, 0.6,\n",
        "             0.7, 0.8,\n",
        "             0.9, 1.0]\n",
        "\n",
        "for t in threshold:\n",
        "  true_positive, false_positive = get_positive(t)\n",
        "  true_negative, false_negative = get_negative(t)\n",
        "\n",
        "  \n",
        "  calc_stats(true_positive, \n",
        "             true_negative, \n",
        "             false_positive, \n",
        "             false_negative, \n",
        "             len(target_positive), \n",
        "             len(target_negative),\n",
        "             t, True)\n",
        "  "
      ],
      "execution_count": 10,
      "outputs": [
        {
          "output_type": "stream",
          "text": [
            "Threshold: 0.0\n",
            "Acuracy: 0.606\n",
            "Positive Precision: 1.0\n",
            "Negative Precision: 0.1859504132231405\n",
            "Amount False Positives: 0.0\n",
            "Amount False Negatives: 0.7635658914728682\n",
            "\n",
            "\n",
            "Threshold: 0.1\n",
            "Acuracy: 0.662\n",
            "Positive Precision: 1.0\n",
            "Negative Precision: 0.30165289256198347\n",
            "Amount False Positives: 0.0\n",
            "Amount False Negatives: 0.6550387596899225\n",
            "\n",
            "\n",
            "Threshold: 0.2\n",
            "Acuracy: 0.7\n",
            "Positive Precision: 1.0\n",
            "Negative Precision: 0.38016528925619836\n",
            "Amount False Positives: 0.0\n",
            "Amount False Negatives: 0.5813953488372093\n",
            "\n",
            "\n",
            "Threshold: 0.3\n",
            "Acuracy: 0.684\n",
            "Positive Precision: 0.8837209302325582\n",
            "Negative Precision: 0.47107438016528924\n",
            "Amount False Positives: 0.12396694214876033\n",
            "Amount False Negatives: 0.49612403100775193\n",
            "\n",
            "\n",
            "Threshold: 0.4\n",
            "Acuracy: 0.648\n",
            "Positive Precision: 0.7403100775193798\n",
            "Negative Precision: 0.5495867768595041\n",
            "Amount False Positives: 0.2768595041322314\n",
            "Amount False Negatives: 0.42248062015503873\n",
            "\n",
            "\n",
            "Threshold: 0.5\n",
            "Acuracy: 0.642\n",
            "Positive Precision: 0.6395348837209303\n",
            "Negative Precision: 0.6446280991735537\n",
            "Amount False Positives: 0.384297520661157\n",
            "Amount False Negatives: 0.3333333333333333\n",
            "\n",
            "\n",
            "Threshold: 0.6\n",
            "Acuracy: 0.644\n",
            "Positive Precision: 0.5310077519379846\n",
            "Negative Precision: 0.7644628099173554\n",
            "Amount False Positives: 0.5\n",
            "Amount False Negatives: 0.22093023255813954\n",
            "\n",
            "\n",
            "Threshold: 0.7\n",
            "Acuracy: 0.604\n",
            "Positive Precision: 0.3643410852713178\n",
            "Negative Precision: 0.859504132231405\n",
            "Amount False Positives: 0.6776859504132231\n",
            "Amount False Negatives: 0.13178294573643412\n",
            "\n",
            "\n",
            "Threshold: 0.8\n",
            "Acuracy: 0.612\n",
            "Positive Precision: 0.24806201550387597\n",
            "Negative Precision: 1.0\n",
            "Amount False Positives: 0.8016528925619835\n",
            "Amount False Negatives: 0.0\n",
            "\n",
            "\n",
            "Threshold: 0.9\n",
            "Acuracy: 0.538\n",
            "Positive Precision: 0.10465116279069768\n",
            "Negative Precision: 1.0\n",
            "Amount False Positives: 0.9545454545454546\n",
            "Amount False Negatives: 0.0\n",
            "\n",
            "\n",
            "Threshold: 1.0\n",
            "Acuracy: 0.484\n",
            "Positive Precision: 0.0\n",
            "Negative Precision: 1.0\n",
            "Amount False Positives: 1.0661157024793388\n",
            "Amount False Negatives: 0.0\n",
            "\n",
            "\n"
          ],
          "name": "stdout"
        }
      ]
    },
    {
      "metadata": {
        "id": "DO6k6gEWWktr",
        "colab_type": "code",
        "colab": {}
      },
      "cell_type": "code",
      "source": [
        "tresh_hold = []\n",
        "for it in results['Resposta']:\n",
        "  if it <= 0.7:\n",
        "     tresh_hold.append(0)\n",
        "  else:\n",
        "     tresh_hold.append(1)\n",
        "      \n",
        "\n",
        "matrix_cf = pd.DataFrame(metrics.confusion_matrix(results['Target'], tresh_hold), \n",
        "                         index=['Negative', 'Positive'],\n",
        "                         columns=['True', 'False'])"
      ],
      "execution_count": 0,
      "outputs": []
    },
    {
      "metadata": {
        "id": "cGckRgYwcVnn",
        "colab_type": "code",
        "colab": {
          "base_uri": "https://localhost:8080/",
          "height": 379
        },
        "outputId": "d2525f39-f2b4-4ef1-efe1-bc91beb3d093"
      },
      "cell_type": "code",
      "source": [
        "fig, ax = plt.subplots()\n",
        "ax = sns.heatmap(matrix_cf, annot=True)\n",
        "ax.set_title('Consfuison Matrix')"
      ],
      "execution_count": 27,
      "outputs": [
        {
          "output_type": "execute_result",
          "data": {
            "text/plain": [
              "Text(0.5, 1.0, 'Consfuison Matrix')"
            ]
          },
          "metadata": {
            "tags": []
          },
          "execution_count": 27
        },
        {
          "output_type": "display_data",
          "data": {
            "image/png": "[encoded data removed]",
            "text/plain": [
              "<Figure size 576x396 with 2 Axes>"
            ]
          },
          "metadata": {
            "tags": []
          }
        }
      ]
    },
    {
      "metadata": {
        "id": "wW7Vhw7mhmUB",
        "colab_type": "code",
        "colab": {}
      },
      "cell_type": "code",
      "source": [
        "y = results['Target']\n",
        "scores = results['Resposta']\n",
        "fpr, tpr, thresholds = metrics.roc_curve(y, scores, pos_label=1)\n",
        "roc_auc = metrics.auc(fpr, tpr)"
      ],
      "execution_count": 0,
      "outputs": []
    },
    {
      "metadata": {
        "id": "BBG_0D6WklDk",
        "colab_type": "code",
        "outputId": "8e73f744-92f0-4402-964b-8c32b0f513fa",
        "colab": {
          "base_uri": "https://localhost:8080/",
          "height": 376
        }
      },
      "cell_type": "code",
      "source": [
        "plt.title('Receiver Operating Characteristic Curve')\n",
        "plt.plot(fpr, tpr, 'b', label = 'AUC = %0.2f' % roc_auc)\n",
        "plt.legend(loc = 'lower right')\n",
        "\n",
        "plt.plot([0, 1], [0, 1],'r--')\n",
        "plt.xlim([0, 1])\n",
        "plt.ylim([0, 1])\n",
        "plt.ylabel('True Positive Rate')\n",
        "plt.xlabel('False Positive Rate')\n",
        "plt.show()"
      ],
      "execution_count": 13,
      "outputs": [
        {
          "output_type": "display_data",
          "data": {
            "image/png": "[encoded data removed]",
            "text/plain": [
              "<Figure size 576x396 with 1 Axes>"
            ]
          },
          "metadata": {
            "tags": []
          }
        }
      ]
    }
  ]
}