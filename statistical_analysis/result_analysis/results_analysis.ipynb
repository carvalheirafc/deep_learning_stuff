{
  "nbformat": 4,
  "nbformat_minor": 0,
  "metadata": {
    "colab": {
      "name": "results_analysis.ipynb",
      "version": "0.3.2",
      "provenance": [],
      "include_colab_link": true
    },
    "kernelspec": {
      "name": "python3",
      "display_name": "Python 3"
    }
  },
  "cells": [
    {
      "cell_type": "markdown",
      "metadata": {
        "id": "view-in-github",
        "colab_type": "text"
      },
      "source": [
        "<a href=\"https://colab.research.google.com/github/carvalheirafc/deep_learning_stuff/blob/master/statistical_analysis/result_analysis/results_analysis.ipynb\" target=\"_parent\"><img src=\"https://colab.research.google.com/assets/colab-badge.svg\" alt=\"Open In Colab\"/></a>"
      ]
    },
    {
      "metadata": {
        "id": "X3gmtAr963YY",
        "colab_type": "code",
        "colab": {}
      },
      "cell_type": "code",
      "source": [
        "import pandas as pd\n",
        "import seaborn as sns\n",
        "import matplotlib.pyplot as plt"
      ],
      "execution_count": 0,
      "outputs": []
    },
    {
      "metadata": {
        "id": "HHx9zpzr7JHJ",
        "colab_type": "code",
        "outputId": "6b4c912c-61e0-49ea-851f-31ea537cbe2b",
        "colab": {
          "base_uri": "https://localhost:8080/",
          "height": 153
        }
      },
      "cell_type": "code",
      "source": [
        "results = pd.read_excel('Dados_Ex2.xlsx')\n",
        "results.info()"
      ],
      "execution_count": 2,
      "outputs": [
        {
          "output_type": "stream",
          "text": [
            "<class 'pandas.core.frame.DataFrame'>\n",
            "MultiIndex: 501 entries, (nan, nan) to (nan, nan)\n",
            "Data columns (total 3 columns):\n",
            "Target        500 non-null float64\n",
            "Unnamed: 1    0 non-null float64\n",
            "Resposta      500 non-null float64\n",
            "dtypes: float64(3)\n",
            "memory usage: 12.8 KB\n"
          ],
          "name": "stdout"
        }
      ]
    },
    {
      "metadata": {
        "id": "53PngFk37fg8",
        "colab_type": "code",
        "outputId": "8d9bcde6-bc01-4bc5-b480-54346a1925a6",
        "colab": {
          "base_uri": "https://localhost:8080/",
          "height": 204
        }
      },
      "cell_type": "code",
      "source": [
        "results = results.drop(columns=['Unnamed: 1'])\n",
        "results.reset_index(drop=True,inplace=True)\n",
        "results.dropna(inplace=True)\n",
        "results.head()\n"
      ],
      "execution_count": 3,
      "outputs": [
        {
          "output_type": "execute_result",
          "data": {
            "text/html": [
              "<div>\n",
              "<style scoped>\n",
              "    .dataframe tbody tr th:only-of-type {\n",
              "        vertical-align: middle;\n",
              "    }\n",
              "\n",
              "    .dataframe tbody tr th {\n",
              "        vertical-align: top;\n",
              "    }\n",
              "\n",
              "    .dataframe thead th {\n",
              "        text-align: right;\n",
              "    }\n",
              "</style>\n",
              "<table border=\"1\" class=\"dataframe\">\n",
              "  <thead>\n",
              "    <tr style=\"text-align: right;\">\n",
              "      <th></th>\n",
              "      <th>Target</th>\n",
              "      <th>Resposta</th>\n",
              "    </tr>\n",
              "  </thead>\n",
              "  <tbody>\n",
              "    <tr>\n",
              "      <th>1</th>\n",
              "      <td>0.0</td>\n",
              "      <td>0.30</td>\n",
              "    </tr>\n",
              "    <tr>\n",
              "      <th>2</th>\n",
              "      <td>0.0</td>\n",
              "      <td>0.20</td>\n",
              "    </tr>\n",
              "    <tr>\n",
              "      <th>3</th>\n",
              "      <td>1.0</td>\n",
              "      <td>0.28</td>\n",
              "    </tr>\n",
              "    <tr>\n",
              "      <th>4</th>\n",
              "      <td>1.0</td>\n",
              "      <td>0.88</td>\n",
              "    </tr>\n",
              "    <tr>\n",
              "      <th>5</th>\n",
              "      <td>0.0</td>\n",
              "      <td>0.50</td>\n",
              "    </tr>\n",
              "  </tbody>\n",
              "</table>\n",
              "</div>"
            ],
            "text/plain": [
              "   Target  Resposta\n",
              "1     0.0      0.30\n",
              "2     0.0      0.20\n",
              "3     1.0      0.28\n",
              "4     1.0      0.88\n",
              "5     0.0      0.50"
            ]
          },
          "metadata": {
            "tags": []
          },
          "execution_count": 3
        }
      ]
    },
    {
      "metadata": {
        "id": "ENfojRqLS9SY",
        "colab_type": "code",
        "colab": {}
      },
      "cell_type": "code",
      "source": [
        "target_positive = results[results['Target'] == 1]\n",
        "target_negative = results[results['Target'] == 0]"
      ],
      "execution_count": 0,
      "outputs": []
    },
    {
      "metadata": {
        "id": "SRShiOhCTc6F",
        "colab_type": "code",
        "outputId": "682f37aa-725d-4336-ab58-91b98bd46e30",
        "colab": {
          "base_uri": "https://localhost:8080/",
          "height": 726
        }
      },
      "cell_type": "code",
      "source": [
        "fig, ax = plt.subplots(2, 1, figsize=(8, 11))\n",
        "\n",
        "ax_1 = sns.distplot(target_positive['Resposta'], ax=ax[0])\n",
        "ax_1.set_title('Target Positive values')\n",
        "\n",
        "\n",
        "ax_2 = sns.distplot(target_negative['Resposta'], ax=ax[1])\n",
        "ax_2.set_title('Target Negative values')\n",
        "\n",
        "plt.plot()\n",
        "plt.show()"
      ],
      "execution_count": 5,
      "outputs": [
        {
          "output_type": "stream",
          "text": [
            "/usr/local/lib/python3.6/dist-packages/matplotlib/axes/_axes.py:6521: MatplotlibDeprecationWarning: \n",
            "The 'normed' kwarg was deprecated in Matplotlib 2.1 and will be removed in 3.1. Use 'density' instead.\n",
            "  alternative=\"'density'\", removal=\"3.1\")\n"
          ],
          "name": "stderr"
        },
        {
          "output_type": "display_data",
          "data": {
            "image/png": "[encoded data removed]",
            "text/plain": [
              "<Figure size 576x792 with 2 Axes>"
            ]
          },
          "metadata": {
            "tags": []
          }
        }
      ]
    },
    {
      "metadata": {
        "id": "g4N4sQqsMS6D",
        "colab_type": "code",
        "colab": {}
      },
      "cell_type": "code",
      "source": [
        "def get_positive(tresh_hold = 0.5):\n",
        "  true_positive = target_positive[target_positive['Resposta'] >= tresh_hold]\n",
        "  false_positive = target_positive[target_positive['Resposta'] < tresh_hold] \n",
        "  \n",
        "  return len(true_positive), len(false_positive)"
      ],
      "execution_count": 0,
      "outputs": []
    },
    {
      "metadata": {
        "id": "W5IBR0_9Ubom",
        "colab_type": "code",
        "colab": {}
      },
      "cell_type": "code",
      "source": [
        "def get_negative(tresh_hold = 0.5):\n",
        "  true_negative = target_negative[target_negative['Resposta'] <= tresh_hold]\n",
        "  false_negative = target_negative[target_negative['Resposta'] > tresh_hold] \n",
        "  \n",
        "  return len(true_negative), len(false_negative)"
      ],
      "execution_count": 0,
      "outputs": []
    },
    {
      "metadata": {
        "id": "3ROsTrCFcSH0",
        "colab_type": "code",
        "colab": {}
      },
      "cell_type": "code",
      "source": [
        "def calc_stats(true_positive, \n",
        "               true_negative, \n",
        "               false_positive, \n",
        "               false_negative, \n",
        "               positives, \n",
        "               negatives):\n",
        "  \n",
        "  acuracy = (true_positive + true_negative)/ (positives + negatives)\n",
        "\n",
        "  precision_positive = true_positive / (true_positive + false_positive)\n",
        "  precision_negative = true_negative / (true_negative + false_negative)\n",
        "\n",
        "  false_positive_amount = false_positive / negatives\n",
        "  false_negative_amount = false_negative / positives\n",
        "  print(\"Acuracy: \"+str(acuracy))\n",
        "  print(\"Positive Precision: \"+str(precision_positive))\n",
        "  print(\"Negative Precision: \"+str(precision_negative))\n",
        "  print(\"Amount False Positives: \"+str(false_positive_amount))\n",
        "  print(\"Amount False Negatives: \"+str(false_negative_amount))\n"
      ],
      "execution_count": 0,
      "outputs": []
    },
    {
      "metadata": {
        "id": "ACYf5eorieB1",
        "colab_type": "code",
        "colab": {
          "base_uri": "https://localhost:8080/",
          "height": 102
        },
        "outputId": "2f1ab36a-59d2-4d42-d4ea-ac1dd2886ba3"
      },
      "cell_type": "code",
      "source": [
        "true_positive, false_positive = get_positive()\n",
        "true_negative, false_negative = get_negative()\n",
        "\n",
        "calc_stats(true_positive, \n",
        "           true_negative, \n",
        "           false_positive, \n",
        "           false_negative, \n",
        "           len(target_positive), \n",
        "           len(target_negative))\n"
      ],
      "execution_count": 15,
      "outputs": [
        {
          "output_type": "stream",
          "text": [
            "Acuracy: 0.642\n",
            "Positive Precision: 0.6395348837209303\n",
            "Negative Precision: 0.6446280991735537\n",
            "Amount False Positives: 0.384297520661157\n",
            "Amount False Negatives: 0.3333333333333333\n"
          ],
          "name": "stdout"
        }
      ]
    },
    {
      "metadata": {
        "id": "WoQp0MsQcafm",
        "colab_type": "code",
        "colab": {
          "base_uri": "https://localhost:8080/",
          "height": 102
        },
        "outputId": "34c166a2-a03b-4370-c407-f81b29b53993"
      },
      "cell_type": "code",
      "source": [
        "true_positive, false_positive = get_positive(0.7)\n",
        "true_negative, false_negative = get_negative(0.7)\n",
        "\n",
        "calc_stats(true_positive, \n",
        "           true_negative, \n",
        "           false_positive, \n",
        "           false_negative, \n",
        "           len(target_positive), \n",
        "           len(target_negative))"
      ],
      "execution_count": 16,
      "outputs": [
        {
          "output_type": "stream",
          "text": [
            "Acuracy: 0.604\n",
            "Positive Precision: 0.3643410852713178\n",
            "Negative Precision: 0.859504132231405\n",
            "Amount False Positives: 0.6776859504132231\n",
            "Amount False Negatives: 0.13178294573643412\n"
          ],
          "name": "stdout"
        }
      ]
    }
  ]
}