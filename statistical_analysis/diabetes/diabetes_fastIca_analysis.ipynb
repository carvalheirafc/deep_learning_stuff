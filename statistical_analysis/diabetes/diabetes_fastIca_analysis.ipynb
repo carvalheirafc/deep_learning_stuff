{
  "nbformat": 4,
  "nbformat_minor": 0,
  "metadata": {
    "colab": {
      "name": "diabetes_fastIca_analysis.ipynb",
      "version": "0.3.2",
      "provenance": [],
      "include_colab_link": true
    },
    "kernelspec": {
      "name": "python3",
      "display_name": "Python 3"
    }
  },
  "cells": [
    {
      "cell_type": "markdown",
      "metadata": {
        "id": "view-in-github",
        "colab_type": "text"
      },
      "source": [
        "<a href=\"https://colab.research.google.com/github/carvalheirafc/deep_learning_stuff/blob/master/statistical_analysis/diabetes/diabetes_fastIca_analysis.ipynb\" target=\"_parent\"><img src=\"https://colab.research.google.com/assets/colab-badge.svg\" alt=\"Open In Colab\"/></a>"
      ]
    },
    {
      "metadata": {
        "id": "kVcJHtlYZKym",
        "colab_type": "code",
        "colab": {}
      },
      "cell_type": "code",
      "source": [
        "import pandas as pd\n",
        "import matplotlib.pyplot as plt\n",
        "import numpy as np\n",
        "from sklearn.decomposition import FastICA\n",
        "from sklearn.decomposition import PCA\n"
      ],
      "execution_count": 0,
      "outputs": []
    },
    {
      "metadata": {
        "id": "72G9xOurZgoF",
        "colab_type": "code",
        "outputId": "18092790-fd70-4c65-92a3-7076019ceacd",
        "colab": {
          "base_uri": "https://localhost:8080/",
          "height": 204
        }
      },
      "cell_type": "code",
      "source": [
        "diabetes = pd.read_csv('diabetes.csv')\n",
        "diabetes.head()"
      ],
      "execution_count": 16,
      "outputs": [
        {
          "output_type": "execute_result",
          "data": {
            "text/html": [
              "<div>\n",
              "<style scoped>\n",
              "    .dataframe tbody tr th:only-of-type {\n",
              "        vertical-align: middle;\n",
              "    }\n",
              "\n",
              "    .dataframe tbody tr th {\n",
              "        vertical-align: top;\n",
              "    }\n",
              "\n",
              "    .dataframe thead th {\n",
              "        text-align: right;\n",
              "    }\n",
              "</style>\n",
              "<table border=\"1\" class=\"dataframe\">\n",
              "  <thead>\n",
              "    <tr style=\"text-align: right;\">\n",
              "      <th></th>\n",
              "      <th>A</th>\n",
              "      <th>B</th>\n",
              "      <th>C</th>\n",
              "      <th>D</th>\n",
              "      <th>E</th>\n",
              "      <th>F</th>\n",
              "      <th>G</th>\n",
              "      <th>J</th>\n",
              "      <th>M</th>\n",
              "      <th>N</th>\n",
              "      <th>Diagnóstico</th>\n",
              "    </tr>\n",
              "  </thead>\n",
              "  <tbody>\n",
              "    <tr>\n",
              "      <th>0</th>\n",
              "      <td>6.0</td>\n",
              "      <td>85.000000</td>\n",
              "      <td>148</td>\n",
              "      <td>72.0</td>\n",
              "      <td>35.0</td>\n",
              "      <td>0.0</td>\n",
              "      <td>33.6</td>\n",
              "      <td>0.6</td>\n",
              "      <td>50.0</td>\n",
              "      <td>45.765525</td>\n",
              "      <td>2.0</td>\n",
              "    </tr>\n",
              "    <tr>\n",
              "      <th>1</th>\n",
              "      <td>1.0</td>\n",
              "      <td>60.000000</td>\n",
              "      <td>85</td>\n",
              "      <td>66.0</td>\n",
              "      <td>29.0</td>\n",
              "      <td>0.0</td>\n",
              "      <td>26.6</td>\n",
              "      <td>0.4</td>\n",
              "      <td>31.0</td>\n",
              "      <td>36.219544</td>\n",
              "      <td>1.0</td>\n",
              "    </tr>\n",
              "    <tr>\n",
              "      <th>2</th>\n",
              "      <td>8.0</td>\n",
              "      <td>82.333333</td>\n",
              "      <td>183</td>\n",
              "      <td>64.0</td>\n",
              "      <td>0.0</td>\n",
              "      <td>0.0</td>\n",
              "      <td>23.3</td>\n",
              "      <td>0.7</td>\n",
              "      <td>32.0</td>\n",
              "      <td>36.827749</td>\n",
              "      <td>2.0</td>\n",
              "    </tr>\n",
              "    <tr>\n",
              "      <th>3</th>\n",
              "      <td>1.0</td>\n",
              "      <td>59.333333</td>\n",
              "      <td>89</td>\n",
              "      <td>66.0</td>\n",
              "      <td>23.0</td>\n",
              "      <td>94.0</td>\n",
              "      <td>28.1</td>\n",
              "      <td>0.2</td>\n",
              "      <td>21.0</td>\n",
              "      <td>96.433981</td>\n",
              "      <td>1.0</td>\n",
              "    </tr>\n",
              "    <tr>\n",
              "      <th>4</th>\n",
              "      <td>0.0</td>\n",
              "      <td>70.666667</td>\n",
              "      <td>137</td>\n",
              "      <td>40.0</td>\n",
              "      <td>35.0</td>\n",
              "      <td>168.0</td>\n",
              "      <td>43.1</td>\n",
              "      <td>2.3</td>\n",
              "      <td>33.0</td>\n",
              "      <td>105.704700</td>\n",
              "      <td>2.0</td>\n",
              "    </tr>\n",
              "  </tbody>\n",
              "</table>\n",
              "</div>"
            ],
            "text/plain": [
              "     A          B    C     D     E      F     G    J     M           N  \\\n",
              "0  6.0  85.000000  148  72.0  35.0    0.0  33.6  0.6  50.0   45.765525   \n",
              "1  1.0  60.000000   85  66.0  29.0    0.0  26.6  0.4  31.0   36.219544   \n",
              "2  8.0  82.333333  183  64.0   0.0    0.0  23.3  0.7  32.0   36.827749   \n",
              "3  1.0  59.333333   89  66.0  23.0   94.0  28.1  0.2  21.0   96.433981   \n",
              "4  0.0  70.666667  137  40.0  35.0  168.0  43.1  2.3  33.0  105.704700   \n",
              "\n",
              "   Diagnóstico  \n",
              "0          2.0  \n",
              "1          1.0  \n",
              "2          2.0  \n",
              "3          1.0  \n",
              "4          2.0  "
            ]
          },
          "metadata": {
            "tags": []
          },
          "execution_count": 16
        }
      ]
    },
    {
      "metadata": {
        "id": "GbQxOHYQZwxk",
        "colab_type": "code",
        "outputId": "c9b3a836-2191-48e9-95b8-241ebacaa1df",
        "colab": {
          "base_uri": "https://localhost:8080/",
          "height": 34
        }
      },
      "cell_type": "code",
      "source": [
        "X_values = diabetes.loc[:, diabetes.columns != 'Diagnóstico'].values\n",
        "Y_target = diabetes['Diagnóstico']\n",
        "\n",
        "print(X_values.shape, Y_target.shape)"
      ],
      "execution_count": 18,
      "outputs": [
        {
          "output_type": "stream",
          "text": [
            "(768, 10) (768,)\n"
          ],
          "name": "stdout"
        }
      ]
    },
    {
      "metadata": {
        "id": "j1bVTwWLbhM0",
        "colab_type": "code",
        "outputId": "9f8564b3-7046-4fe3-a489-2b7348da1ded",
        "colab": {
          "base_uri": "https://localhost:8080/",
          "height": 258
        }
      },
      "cell_type": "code",
      "source": [
        "transformer = FastICA(random_state=10)\n",
        "X_transformed = transformer.fit_transform(X_values)\n",
        "\n",
        "diabetes_transformed = pd.DataFrame(X_transformed)\n",
        "diabetes_transformed.head()"
      ],
      "execution_count": 19,
      "outputs": [
        {
          "output_type": "stream",
          "text": [
            "/usr/local/lib/python3.6/dist-packages/sklearn/decomposition/fastica_.py:121: ConvergenceWarning: FastICA did not converge. Consider increasing tolerance or the maximum number of iterations.\n",
            "  ConvergenceWarning)\n"
          ],
          "name": "stderr"
        },
        {
          "output_type": "execute_result",
          "data": {
            "text/html": [
              "<div>\n",
              "<style scoped>\n",
              "    .dataframe tbody tr th:only-of-type {\n",
              "        vertical-align: middle;\n",
              "    }\n",
              "\n",
              "    .dataframe tbody tr th {\n",
              "        vertical-align: top;\n",
              "    }\n",
              "\n",
              "    .dataframe thead th {\n",
              "        text-align: right;\n",
              "    }\n",
              "</style>\n",
              "<table border=\"1\" class=\"dataframe\">\n",
              "  <thead>\n",
              "    <tr style=\"text-align: right;\">\n",
              "      <th></th>\n",
              "      <th>0</th>\n",
              "      <th>1</th>\n",
              "      <th>2</th>\n",
              "      <th>3</th>\n",
              "      <th>4</th>\n",
              "      <th>5</th>\n",
              "      <th>6</th>\n",
              "      <th>7</th>\n",
              "      <th>8</th>\n",
              "      <th>9</th>\n",
              "    </tr>\n",
              "  </thead>\n",
              "  <tbody>\n",
              "    <tr>\n",
              "      <th>0</th>\n",
              "      <td>-0.013434</td>\n",
              "      <td>0.008815</td>\n",
              "      <td>0.017009</td>\n",
              "      <td>0.051925</td>\n",
              "      <td>0.022246</td>\n",
              "      <td>0.040122</td>\n",
              "      <td>-0.000952</td>\n",
              "      <td>0.070024</td>\n",
              "      <td>-0.012345</td>\n",
              "      <td>-0.026711</td>\n",
              "    </tr>\n",
              "    <tr>\n",
              "      <th>1</th>\n",
              "      <td>0.038754</td>\n",
              "      <td>0.008588</td>\n",
              "      <td>0.005465</td>\n",
              "      <td>-0.010295</td>\n",
              "      <td>0.037991</td>\n",
              "      <td>0.039167</td>\n",
              "      <td>0.025393</td>\n",
              "      <td>0.014480</td>\n",
              "      <td>0.009053</td>\n",
              "      <td>-0.033657</td>\n",
              "    </tr>\n",
              "    <tr>\n",
              "      <th>2</th>\n",
              "      <td>-0.088334</td>\n",
              "      <td>-0.003993</td>\n",
              "      <td>0.012231</td>\n",
              "      <td>0.071915</td>\n",
              "      <td>0.038702</td>\n",
              "      <td>0.040137</td>\n",
              "      <td>-0.018693</td>\n",
              "      <td>-0.041402</td>\n",
              "      <td>-0.006351</td>\n",
              "      <td>0.007172</td>\n",
              "    </tr>\n",
              "    <tr>\n",
              "      <th>3</th>\n",
              "      <td>0.064046</td>\n",
              "      <td>-0.010925</td>\n",
              "      <td>-0.017661</td>\n",
              "      <td>-0.048510</td>\n",
              "      <td>-0.034209</td>\n",
              "      <td>-0.018800</td>\n",
              "      <td>-0.032829</td>\n",
              "      <td>-0.054197</td>\n",
              "      <td>-0.022985</td>\n",
              "      <td>-0.010024</td>\n",
              "    </tr>\n",
              "    <tr>\n",
              "      <th>4</th>\n",
              "      <td>0.011017</td>\n",
              "      <td>-0.198823</td>\n",
              "      <td>-0.065804</td>\n",
              "      <td>0.035661</td>\n",
              "      <td>-0.055721</td>\n",
              "      <td>-0.016028</td>\n",
              "      <td>0.048282</td>\n",
              "      <td>0.034125</td>\n",
              "      <td>-0.008147</td>\n",
              "      <td>0.012853</td>\n",
              "    </tr>\n",
              "  </tbody>\n",
              "</table>\n",
              "</div>"
            ],
            "text/plain": [
              "          0         1         2         3         4         5         6  \\\n",
              "0 -0.013434  0.008815  0.017009  0.051925  0.022246  0.040122 -0.000952   \n",
              "1  0.038754  0.008588  0.005465 -0.010295  0.037991  0.039167  0.025393   \n",
              "2 -0.088334 -0.003993  0.012231  0.071915  0.038702  0.040137 -0.018693   \n",
              "3  0.064046 -0.010925 -0.017661 -0.048510 -0.034209 -0.018800 -0.032829   \n",
              "4  0.011017 -0.198823 -0.065804  0.035661 -0.055721 -0.016028  0.048282   \n",
              "\n",
              "          7         8         9  \n",
              "0  0.070024 -0.012345 -0.026711  \n",
              "1  0.014480  0.009053 -0.033657  \n",
              "2 -0.041402 -0.006351  0.007172  \n",
              "3 -0.054197 -0.022985 -0.010024  \n",
              "4  0.034125 -0.008147  0.012853  "
            ]
          },
          "metadata": {
            "tags": []
          },
          "execution_count": 19
        }
      ]
    }
  ]
}