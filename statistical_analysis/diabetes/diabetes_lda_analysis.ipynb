{
  "nbformat": 4,
  "nbformat_minor": 0,
  "metadata": {
    "colab": {
      "name": "diabetes_lda_analysis.ipynb",
      "version": "0.3.2",
      "provenance": [],
      "include_colab_link": true
    },
    "kernelspec": {
      "name": "python2",
      "display_name": "Python 2"
    }
  },
  "cells": [
    {
      "cell_type": "markdown",
      "metadata": {
        "id": "view-in-github",
        "colab_type": "text"
      },
      "source": [
        "<a href=\"https://colab.research.google.com/github/carvalheirafc/deep_learning_stuff/blob/master/statistical_analysis/diabetes/diabetes_lda_analysis.ipynb\" target=\"_parent\"><img src=\"https://colab.research.google.com/assets/colab-badge.svg\" alt=\"Open In Colab\"/></a>"
      ]
    },
    {
      "metadata": {
        "id": "zWZqvsEcsf1m",
        "colab_type": "code",
        "colab": {}
      },
      "cell_type": "code",
      "source": [
        "import pandas as pd\n",
        "from sklearn.discriminant_analysis import LinearDiscriminantAnalysis"
      ],
      "execution_count": 0,
      "outputs": []
    },
    {
      "metadata": {
        "id": "CzK9vi8Osxhg",
        "colab_type": "code",
        "outputId": "05e71872-f8e3-4e4d-b5b8-52117a2b0fff",
        "colab": {
          "base_uri": "https://localhost:8080/",
          "height": 391
        }
      },
      "cell_type": "code",
      "source": [
        "diabetes = pd.read_csv('diabetes.csv')\n",
        "diabetes.info()"
      ],
      "execution_count": 3,
      "outputs": [
        {
          "output_type": "stream",
          "text": [
            "<class 'pandas.core.frame.DataFrame'>\n",
            "RangeIndex: 767 entries, 0 to 766\n",
            "Data columns (total 17 columns):\n",
            "A              767 non-null float64\n",
            "B              767 non-null float64\n",
            "C              767 non-null int64\n",
            "D              767 non-null float64\n",
            "E              767 non-null float64\n",
            "F              767 non-null float64\n",
            "G              767 non-null float64\n",
            "H              767 non-null float64\n",
            "I              767 non-null float64\n",
            "J              767 non-null float64\n",
            "K              767 non-null float64\n",
            "L              767 non-null float64\n",
            "M              767 non-null float64\n",
            "N              767 non-null float64\n",
            "O              767 non-null float64\n",
            "P              767 non-null float64\n",
            "Diagnóstico    767 non-null float64\n",
            "dtypes: float64(16), int64(1)\n",
            "memory usage: 101.9 KB\n"
          ],
          "name": "stdout"
        }
      ]
    },
    {
      "metadata": {
        "id": "gnvTO3iNuVyf",
        "colab_type": "code",
        "outputId": "30c3243b-a1f5-49f5-916a-30bc0b65272d",
        "colab": {
          "base_uri": "https://localhost:8080/",
          "height": 34
        }
      },
      "cell_type": "code",
      "source": [
        "X_values = diabetes.loc[:, diabetes.columns != 'Diagnóstico'].values\n",
        "Y_target = diabetes['Diagnóstico']\n",
        "\n",
        "print(X_values.shape, Y_target.shape)"
      ],
      "execution_count": 4,
      "outputs": [
        {
          "output_type": "stream",
          "text": [
            "((767, 16), (767,))\n"
          ],
          "name": "stdout"
        }
      ]
    },
    {
      "metadata": {
        "id": "JIzEuiW-vGSr",
        "colab_type": "code",
        "outputId": "7658d411-cc54-430d-f334-d72770c3f8b9",
        "colab": {
          "base_uri": "https://localhost:8080/",
          "height": 258
        }
      },
      "cell_type": "code",
      "source": [
        "lda = LinearDiscriminantAnalysis()\n",
        "lda.fit(X_values, y=Y_target)\n",
        "\n",
        "X_lda = lda.transform(X_values)\n",
        "\n",
        "diabetes_lda_transformed = pd.DataFrame(X_lda)\n",
        "diabetes_lda_transformed.head()"
      ],
      "execution_count": 5,
      "outputs": [
        {
          "output_type": "stream",
          "text": [
            "/usr/local/lib/python2.7/dist-packages/sklearn/discriminant_analysis.py:388: UserWarning: Variables are collinear.\n",
            "  warnings.warn(\"Variables are collinear.\")\n"
          ],
          "name": "stderr"
        },
        {
          "output_type": "execute_result",
          "data": {
            "text/html": [
              "<div>\n",
              "<style scoped>\n",
              "    .dataframe tbody tr th:only-of-type {\n",
              "        vertical-align: middle;\n",
              "    }\n",
              "\n",
              "    .dataframe tbody tr th {\n",
              "        vertical-align: top;\n",
              "    }\n",
              "\n",
              "    .dataframe thead th {\n",
              "        text-align: right;\n",
              "    }\n",
              "</style>\n",
              "<table border=\"1\" class=\"dataframe\">\n",
              "  <thead>\n",
              "    <tr style=\"text-align: right;\">\n",
              "      <th></th>\n",
              "      <th>0</th>\n",
              "    </tr>\n",
              "  </thead>\n",
              "  <tbody>\n",
              "    <tr>\n",
              "      <th>0</th>\n",
              "      <td>-1.625788</td>\n",
              "    </tr>\n",
              "    <tr>\n",
              "      <th>1</th>\n",
              "      <td>2.091193</td>\n",
              "    </tr>\n",
              "    <tr>\n",
              "      <th>2</th>\n",
              "      <td>-1.597725</td>\n",
              "    </tr>\n",
              "    <tr>\n",
              "      <th>3</th>\n",
              "      <td>2.115095</td>\n",
              "    </tr>\n",
              "    <tr>\n",
              "      <th>4</th>\n",
              "      <td>-0.518164</td>\n",
              "    </tr>\n",
              "  </tbody>\n",
              "</table>\n",
              "</div>"
            ],
            "text/plain": [
              "          0\n",
              "0 -1.625788\n",
              "1  2.091193\n",
              "2 -1.597725\n",
              "3  2.115095\n",
              "4 -0.518164"
            ]
          },
          "metadata": {
            "tags": []
          },
          "execution_count": 5
        }
      ]
    }
  ]
}