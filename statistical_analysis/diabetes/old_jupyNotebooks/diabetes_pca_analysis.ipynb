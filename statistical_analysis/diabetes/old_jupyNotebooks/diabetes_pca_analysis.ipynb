{
  "nbformat": 4,
  "nbformat_minor": 0,
  "metadata": {
    "colab": {
      "name": "diabetes_search.ipynb",
      "version": "0.3.2",
      "provenance": [],
      "include_colab_link": true
    },
    "kernelspec": {
      "name": "python3",
      "display_name": "Python 3"
    }
  },
  "cells": [
    {
      "cell_type": "markdown",
      "metadata": {
        "id": "view-in-github",
        "colab_type": "text"
      },
      "source": [
        "<a href=\"https://colab.research.google.com/github/carvalheirafc/deep_learning_stuff/blob/master/diabetes/statistical_analysis/diabetes_pca_analysis.ipynb\" target=\"_parent\"><img src=\"https://colab.research.google.com/assets/colab-badge.svg\" alt=\"Open In Colab\"/></a>"
      ]
    },
    {
      "metadata": {
        "id": "Nz8gqYeidLDt",
        "colab_type": "code",
        "colab": {}
      },
      "cell_type": "code",
      "source": [
        "import pandas as pd\n",
        "import seaborn as sns\n",
        "import matplotlib.pyplot as plt\n",
        "import matplotlib.cm as cm\n",
        "import numpy as np\n",
        "\n",
        "from sklearn.preprocessing import StandardScaler\n",
        "from sklearn.decomposition import PCA\n",
        "from sklearn.decomposition import FastICA\n"
      ],
      "execution_count": 0,
      "outputs": []
    },
    {
      "metadata": {
        "id": "FRQDR6qrdMVL",
        "colab_type": "code",
        "colab": {}
      },
      "cell_type": "code",
      "source": [
        "diabetes = pd.read_excel('diabetes_Ex1.xlsx')\n"
      ],
      "execution_count": 0,
      "outputs": []
    },
    {
      "metadata": {
        "id": "QjM5w9rjdZ1C",
        "colab_type": "code",
        "outputId": "7d8752b2-6593-4eaf-8604-5470fc06d2d2",
        "colab": {
          "base_uri": "https://localhost:8080/",
          "height": 391
        }
      },
      "cell_type": "code",
      "source": [
        "# Clean of the dataset\n",
        "\n",
        "diabetes = diabetes.drop(['Unnamed: 16'], axis=1)\n",
        "diabetes = diabetes[:-8]\n",
        "diabetes['C'] = pd.to_numeric(diabetes['C'])\n",
        "diabetes.info()"
      ],
      "execution_count": 3,
      "outputs": [
        {
          "output_type": "stream",
          "text": [
            "<class 'pandas.core.frame.DataFrame'>\n",
            "RangeIndex: 768 entries, 0 to 767\n",
            "Data columns (total 17 columns):\n",
            "A              768 non-null float64\n",
            "B              768 non-null float64\n",
            "C              768 non-null int64\n",
            "D              768 non-null float64\n",
            "E              768 non-null float64\n",
            "F              768 non-null float64\n",
            "G              768 non-null float64\n",
            "H              768 non-null float64\n",
            "I              768 non-null float64\n",
            "J              768 non-null float64\n",
            "K              768 non-null float64\n",
            "L              768 non-null float64\n",
            "M              768 non-null float64\n",
            "N              768 non-null float64\n",
            "O              768 non-null float64\n",
            "P              768 non-null float64\n",
            "Diagnóstico    768 non-null float64\n",
            "dtypes: float64(16), int64(1)\n",
            "memory usage: 102.1 KB\n"
          ],
          "name": "stdout"
        }
      ]
    },
    {
      "metadata": {
        "id": "ql14fz7wdwj0",
        "colab_type": "code",
        "outputId": "cc01f2c8-074a-4c48-8332-625e0612525a",
        "colab": {
          "base_uri": "https://localhost:8080/",
          "height": 317
        }
      },
      "cell_type": "code",
      "source": [
        "diabetes.describe()\n"
      ],
      "execution_count": 4,
      "outputs": [
        {
          "output_type": "execute_result",
          "data": {
            "text/html": [
              "<div>\n",
              "<style scoped>\n",
              "    .dataframe tbody tr th:only-of-type {\n",
              "        vertical-align: middle;\n",
              "    }\n",
              "\n",
              "    .dataframe tbody tr th {\n",
              "        vertical-align: top;\n",
              "    }\n",
              "\n",
              "    .dataframe thead th {\n",
              "        text-align: right;\n",
              "    }\n",
              "</style>\n",
              "<table border=\"1\" class=\"dataframe\">\n",
              "  <thead>\n",
              "    <tr style=\"text-align: right;\">\n",
              "      <th></th>\n",
              "      <th>A</th>\n",
              "      <th>B</th>\n",
              "      <th>C</th>\n",
              "      <th>D</th>\n",
              "      <th>E</th>\n",
              "      <th>F</th>\n",
              "      <th>G</th>\n",
              "      <th>H</th>\n",
              "      <th>I</th>\n",
              "      <th>J</th>\n",
              "      <th>K</th>\n",
              "      <th>L</th>\n",
              "      <th>M</th>\n",
              "      <th>N</th>\n",
              "      <th>O</th>\n",
              "      <th>P</th>\n",
              "      <th>Diagnóstico</th>\n",
              "    </tr>\n",
              "  </thead>\n",
              "  <tbody>\n",
              "    <tr>\n",
              "      <th>count</th>\n",
              "      <td>768.000000</td>\n",
              "      <td>768.000000</td>\n",
              "      <td>768.000000</td>\n",
              "      <td>768.000000</td>\n",
              "      <td>768.000000</td>\n",
              "      <td>768.000000</td>\n",
              "      <td>768.000000</td>\n",
              "      <td>768.000000</td>\n",
              "      <td>768.000000</td>\n",
              "      <td>768.000000</td>\n",
              "      <td>768.000000</td>\n",
              "      <td>768.000000</td>\n",
              "      <td>768.000000</td>\n",
              "      <td>768.000000</td>\n",
              "      <td>768.000000</td>\n",
              "      <td>768.000000</td>\n",
              "      <td>768.000000</td>\n",
              "    </tr>\n",
              "    <tr>\n",
              "      <th>mean</th>\n",
              "      <td>3.845052</td>\n",
              "      <td>70.178819</td>\n",
              "      <td>120.894531</td>\n",
              "      <td>69.105469</td>\n",
              "      <td>20.536458</td>\n",
              "      <td>79.799479</td>\n",
              "      <td>31.992578</td>\n",
              "      <td>53.938411</td>\n",
              "      <td>49.207031</td>\n",
              "      <td>0.472266</td>\n",
              "      <td>4.789583</td>\n",
              "      <td>4.789583</td>\n",
              "      <td>33.240885</td>\n",
              "      <td>64.813119</td>\n",
              "      <td>49.812500</td>\n",
              "      <td>26859.244792</td>\n",
              "      <td>1.348958</td>\n",
              "    </tr>\n",
              "    <tr>\n",
              "      <th>std</th>\n",
              "      <td>3.369578</td>\n",
              "      <td>15.006546</td>\n",
              "      <td>31.972618</td>\n",
              "      <td>19.355807</td>\n",
              "      <td>15.952218</td>\n",
              "      <td>115.244002</td>\n",
              "      <td>7.884160</td>\n",
              "      <td>21.747627</td>\n",
              "      <td>26.953146</td>\n",
              "      <td>0.332348</td>\n",
              "      <td>3.414410</td>\n",
              "      <td>3.414410</td>\n",
              "      <td>11.760232</td>\n",
              "      <td>21.843993</td>\n",
              "      <td>26.600453</td>\n",
              "      <td>1953.725176</td>\n",
              "      <td>0.476951</td>\n",
              "    </tr>\n",
              "    <tr>\n",
              "      <th>min</th>\n",
              "      <td>0.000000</td>\n",
              "      <td>22.666667</td>\n",
              "      <td>0.000000</td>\n",
              "      <td>0.000000</td>\n",
              "      <td>0.000000</td>\n",
              "      <td>0.000000</td>\n",
              "      <td>0.000000</td>\n",
              "      <td>9.000000</td>\n",
              "      <td>5.000000</td>\n",
              "      <td>0.100000</td>\n",
              "      <td>0.200000</td>\n",
              "      <td>0.200000</td>\n",
              "      <td>21.000000</td>\n",
              "      <td>19.677078</td>\n",
              "      <td>5.000000</td>\n",
              "      <td>23503.000000</td>\n",
              "      <td>1.000000</td>\n",
              "    </tr>\n",
              "    <tr>\n",
              "      <th>25%</th>\n",
              "      <td>1.000000</td>\n",
              "      <td>60.666667</td>\n",
              "      <td>99.000000</td>\n",
              "      <td>62.000000</td>\n",
              "      <td>0.000000</td>\n",
              "      <td>0.000000</td>\n",
              "      <td>27.300000</td>\n",
              "      <td>35.500000</td>\n",
              "      <td>26.000000</td>\n",
              "      <td>0.200000</td>\n",
              "      <td>2.000000</td>\n",
              "      <td>2.000000</td>\n",
              "      <td>24.000000</td>\n",
              "      <td>46.279601</td>\n",
              "      <td>26.000000</td>\n",
              "      <td>25147.000000</td>\n",
              "      <td>1.000000</td>\n",
              "    </tr>\n",
              "    <tr>\n",
              "      <th>50%</th>\n",
              "      <td>3.000000</td>\n",
              "      <td>69.666667</td>\n",
              "      <td>117.000000</td>\n",
              "      <td>72.000000</td>\n",
              "      <td>23.000000</td>\n",
              "      <td>30.500000</td>\n",
              "      <td>32.000000</td>\n",
              "      <td>48.000000</td>\n",
              "      <td>47.500000</td>\n",
              "      <td>0.400000</td>\n",
              "      <td>3.800000</td>\n",
              "      <td>3.800000</td>\n",
              "      <td>29.000000</td>\n",
              "      <td>59.168744</td>\n",
              "      <td>49.000000</td>\n",
              "      <td>26873.000000</td>\n",
              "      <td>1.000000</td>\n",
              "    </tr>\n",
              "    <tr>\n",
              "      <th>75%</th>\n",
              "      <td>6.000000</td>\n",
              "      <td>79.666667</td>\n",
              "      <td>140.250000</td>\n",
              "      <td>80.000000</td>\n",
              "      <td>32.000000</td>\n",
              "      <td>127.250000</td>\n",
              "      <td>36.600000</td>\n",
              "      <td>72.250000</td>\n",
              "      <td>72.250000</td>\n",
              "      <td>0.600000</td>\n",
              "      <td>7.000000</td>\n",
              "      <td>7.000000</td>\n",
              "      <td>41.000000</td>\n",
              "      <td>83.237983</td>\n",
              "      <td>72.000000</td>\n",
              "      <td>28534.500000</td>\n",
              "      <td>2.000000</td>\n",
              "    </tr>\n",
              "    <tr>\n",
              "      <th>max</th>\n",
              "      <td>17.000000</td>\n",
              "      <td>122.000000</td>\n",
              "      <td>199.000000</td>\n",
              "      <td>122.000000</td>\n",
              "      <td>99.000000</td>\n",
              "      <td>846.000000</td>\n",
              "      <td>67.100000</td>\n",
              "      <td>97.000000</td>\n",
              "      <td>97.000000</td>\n",
              "      <td>2.400000</td>\n",
              "      <td>18.600000</td>\n",
              "      <td>18.600000</td>\n",
              "      <td>81.000000</td>\n",
              "      <td>110.527749</td>\n",
              "      <td>97.000000</td>\n",
              "      <td>30241.000000</td>\n",
              "      <td>2.000000</td>\n",
              "    </tr>\n",
              "  </tbody>\n",
              "</table>\n",
              "</div>"
            ],
            "text/plain": [
              "                A           B           C           D           E           F  \\\n",
              "count  768.000000  768.000000  768.000000  768.000000  768.000000  768.000000   \n",
              "mean     3.845052   70.178819  120.894531   69.105469   20.536458   79.799479   \n",
              "std      3.369578   15.006546   31.972618   19.355807   15.952218  115.244002   \n",
              "min      0.000000   22.666667    0.000000    0.000000    0.000000    0.000000   \n",
              "25%      1.000000   60.666667   99.000000   62.000000    0.000000    0.000000   \n",
              "50%      3.000000   69.666667  117.000000   72.000000   23.000000   30.500000   \n",
              "75%      6.000000   79.666667  140.250000   80.000000   32.000000  127.250000   \n",
              "max     17.000000  122.000000  199.000000  122.000000   99.000000  846.000000   \n",
              "\n",
              "                G           H           I           J           K           L  \\\n",
              "count  768.000000  768.000000  768.000000  768.000000  768.000000  768.000000   \n",
              "mean    31.992578   53.938411   49.207031    0.472266    4.789583    4.789583   \n",
              "std      7.884160   21.747627   26.953146    0.332348    3.414410    3.414410   \n",
              "min      0.000000    9.000000    5.000000    0.100000    0.200000    0.200000   \n",
              "25%     27.300000   35.500000   26.000000    0.200000    2.000000    2.000000   \n",
              "50%     32.000000   48.000000   47.500000    0.400000    3.800000    3.800000   \n",
              "75%     36.600000   72.250000   72.250000    0.600000    7.000000    7.000000   \n",
              "max     67.100000   97.000000   97.000000    2.400000   18.600000   18.600000   \n",
              "\n",
              "                M           N           O             P  Diagnóstico  \n",
              "count  768.000000  768.000000  768.000000    768.000000   768.000000  \n",
              "mean    33.240885   64.813119   49.812500  26859.244792     1.348958  \n",
              "std     11.760232   21.843993   26.600453   1953.725176     0.476951  \n",
              "min     21.000000   19.677078    5.000000  23503.000000     1.000000  \n",
              "25%     24.000000   46.279601   26.000000  25147.000000     1.000000  \n",
              "50%     29.000000   59.168744   49.000000  26873.000000     1.000000  \n",
              "75%     41.000000   83.237983   72.000000  28534.500000     2.000000  \n",
              "max     81.000000  110.527749   97.000000  30241.000000     2.000000  "
            ]
          },
          "metadata": {
            "tags": []
          },
          "execution_count": 4
        }
      ]
    },
    {
      "metadata": {
        "id": "FMEB9BQ3pAXf",
        "colab_type": "code",
        "outputId": "791252b7-6e94-4f08-fe70-d57b7e47c3fd",
        "colab": {
          "base_uri": "https://localhost:8080/",
          "height": 376
        }
      },
      "cell_type": "code",
      "source": [
        "pca = PCA()\n",
        "pca.fit(diabetes)\n",
        "\n",
        "plt.plot(np.cumsum(pca.explained_variance_ratio_))\n",
        "plt.xlabel('Components Number')\n",
        "plt.ylabel('Variance Cumulative')\n",
        "plt.title('Cumulative variance per Components')\n",
        "plt.show()"
      ],
      "execution_count": 5,
      "outputs": [
        {
          "output_type": "display_data",
          "data": {
            "image/png": "[encoded data removed]",
            "text/plain": [
              "<Figure size 576x396 with 1 Axes>"
            ]
          },
          "metadata": {
            "tags": []
          }
        }
      ]
    },
    {
      "metadata": {
        "id": "X__ujcHbRnpv",
        "colab_type": "code",
        "outputId": "66fa2f60-b136-428a-ca89-4fd309290a89",
        "colab": {
          "base_uri": "https://localhost:8080/",
          "height": 204
        }
      },
      "cell_type": "code",
      "source": [
        "# Principal component Analysis\n",
        "# We can use only two components to conver more than 99% of the variance values or\n",
        "# Use 6 to reach up to 99.99999% of the values. \n",
        "\n",
        "\n",
        "pca = PCA(n_components = 2)\n",
        "\n",
        "x = diabetes.loc[:, diabetes.columns !='Diagnóstico'].values\n",
        "x = StandardScaler().fit_transform(x)\n",
        "\n",
        "principalComponents = pca.fit_transform(x)\n",
        "\n",
        "diabetes_principal_components= pd.DataFrame(data = principalComponents, columns=\n",
        "                                           ['Component 1', 'Component 2'])\n",
        "\n",
        "\n",
        "diabetes_principal_components = pd.concat([diabetes_principal_components, \n",
        "                                           diabetes[['Diagnóstico']]], axis = 1)\n",
        "diabetes_principal_components.head()\n"
      ],
      "execution_count": 17,
      "outputs": [
        {
          "output_type": "execute_result",
          "data": {
            "text/html": [
              "<div>\n",
              "<style scoped>\n",
              "    .dataframe tbody tr th:only-of-type {\n",
              "        vertical-align: middle;\n",
              "    }\n",
              "\n",
              "    .dataframe tbody tr th {\n",
              "        vertical-align: top;\n",
              "    }\n",
              "\n",
              "    .dataframe thead th {\n",
              "        text-align: right;\n",
              "    }\n",
              "</style>\n",
              "<table border=\"1\" class=\"dataframe\">\n",
              "  <thead>\n",
              "    <tr style=\"text-align: right;\">\n",
              "      <th></th>\n",
              "      <th>Component 1</th>\n",
              "      <th>Component 2</th>\n",
              "      <th>Diagnóstico</th>\n",
              "    </tr>\n",
              "  </thead>\n",
              "  <tbody>\n",
              "    <tr>\n",
              "      <th>0</th>\n",
              "      <td>2.050195</td>\n",
              "      <td>1.153252</td>\n",
              "      <td>2.0</td>\n",
              "    </tr>\n",
              "    <tr>\n",
              "      <th>1</th>\n",
              "      <td>-2.152559</td>\n",
              "      <td>1.739633</td>\n",
              "      <td>1.0</td>\n",
              "    </tr>\n",
              "    <tr>\n",
              "      <th>2</th>\n",
              "      <td>1.859978</td>\n",
              "      <td>2.879599</td>\n",
              "      <td>2.0</td>\n",
              "    </tr>\n",
              "    <tr>\n",
              "      <th>3</th>\n",
              "      <td>-2.052059</td>\n",
              "      <td>-2.349610</td>\n",
              "      <td>1.0</td>\n",
              "    </tr>\n",
              "    <tr>\n",
              "      <th>4</th>\n",
              "      <td>0.603904</td>\n",
              "      <td>-3.731473</td>\n",
              "      <td>2.0</td>\n",
              "    </tr>\n",
              "  </tbody>\n",
              "</table>\n",
              "</div>"
            ],
            "text/plain": [
              "   Component 1  Component 2  Diagnóstico\n",
              "0     2.050195     1.153252          2.0\n",
              "1    -2.152559     1.739633          1.0\n",
              "2     1.859978     2.879599          2.0\n",
              "3    -2.052059    -2.349610          1.0\n",
              "4     0.603904    -3.731473          2.0"
            ]
          },
          "metadata": {
            "tags": []
          },
          "execution_count": 17
        }
      ]
    },
    {
      "metadata": {
        "id": "o3sFIIwfXX7S",
        "colab_type": "code",
        "outputId": "49ee0e06-024d-46ae-815e-d517cb3b35cc",
        "colab": {
          "base_uri": "https://localhost:8080/",
          "height": 497
        }
      },
      "cell_type": "code",
      "source": [
        "fig, ax = plt.subplots(figsize=(8,8))\n",
        "ax.set_xlabel('Principal Component 1')\n",
        "ax.set_ylabel('Principal Component 2')\n",
        "\n",
        "targets = [2, 1]\n",
        "colors = ['g', 'b']\n",
        "for target, color in zip(targets,colors):\n",
        "    \n",
        "    indicesToKeep = diabetes_principal_components['Diagnóstico'] == target\n",
        "    ax.scatter(diabetes_principal_components.loc[indicesToKeep, 'Component 1'], \n",
        "               diabetes_principal_components.loc[indicesToKeep, 'Component 2'], \n",
        "               c = color)\n",
        "\n",
        "    \n",
        "   \n",
        "ax.legend(targets)\n",
        "plt.show()"
      ],
      "execution_count": 8,
      "outputs": [
        {
          "output_type": "display_data",
          "data": {
            "image/png": "[encoded data removed]",
            "text/plain": [
              "<Figure size 576x576 with 1 Axes>"
            ]
          },
          "metadata": {
            "tags": []
          }
        }
      ]
    }
  ]
}