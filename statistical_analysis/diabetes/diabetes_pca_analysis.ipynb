{
  "nbformat": 4,
  "nbformat_minor": 0,
  "metadata": {
    "colab": {
      "name": "diabetes_search.ipynb",
      "version": "0.3.2",
      "provenance": [],
      "include_colab_link": true
    },
    "kernelspec": {
      "name": "python3",
      "display_name": "Python 3"
    }
  },
  "cells": [
    {
      "cell_type": "markdown",
      "metadata": {
        "id": "view-in-github",
        "colab_type": "text"
      },
      "source": [
        "<a href=\"https://colab.research.google.com/github/carvalheirafc/deep_learning_stuff/blob/master/statistical_analysis/diabetes/diabetes_pca_analysis.ipynb\" target=\"_parent\"><img src=\"https://colab.research.google.com/assets/colab-badge.svg\" alt=\"Open In Colab\"/></a>"
      ]
    },
    {
      "metadata": {
        "id": "Nz8gqYeidLDt",
        "colab_type": "code",
        "colab": {}
      },
      "cell_type": "code",
      "source": [
        "import pandas as pd\n",
        "import seaborn as sns\n",
        "import matplotlib.pyplot as plt\n",
        "import matplotlib.cm as cm\n",
        "import numpy as np\n",
        "\n",
        "from sklearn.preprocessing import StandardScaler\n",
        "from sklearn.preprocessing import MinMaxScaler\n",
        "from sklearn.decomposition import PCA\n",
        "from sklearn.decomposition import FastICA\n"
      ],
      "execution_count": 0,
      "outputs": []
    },
    {
      "metadata": {
        "id": "ql14fz7wdwj0",
        "colab_type": "code",
        "outputId": "de3abf8e-8048-4378-85cc-9fea0fc6ac0a",
        "colab": {
          "base_uri": "https://localhost:8080/",
          "height": 297
        }
      },
      "cell_type": "code",
      "source": [
        "diabetes = pd.read_csv('diabetes.csv')\n",
        "diabetes.describe()\n"
      ],
      "execution_count": 2,
      "outputs": [
        {
          "output_type": "execute_result",
          "data": {
            "text/html": [
              "<div>\n",
              "<style scoped>\n",
              "    .dataframe tbody tr th:only-of-type {\n",
              "        vertical-align: middle;\n",
              "    }\n",
              "\n",
              "    .dataframe tbody tr th {\n",
              "        vertical-align: top;\n",
              "    }\n",
              "\n",
              "    .dataframe thead th {\n",
              "        text-align: right;\n",
              "    }\n",
              "</style>\n",
              "<table border=\"1\" class=\"dataframe\">\n",
              "  <thead>\n",
              "    <tr style=\"text-align: right;\">\n",
              "      <th></th>\n",
              "      <th>A</th>\n",
              "      <th>B</th>\n",
              "      <th>C</th>\n",
              "      <th>D</th>\n",
              "      <th>E</th>\n",
              "      <th>F</th>\n",
              "      <th>G</th>\n",
              "      <th>J</th>\n",
              "      <th>M</th>\n",
              "      <th>Diagnóstico</th>\n",
              "    </tr>\n",
              "  </thead>\n",
              "  <tbody>\n",
              "    <tr>\n",
              "      <th>count</th>\n",
              "      <td>768.000000</td>\n",
              "      <td>768.000000</td>\n",
              "      <td>768.000000</td>\n",
              "      <td>768.000000</td>\n",
              "      <td>768.000000</td>\n",
              "      <td>768.000000</td>\n",
              "      <td>768.000000</td>\n",
              "      <td>768.000000</td>\n",
              "      <td>768.000000</td>\n",
              "      <td>768.000000</td>\n",
              "    </tr>\n",
              "    <tr>\n",
              "      <th>mean</th>\n",
              "      <td>3.845052</td>\n",
              "      <td>70.178819</td>\n",
              "      <td>120.894531</td>\n",
              "      <td>69.105469</td>\n",
              "      <td>20.536458</td>\n",
              "      <td>79.799479</td>\n",
              "      <td>31.992578</td>\n",
              "      <td>0.472266</td>\n",
              "      <td>33.240885</td>\n",
              "      <td>1.348958</td>\n",
              "    </tr>\n",
              "    <tr>\n",
              "      <th>std</th>\n",
              "      <td>3.369578</td>\n",
              "      <td>15.006546</td>\n",
              "      <td>31.972618</td>\n",
              "      <td>19.355807</td>\n",
              "      <td>15.952218</td>\n",
              "      <td>115.244002</td>\n",
              "      <td>7.884160</td>\n",
              "      <td>0.332348</td>\n",
              "      <td>11.760232</td>\n",
              "      <td>0.476951</td>\n",
              "    </tr>\n",
              "    <tr>\n",
              "      <th>min</th>\n",
              "      <td>0.000000</td>\n",
              "      <td>22.666667</td>\n",
              "      <td>0.000000</td>\n",
              "      <td>0.000000</td>\n",
              "      <td>0.000000</td>\n",
              "      <td>0.000000</td>\n",
              "      <td>0.000000</td>\n",
              "      <td>0.100000</td>\n",
              "      <td>21.000000</td>\n",
              "      <td>1.000000</td>\n",
              "    </tr>\n",
              "    <tr>\n",
              "      <th>25%</th>\n",
              "      <td>1.000000</td>\n",
              "      <td>60.666667</td>\n",
              "      <td>99.000000</td>\n",
              "      <td>62.000000</td>\n",
              "      <td>0.000000</td>\n",
              "      <td>0.000000</td>\n",
              "      <td>27.300000</td>\n",
              "      <td>0.200000</td>\n",
              "      <td>24.000000</td>\n",
              "      <td>1.000000</td>\n",
              "    </tr>\n",
              "    <tr>\n",
              "      <th>50%</th>\n",
              "      <td>3.000000</td>\n",
              "      <td>69.666667</td>\n",
              "      <td>117.000000</td>\n",
              "      <td>72.000000</td>\n",
              "      <td>23.000000</td>\n",
              "      <td>30.500000</td>\n",
              "      <td>32.000000</td>\n",
              "      <td>0.400000</td>\n",
              "      <td>29.000000</td>\n",
              "      <td>1.000000</td>\n",
              "    </tr>\n",
              "    <tr>\n",
              "      <th>75%</th>\n",
              "      <td>6.000000</td>\n",
              "      <td>79.666667</td>\n",
              "      <td>140.250000</td>\n",
              "      <td>80.000000</td>\n",
              "      <td>32.000000</td>\n",
              "      <td>127.250000</td>\n",
              "      <td>36.600000</td>\n",
              "      <td>0.600000</td>\n",
              "      <td>41.000000</td>\n",
              "      <td>2.000000</td>\n",
              "    </tr>\n",
              "    <tr>\n",
              "      <th>max</th>\n",
              "      <td>17.000000</td>\n",
              "      <td>122.000000</td>\n",
              "      <td>199.000000</td>\n",
              "      <td>122.000000</td>\n",
              "      <td>99.000000</td>\n",
              "      <td>846.000000</td>\n",
              "      <td>67.100000</td>\n",
              "      <td>2.400000</td>\n",
              "      <td>81.000000</td>\n",
              "      <td>2.000000</td>\n",
              "    </tr>\n",
              "  </tbody>\n",
              "</table>\n",
              "</div>"
            ],
            "text/plain": [
              "                A           B           C           D           E           F  \\\n",
              "count  768.000000  768.000000  768.000000  768.000000  768.000000  768.000000   \n",
              "mean     3.845052   70.178819  120.894531   69.105469   20.536458   79.799479   \n",
              "std      3.369578   15.006546   31.972618   19.355807   15.952218  115.244002   \n",
              "min      0.000000   22.666667    0.000000    0.000000    0.000000    0.000000   \n",
              "25%      1.000000   60.666667   99.000000   62.000000    0.000000    0.000000   \n",
              "50%      3.000000   69.666667  117.000000   72.000000   23.000000   30.500000   \n",
              "75%      6.000000   79.666667  140.250000   80.000000   32.000000  127.250000   \n",
              "max     17.000000  122.000000  199.000000  122.000000   99.000000  846.000000   \n",
              "\n",
              "                G           J           M  Diagnóstico  \n",
              "count  768.000000  768.000000  768.000000   768.000000  \n",
              "mean    31.992578    0.472266   33.240885     1.348958  \n",
              "std      7.884160    0.332348   11.760232     0.476951  \n",
              "min      0.000000    0.100000   21.000000     1.000000  \n",
              "25%     27.300000    0.200000   24.000000     1.000000  \n",
              "50%     32.000000    0.400000   29.000000     1.000000  \n",
              "75%     36.600000    0.600000   41.000000     2.000000  \n",
              "max     67.100000    2.400000   81.000000     2.000000  "
            ]
          },
          "metadata": {
            "tags": []
          },
          "execution_count": 2
        }
      ]
    },
    {
      "metadata": {
        "id": "FMEB9BQ3pAXf",
        "colab_type": "code",
        "outputId": "0538962b-369d-4e30-f6f7-790a0bbe60f7",
        "colab": {
          "base_uri": "https://localhost:8080/",
          "height": 376
        }
      },
      "cell_type": "code",
      "source": [
        "pca = PCA()\n",
        "pca.fit(diabetes)\n",
        "\n",
        "plt.plot(np.cumsum(pca.explained_variance_ratio_))\n",
        "plt.xlabel('Components Number')\n",
        "plt.ylabel('Variance Cumulative')\n",
        "plt.title('Cumulative variance per Components')\n",
        "plt.show()"
      ],
      "execution_count": 3,
      "outputs": [
        {
          "output_type": "display_data",
          "data": {
            "image/png": "[encoded data removed]",
            "text/plain": [
              "<Figure size 576x396 with 1 Axes>"
            ]
          },
          "metadata": {
            "tags": []
          }
        }
      ]
    },
    {
      "metadata": {
        "id": "X__ujcHbRnpv",
        "colab_type": "code",
        "outputId": "29f629d5-8b1d-473d-adec-6973ba5ea204",
        "colab": {
          "base_uri": "https://localhost:8080/",
          "height": 204
        }
      },
      "cell_type": "code",
      "source": [
        "# Principal component Analysis\n",
        "# We can use only two components to conver more than 99% of the variance values or\n",
        "# Use 6 to reach up to 99.99999% of the values. \n",
        "\n",
        "\n",
        "pca = PCA(n_components = 4)\n",
        "\n",
        "x = diabetes.loc[:, diabetes.columns !='Diagnóstico'].values\n",
        "x = StandardScaler().fit_transform(x)\n",
        "\n",
        "y = diabetes.loc[:, 'Diagnóstico'].values\n",
        "y = MinMaxScaler().fit_transform(np.reshape(y, (-1, 2)))\n",
        "\n",
        "\n",
        "principalComponents = pca.fit_transform(x)\n",
        "\n",
        "\n",
        "diag = pd.DataFrame(data=y.flatten(), columns=['Diagnóstico'])\n",
        "diabetes_principal_components= pd.DataFrame(data = principalComponents, columns=\n",
        "                                           ['Component 1', \n",
        "                                            'Component 2', \n",
        "                                            'Component 3', \n",
        "                                            'Component 4'])\n",
        "\n",
        "\n",
        "diabetes_principal_components = pd.concat([diabetes_principal_components, \n",
        "                                           diag], axis = 1)\n",
        "diabetes_principal_components.head()\n"
      ],
      "execution_count": 17,
      "outputs": [
        {
          "output_type": "execute_result",
          "data": {
            "text/html": [
              "<div>\n",
              "<style scoped>\n",
              "    .dataframe tbody tr th:only-of-type {\n",
              "        vertical-align: middle;\n",
              "    }\n",
              "\n",
              "    .dataframe tbody tr th {\n",
              "        vertical-align: top;\n",
              "    }\n",
              "\n",
              "    .dataframe thead th {\n",
              "        text-align: right;\n",
              "    }\n",
              "</style>\n",
              "<table border=\"1\" class=\"dataframe\">\n",
              "  <thead>\n",
              "    <tr style=\"text-align: right;\">\n",
              "      <th></th>\n",
              "      <th>Component 1</th>\n",
              "      <th>Component 2</th>\n",
              "      <th>Component 3</th>\n",
              "      <th>Component 4</th>\n",
              "      <th>Diagnóstico</th>\n",
              "    </tr>\n",
              "  </thead>\n",
              "  <tbody>\n",
              "    <tr>\n",
              "      <th>0</th>\n",
              "      <td>-1.492449</td>\n",
              "      <td>1.158003</td>\n",
              "      <td>0.037126</td>\n",
              "      <td>0.454803</td>\n",
              "      <td>1.0</td>\n",
              "    </tr>\n",
              "    <tr>\n",
              "      <th>1</th>\n",
              "      <td>1.338962</td>\n",
              "      <td>-0.658312</td>\n",
              "      <td>-0.645993</td>\n",
              "      <td>0.215662</td>\n",
              "      <td>0.0</td>\n",
              "    </tr>\n",
              "    <tr>\n",
              "      <th>2</th>\n",
              "      <td>-0.367063</td>\n",
              "      <td>1.654389</td>\n",
              "      <td>1.838544</td>\n",
              "      <td>-0.529876</td>\n",
              "      <td>1.0</td>\n",
              "    </tr>\n",
              "    <tr>\n",
              "      <th>3</th>\n",
              "      <td>1.371286</td>\n",
              "      <td>-1.183519</td>\n",
              "      <td>-0.590384</td>\n",
              "      <td>-0.549141</td>\n",
              "      <td>0.0</td>\n",
              "    </tr>\n",
              "    <tr>\n",
              "      <th>4</th>\n",
              "      <td>-1.580676</td>\n",
              "      <td>-2.442761</td>\n",
              "      <td>2.800872</td>\n",
              "      <td>4.125987</td>\n",
              "      <td>1.0</td>\n",
              "    </tr>\n",
              "  </tbody>\n",
              "</table>\n",
              "</div>"
            ],
            "text/plain": [
              "   Component 1  Component 2  Component 3  Component 4  Diagnóstico\n",
              "0    -1.492449     1.158003     0.037126     0.454803          1.0\n",
              "1     1.338962    -0.658312    -0.645993     0.215662          0.0\n",
              "2    -0.367063     1.654389     1.838544    -0.529876          1.0\n",
              "3     1.371286    -1.183519    -0.590384    -0.549141          0.0\n",
              "4    -1.580676    -2.442761     2.800872     4.125987          1.0"
            ]
          },
          "metadata": {
            "tags": []
          },
          "execution_count": 17
        }
      ]
    },
    {
      "metadata": {
        "id": "gP5m-rhQNlQZ",
        "colab_type": "code",
        "colab": {}
      },
      "cell_type": "code",
      "source": [
        "diabetes_principal_components.to_csv('diabetes_pca_result.csv', index=False)"
      ],
      "execution_count": 0,
      "outputs": []
    }
  ]
}