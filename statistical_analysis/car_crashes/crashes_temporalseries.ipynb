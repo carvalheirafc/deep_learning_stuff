{
  "nbformat": 4,
  "nbformat_minor": 0,
  "metadata": {
    "colab": {
      "name": "crashes_temporalseries.ipynb",
      "version": "0.3.2",
      "provenance": [],
      "include_colab_link": true
    },
    "kernelspec": {
      "name": "python3",
      "display_name": "Python 3"
    }
  },
  "cells": [
    {
      "cell_type": "markdown",
      "metadata": {
        "id": "view-in-github",
        "colab_type": "text"
      },
      "source": [
        "<a href=\"https://colab.research.google.com/github/carvalheirafc/deep_learning_stuff/blob/master/crashes_temporalseries.ipynb\" target=\"_parent\"><img src=\"https://colab.research.google.com/assets/colab-badge.svg\" alt=\"Open In Colab\"/></a>"
      ]
    },
    {
      "metadata": {
        "id": "2s7HL4cR_s0p",
        "colab_type": "code",
        "colab": {}
      },
      "cell_type": "code",
      "source": [
        "import pandas as pd\n",
        "import seaborn as sns\n",
        "import matplotlib.pyplot as plt"
      ],
      "execution_count": 0,
      "outputs": []
    },
    {
      "metadata": {
        "id": "mn5xk13N_6gG",
        "colab_type": "code",
        "outputId": "e7e0983f-4712-4fc0-adff-c9c5b01998ca",
        "colab": {
          "base_uri": "https://localhost:8080/",
          "height": 204
        }
      },
      "cell_type": "code",
      "source": [
        "acidentes = pd.read_excel('Acidentes_de_Trânsito_Ex2.xlsx')\n",
        "acidentes = acidentes.dropna()\n",
        "acidentes.columns = ['Serie 1980-90','Meses','Obitos']\n",
        "\n",
        "acidentes.drop(acidentes.index[:1], inplace=True)\n",
        "acidentes.head()\n"
      ],
      "execution_count": 34,
      "outputs": [
        {
          "output_type": "execute_result",
          "data": {
            "text/html": [
              "<div>\n",
              "<style scoped>\n",
              "    .dataframe tbody tr th:only-of-type {\n",
              "        vertical-align: middle;\n",
              "    }\n",
              "\n",
              "    .dataframe tbody tr th {\n",
              "        vertical-align: top;\n",
              "    }\n",
              "\n",
              "    .dataframe thead th {\n",
              "        text-align: right;\n",
              "    }\n",
              "</style>\n",
              "<table border=\"1\" class=\"dataframe\">\n",
              "  <thead>\n",
              "    <tr style=\"text-align: right;\">\n",
              "      <th></th>\n",
              "      <th>Serie 1980-90</th>\n",
              "      <th>Meses</th>\n",
              "      <th>Obitos</th>\n",
              "    </tr>\n",
              "  </thead>\n",
              "  <tbody>\n",
              "    <tr>\n",
              "      <th>2</th>\n",
              "      <td>1</td>\n",
              "      <td>1980-01-01 00:00:00</td>\n",
              "      <td>206</td>\n",
              "    </tr>\n",
              "    <tr>\n",
              "      <th>3</th>\n",
              "      <td>2</td>\n",
              "      <td>1980-02-01 00:00:00</td>\n",
              "      <td>201</td>\n",
              "    </tr>\n",
              "    <tr>\n",
              "      <th>4</th>\n",
              "      <td>3</td>\n",
              "      <td>1980-03-01 00:00:00</td>\n",
              "      <td>230</td>\n",
              "    </tr>\n",
              "    <tr>\n",
              "      <th>5</th>\n",
              "      <td>4</td>\n",
              "      <td>1980-04-01 00:00:00</td>\n",
              "      <td>201</td>\n",
              "    </tr>\n",
              "    <tr>\n",
              "      <th>6</th>\n",
              "      <td>5</td>\n",
              "      <td>1980-05-01 00:00:00</td>\n",
              "      <td>241</td>\n",
              "    </tr>\n",
              "  </tbody>\n",
              "</table>\n",
              "</div>"
            ],
            "text/plain": [
              "  Serie 1980-90                Meses Obitos\n",
              "2             1  1980-01-01 00:00:00    206\n",
              "3             2  1980-02-01 00:00:00    201\n",
              "4             3  1980-03-01 00:00:00    230\n",
              "5             4  1980-04-01 00:00:00    201\n",
              "6             5  1980-05-01 00:00:00    241"
            ]
          },
          "metadata": {
            "tags": []
          },
          "execution_count": 34
        }
      ]
    },
    {
      "metadata": {
        "id": "DVmra-tNy7wt",
        "colab_type": "code",
        "colab": {
          "base_uri": "https://localhost:8080/",
          "height": 153
        },
        "outputId": "357fee83-937e-4800-95ac-8111b1d90f45"
      },
      "cell_type": "code",
      "source": [
        "acidentes['Obitos'] = pd.to_numeric(acidentes['Obitos'])\n",
        "acidentes['Serie 1980-90'] = pd.to_numeric(acidentes['Serie 1980-90']) \n",
        "acidentes.info()"
      ],
      "execution_count": 33,
      "outputs": [
        {
          "output_type": "stream",
          "text": [
            "<class 'pandas.core.frame.DataFrame'>\n",
            "Int64Index: 120 entries, 2 to 121\n",
            "Data columns (total 3 columns):\n",
            "Serie 1980-90    120 non-null int64\n",
            "Meses            120 non-null object\n",
            "Obitos           120 non-null int64\n",
            "dtypes: int64(2), object(1)\n",
            "memory usage: 3.8+ KB\n"
          ],
          "name": "stdout"
        }
      ]
    }
  ]
}